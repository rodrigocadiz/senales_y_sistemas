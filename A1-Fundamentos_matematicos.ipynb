{
 "cells": [
  {
   "cell_type": "markdown",
   "metadata": {
    "nbsphinx": "hidden"
   },
   "source": [
    "# Apéndice 1: Fundamentos matemáticos\n",
    "<div class=\"alert alert-block alert-warning\">\n",
    "Este notebook es parte de una colección de apuntes para el curso IEE2103 Señales y Sistemas, <a href=\"http://https://www.ing.uc.cl/electrica/\">Departamento de Ingeniería Eléctrica</a>, <a href=\"http://www.uc.cl\">Pontificia Universidad Católica de Chile</a>.<br> Profesor: <a href=\"http://www.rodrigocadiz.com\">Rodrigo F. Cádiz</a><br>\n",
    "Consultas y comentarios: <a href=\"mailto:rcadiz@ing.puc.cl\">rcadiz@ing.puc.cl</a>\n",
    "\n",
    "</div>\n",
    "\n",
    "***"
   ]
  },
  {
   "cell_type": "markdown",
   "metadata": {},
   "source": [
    "***\n",
    "## Prerequisitos matemáticos del curso\n",
    "\n",
    "Este curso se basa sobre un conjunto de requisitos matemáticos que los estudiantes deben dominar antes de comprender los conceptos fundamentales del curso. A continuación se presentan algunos de los aspectos más relevantes de cálculo, ecuaciones diferenciales y álgebra lineal que son requisitos para este curso.\n"
   ]
  },
  {
   "cell_type": "markdown",
   "metadata": {},
   "source": [
    "### Integrales de Riemann y Lebesgue"
   ]
  },
  {
   "cell_type": "markdown",
   "metadata": {},
   "source": [
    "### Números complejos\n",
    "\n",
    "Un número complejo $z = x + i y$ tiene parte real $x$ e imaginaria $y$ en el plano cartesiano. El complejo conjugado, denotado por $\\bar{z}$ o $z^{\\ast}$ es  $x - i y$.\n",
    "\n",
    "En forma polar, este mismo número se puede escribir $z = r e^{i\\theta}$ con $r = \\sqrt{x^2 + y^2}$ y $\\theta = \\arctan(\\frac{y}{x})$."
   ]
  },
  {
   "cell_type": "markdown",
   "metadata": {},
   "source": [
    "***\n",
    "<a name=\"exponenciales_complejas\"></a>\n",
    "### Exponenciales complejas\n",
    "\n",
    "Una exponencial compleja en el tiempo $t$ se define mediante la formula\n",
    "\n",
    "$$\n",
    "x(t) = e^{s t} \n",
    "$$\n",
    "\n",
    "donde $s = \\sigma + i \\omega$ es una variable compleja y denota una frecuencia compleja $\\sigma, \\omega \\in \\mathbb{R}$. $i$ es el numero imaginario $(i^2=-1)$. Mediante la [fórmula de Euler](https://en.wikipedia.org/wiki/Euler's_formula) la ecuación anterior se puede escribir como:\n",
    "\n",
    "$$\n",
    "x(t) = e^{(\\sigma + i \\omega) t} = e^{\\sigma t}e^{i \\omega t} = e^{\\sigma t} \\cos(\\omega t) + i e^{\\sigma t} \\sin(\\omega t)\n",
    "$$\n",
    "\n",
    "Las partes real e imaginaria de esta señal se obtienen mediante cosenos y senos con frecuencia angular $\\omega = 2 \\pi f$. Para $t>0$, la variable $e^{\\sigma t}$ es\n",
    "\n",
    "* exponencialmente decayente para $\\sigma < 0$,\n",
    "* constante e igual a 1 para $\\sigma = 0$,\n",
    "* exponencialmente creciente para $\\sigma > 0$,\n",
    "\n",
    "y vice-versa para $t<0$. "
   ]
  },
  {
   "cell_type": "markdown",
   "metadata": {},
   "source": [
    "<a name=\"serie_geometrica\"></a>\n",
    "## Series geométricas\n",
    "\n",
    "La serie geométrica entre 0 y $N$ es:\n",
    "\n",
    "$$ \\sum_{n=0}^{N} r^{n} = \\frac{1 - r^{N+1}}{1 - r} $$\n",
    "\n",
    "Si se toma el intervalo entre $M$ y $N$:\n",
    "\n",
    "$$ \\sum_{n=M}^{N} r^{n} = \\frac{r^{M}(1 - r^{N-M+1})}{1 - r} $$\n",
    "\n"
   ]
  },
  {
   "cell_type": "markdown",
   "metadata": {},
   "source": [
    "## Ecuaciones diferenciales\n",
    "\n",
    "Una ecuación diferencial con coeficientes constantes de primer orden esta dada por:\n",
    "\n",
    "$$ y'(t) + ay(t) = x(t) $$\n",
    "\n",
    "La solución a esta ecuación está compuesta de una solución homogénea y una particular. La solución homogénea está dada por la raíz de la ecuación característica\n",
    "\n",
    "$$ \\lambda + a = 0 $$\n",
    "\n",
    "$$ y_h(t) = e^{\\lambda t} = e^{-a t} $$\n",
    "\n",
    "La solución particular depende de la naturaleza de $x(t)$. Usualmente se asume una función de la forma \n",
    "\n",
    "$$y_p(t) = Ax(t)$$\n",
    "\n",
    "tal que \n",
    "\n",
    "$$ y(t) = y_h(t) + y_p(t) $$\n",
    "\n",
    "Una ecuación diferencial con coeficientes constantes de segundo orden esta dada por:\n",
    "\n",
    "$$ y''(t) + ay'(t) + by(t) = x(t) $$\n",
    "\n",
    "La solución a esta ecuación está compuesta de una solución homogénea y una particular. La solución homogénea está dada por la raíces de la ecuación característica\n",
    "\n",
    "$$ \\lambda^2 + a\\lambda + b = 0 $$\n",
    "\n",
    "Como se trata de una ecuación de segundo orden, las raíces pueden ser reales o bien complejas conjugadas.\n",
    "\n",
    "\n"
   ]
  },
  {
   "cell_type": "markdown",
   "metadata": {},
   "source": [
    "## Ecuaciones de diferencias\n",
    "\n",
    "Una ecuación de diferencias lineal de orden $N$ se puede describir por la relación:\n",
    "\n",
    "\\begin{equation}\n",
    "\\sum_{\\kappa=0}^{N} a_\\kappa \\; y[n-\\kappa] = \\sum_{\\kappa=0}^{M} b_\\kappa \\; x[n-\\kappa]\n",
    "\\end{equation}\n",
    "\n",
    "Vemos que una ecuación de este tipo involucra sólo amplificaciones por coeficientes y retrasos. Dada esta naturaleza, es muy simple implementar este tipo de sistemas en un computador. En este caso tenemos $N$ retrasos de la $y[n]$ y $M$ retrasos de la $x[n]$.\n",
    "\n",
    "Una ecuación de diferencias general de orden $N$ necesita $N$ condiciones iniciales:\n",
    "\n",
    "$$ g[n], g[n-1], \\dots, g[n-N-1]$$\n",
    "\n",
    "evaluadas en $ n = n_0$\n",
    "\n"
   ]
  },
  {
   "cell_type": "markdown",
   "metadata": {},
   "source": [
    "## Producto interno\n",
    "\n",
    "Consideremos dos funciones $f(x):\\mathbb{R}\\rightarrow\\mathbb{C}$ y $g(x):\\mathbb{R}\\rightarrow\\mathbb{C}$ .  Se define el producto interno, o producto punto, entre estas dos funciones como:\n",
    "\n",
    "$$ (f,g) = \\int_{-\\infty}^{\\infty} f(\\xi) g^{*}(\\xi) d\\xi $$\n",
    "\n",
    "donde $g^{*}(x)$ denota al complejo conjugado de $g(x)$. El producto interno se puede entender como una *proyección* de una función sobre la otra. \n",
    "\n",
    "En $ L^2(\\mathbb{R};\\mathbb{C})$ es posible definir el producto interno de tal manera que la norma-$L_2$ de un elemento $f \\in L^2(\\mathbb{R};\\mathbb{C})$  es\n",
    "\n",
    "$$\\| f \\|_{L^2} = \\sqrt{  ( f,f ) }  = \\left( \\int_{\\mathbb{R}}| f (t) |^2 dt   \\right)^{1/2} < \\infty $$\n",
    "\n",
    "Esto es completamente análogo al producto interno y la norma de un vector en un espacio vectorial finito.\n",
    "\n",
    "\n",
    "Cuando el producto interno es cero, significa que las funciones involucradas son ortogonales. Consideremos dos funciones $f(x):\\mathbb{R}\\rightarrow\\mathbb{C}$ y $g(x):\\mathbb{R}\\rightarrow\\mathbb{C}$ .  Se dice que estas funciones son ortogonales si:\n",
    "\n",
    "$$ (f,g) = \\int_{-\\infty}^{\\infty} f(\\xi) g^{*}(\\xi) d\\xi = 0 $$\n",
    "\n",
    "\n",
    "Por ejemplo, las exponenciales complejas $e^{i 2 \\pi n t}$, $n=0,\\pm 1,\\pm 2, \\dots$ son ortogonales, dado que, al integrarlas en el intervalo [0, 1], que corresponde a su período, para dos índices tales que $n \\neq k$:\n",
    "\n",
    "$$ \\int_{0}^{1} e^{i 2 \\pi n t} e^{-i 2 \\pi k t} dt = \\int_{0}^{1} e^{i 2 \\pi (n-k) t} dt = \\frac{1}{i 2 \\pi (n-k)} e^{i 2 \\pi (n-k) t} \\biggr\\rvert_{t=0}^{t=1} $$\n",
    "\n",
    "$$ = \\frac{1}{i 2 \\pi (n-k)} \\left( e^{i 2 \\pi (n-k)} -  e^{i 2 \\pi (n-k) 0}\\right) = \\frac{1}{i 2 \\pi (n-k)} \\left( e^{i 2 \\pi (n-k)} - 1 \\right) $$\n",
    "\n",
    "\n",
    "Dado que $e^{i 2 \\pi q} = 1$ con $q \\in \\mathbb{Z}$, la expresión anterior se reduce a:\n",
    "\n",
    "$$ =  \\frac{1}{i 2 \\pi (n-k)} \\left( 1 - 1 \\right) = 0 $$\n",
    "\n"
   ]
  },
  {
   "cell_type": "markdown",
   "metadata": {},
   "source": [
    "## Teorema de Fubini\n",
    "\n",
    "El [teorema de Fubini (*Wikipedia*)](https://en.m.wikipedia.org/wiki/Fubini%27s_theorem), permite calcular una integral doble de una función de dos variables mediante una integral iterada, es decir:\n",
    "\n",
    "$$ \\int_{X} \\left(\\int_{Y} f(x,y) dy \\right) dx = \\int_{Y} \\left( \\int_{X} f(x,y) dx \\right) dy = \\int_{X \\times Y} f(x,y) d(x,y) $$\n",
    "\n",
    "Este teorema permite cambiar el orden de integración. En esta notación $X$ e $Y$ son las medidas, o espacios de medidas, de las variables $x$ e $y$, y $X \\times Y$ es el producto de ambos espacios de medidas, entendidas en el contexto de las integrales de Lebesgue."
   ]
  },
  {
   "cell_type": "markdown",
   "metadata": {},
   "source": [
    "***\n",
    "<a name=\"formula_suma_Poisson\"></a>\n",
    "## Fórmula de la suma de Poisson\n",
    "\n",
    "Sea una función $f(x)$ cuya Transformada de Fourier $F(u)$ existe. Entonces, la [fórmula de la suma de Poisson (*Wikipedia*)](https://en.m.wikipedia.org/wiki/Poisson_summation_formula), dice que:\n",
    "\n",
    "$$ \\sum_{n=-\\infty}^{\\infty} f(n) = \\sum_{k=-\\infty}^{\\infty} F(k) $$\n",
    "\n",
    "Si $f(x)$ se escala por $a$, aplicando la [propiedad del escalamiento de la Transformada de Fourier](./18-Resumen_de_la_Transformada_de_Fourier_continua.ipynb#escalamiento), la fórmula queda:\n",
    "\n",
    "$$ \\sum_{n=-\\infty}^{\\infty} f(an) = \\frac{1}{a} \\sum_{k=-\\infty}^{\\infty} F\\left(\\frac{k}{a}\\right) $$\n",
    "\n",
    "Si $f(x)$ se desplaza en una cantidad $\\xi$, aplicando la [propiedad del desplazamiento de la Transformada de Fourier](./18-Resumen_de_la_Transformada_de_Fourier_continua.ipynb#desplazamiento), la fórmula queda:\n",
    "\n",
    "$$ \\sum_{n=-\\infty}^{\\infty} f(n+\\xi) = \\sum_{k=-\\infty}^{\\infty} F(k) e^{i 2\\pi \\xi k} $$\n",
    "\n",
    "Con la transformación $f(ax + b)$, la fórmula se transforma en una suma periódica:\n",
    "\n",
    "$$ \\sum_{n=-\\infty}^{\\infty} f(an + b) = \\frac{1}{a} \\sum_{k=-\\infty}^{\\infty} F\\left(\\frac{k}{a}\\right) e^{i 2\\pi \\frac{b}{a} k} $$\n",
    "\n",
    "Esta fórmula también se puede aplicar a [distribuciones](./06-Distribuciones.ipynb). Para el caso de la [distribución delta](./07-Impulso.ipynb), mediante los razonamientos anteriores la fórmula queda:\n",
    "\n",
    "\\begin{equation}\n",
    "\\sum_{n=-\\infty}^{\\infty} \\mathbf{\\delta_{n T}} = \\frac{1}{T}  \\sum_{k=-\\infty}^{\\infty} e^{-i 2\\pi \\frac{k}{T}} \\mathbf{1}  = {\\bot \\!\\! \\bot \\!\\! \\bot}_T\n",
    "\\end{equation}\n",
    "\n",
    "donde ${\\bot \\!\\! \\bot \\!\\! \\bot}_T$ es la [distribución shah de período T](./07-Impulso.ipynb#shah).\n",
    "\n"
   ]
  },
  {
   "cell_type": "markdown",
   "metadata": {
    "nbsphinx": "hidden"
   },
   "source": [
    "<div class=\"alert alert-block alert-warning\">\n",
    "<b>Copyright</b><br>\n",
    "\n",
    "Estos apuntes están licenciados bajo la licencia <a href=\"https://creativecommons.org/licenses/by/4.0/\">Creative Commons Attribution 4.0</a>.<br>\n",
    "Como citar: <i>Rodrigo F. Cádiz, Apuntes de Señales y Sistemas.</i>\n",
    "</div>"
   ]
  }
 ],
 "metadata": {
  "kernelspec": {
   "display_name": "Python 3",
   "language": "python",
   "name": "python3"
  },
  "language_info": {
   "codemirror_mode": {
    "name": "ipython",
    "version": 3
   },
   "file_extension": ".py",
   "mimetype": "text/x-python",
   "name": "python",
   "nbconvert_exporter": "python",
   "pygments_lexer": "ipython3",
   "version": "3.7.7"
  },
  "nbTranslate": {
   "displayLangs": [
    "*"
   ],
   "hotkey": "alt-t",
   "langInMainMenu": true,
   "sourceLang": "en",
   "targetLang": "fr",
   "useGoogleTranslate": true
  }
 },
 "nbformat": 4,
 "nbformat_minor": 1
}
