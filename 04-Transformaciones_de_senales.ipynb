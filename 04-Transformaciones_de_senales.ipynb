{
 "cells": [
  {
   "cell_type": "markdown",
   "metadata": {
    "nbsphinx": "hidden"
   },
   "source": [
    "# Transformaciones de Señales\n",
    "\n",
    "<div class=\"alert alert-block alert-warning\">\n",
    "Este notebook es parte de una colección de apuntes para el curso IEE2103 Señales y Sistemas, <a href=\"http://https://www.ing.uc.cl/electrica/\">Departamento de Ingeniería Eléctrica</a>, <a href=\"http://www.uc.cl\">Pontificia Universidad Católica de Chile</a>.<br> Profesor: <a href=\"http://www.rodrigocadiz.com\">Rodrigo F. Cádiz</a><br>\n",
    "Consultas y comentarios: <a href=\"mailto:rcadiz@ing.puc.cl\">rcadiz@ing.puc.cl</a>\n",
    "\n",
    "</div>\n",
    "\n",
    "***"
   ]
  },
  {
   "cell_type": "markdown",
   "metadata": {},
   "source": [
    "## Operaciones sobre señales\n",
    "\n",
    "Se pueden realizar ciertas operaciones matemáticas sobre las señales, que pueden entenderse como transformaciones de las mismas.\n",
    "\n",
    "***\n",
    "### Superposición\n",
    "Las señales pueden sumarse, lo que se conoce como el principio de superposición.\n",
    "\n",
    "**Ejemplo:**\n",
    "\n",
    "En el siguiente ejemplo las amplitudes de dos señales sinusoidales pueden variarse para ver la señal resultante."
   ]
  },
  {
   "cell_type": "code",
   "execution_count": 1,
   "metadata": {},
   "outputs": [
    {
     "data": {
      "application/vnd.jupyter.widget-view+json": {
       "model_id": "e5705ad130c342c9be8e7f5c856c68ee",
       "version_major": 2,
       "version_minor": 0
      },
      "text/plain": [
       "interactive(children=(FloatSlider(value=1.0, description='A', max=1.0, min=-1.0), FloatSlider(value=0.5, descr…"
      ]
     },
     "metadata": {},
     "output_type": "display_data"
    },
    {
     "data": {
      "text/plain": [
       "<function __main__.plot_func(A, B)>"
      ]
     },
     "execution_count": 1,
     "metadata": {},
     "output_type": "execute_result"
    }
   ],
   "source": [
    "import sympy as sym\n",
    "%matplotlib inline\n",
    "from ipywidgets import interact, interactive, fixed, interact_manual\n",
    "import ipywidgets as widgets\n",
    "\n",
    "sym.init_printing()\n",
    "\n",
    "t = sym.symbols('t', real=True)\n",
    "\n",
    "def plot_func(A,B):    \n",
    "    x = A*sym.cos(3*t) + B*sym.cos(5*t)\n",
    "    sym.plot(x, (t, -5, 5), ylim=[-2, 2], y_ticks=[-2,2], ylabel=r'$x(t)$')\n",
    "\n",
    "\n",
    "slider_A = widgets.FloatSlider(value=1,min=-1.,max=1.,step=0.1)  \n",
    "slider_B = widgets.FloatSlider(value=0.5,min=-1,max=1.,step=0.1)  \n",
    "\n",
    "interact(plot_func, A=slider_A, B=slider_B)"
   ]
  },
  {
   "cell_type": "markdown",
   "metadata": {},
   "source": [
    "***\n",
    "### Desplazamiento  o desfase\n",
    "\n",
    "Las señales pueden desplazarse. El desfase temporal de una señal $x(t)$ en una cantidad $\\tau$ es una operación muy frecuente en el procesamiento de señales. \n",
    "\n",
    "El desfase se define como:\n",
    "\n",
    "$$y(t) = x(t-\\tau)$$\n",
    "con $\\tau \\in \\mathbb{R}$. La señal $x(t)$ se\n",
    "\n",
    "* mueve hacia la derecha (*retrasa*) para $\\tau > 0$\n",
    "* mueve hacia la izquierda (*adelanta*) para $\\tau < 0$\n",
    "\n",
    "Una forma de ver comprobar esto es verificar donde queda el origen de la nueva señal trasladada respecto a la señal original. Para esto, se evalúa el argumento cuando es igual a cero.\n",
    "\n",
    "\n",
    "**Ejemplo:**\n",
    "\n",
    "En el siguiente ejemplo se utilizan desfases de una señal (rect), para construir otra señal compuesta con forma de una escalera. El rect primero se construye como la suma de dos escalones $\\vcenter{{\\large \\ulcorner}}(t)$ desfasados:\n",
    "\n",
    "$$ \\sqcap(t) = \\vcenter{{\\large \\ulcorner}}(t+\\frac{1}{2}) - \\vcenter{{\\large \\ulcorner}}(t-\\frac{1}{2}) $$\n",
    "\n",
    "Y luego la figura en forma de escalera se construye como:\n",
    "\n",
    "$$ \\sqcap(t-\\frac{1}{2}) + \\frac{2}{3}\\sqcap(t-\\frac{3}{2}) + \\frac{1}{3}\\sqcap(t-\\frac{5}{2}) $$"
   ]
  },
  {
   "cell_type": "code",
   "execution_count": 13,
   "metadata": {},
   "outputs": [
    {
     "data": {
      "image/png": "[encoded data removed]",
      "text/plain": [
       "<Figure size 432x288 with 1 Axes>"
      ]
     },
     "metadata": {
      "needs_background": "light"
     },
     "output_type": "display_data"
    }
   ],
   "source": [
    "rect = sym.Heaviside(t + 1/2) - sym.Heaviside(t - 1/2)\n",
    "x = rect.subs(t, t-1/2) + 2/3*rect.subs(t, t-3/2) + 1/3*rect.subs(t, t-5/2)\n",
    "\n",
    "sym.plot(x, (t, -5, 5), ylim=[-0.2, 1.2], ylabel='$x(t)$');"
   ]
  },
  {
   "cell_type": "code",
   "execution_count": 3,
   "metadata": {},
   "outputs": [
    {
     "data": {
      "image/png": "[encoded data removed]",
      "text/plain": [
       "<Figure size 432x288 with 1 Axes>"
      ]
     },
     "metadata": {
      "needs_background": "light"
     },
     "output_type": "display_data"
    }
   ],
   "source": [
    "a = .5\n",
    "y = x.subs(t, a*t)\n",
    "\n",
    "px = sym.plot(x, (t, -3, 7), ylim=[-0.2, 1.2],\n",
    "              ylabel=r'$y(t)$', show=False, line_color='gray')\n",
    "py = sym.plot(y.subs(a, 1/2), (t, -3, 7),\n",
    "              ylim=[-0.2, 1.2], ylabel=r'$y(t)$', show=False)\n",
    "px.extend(py)\n",
    "px.show()"
   ]
  },
  {
   "cell_type": "markdown",
   "metadata": {},
   "source": [
    "**Ejemplo:** \n",
    "    \n",
    "Desplazamiento de una función Gauss."
   ]
  },
  {
   "cell_type": "code",
   "execution_count": 4,
   "metadata": {},
   "outputs": [
    {
     "data": {
      "application/vnd.jupyter.widget-view+json": {
       "model_id": "4a4e520f78d2478c83dc21fc3f1aa560",
       "version_major": 2,
       "version_minor": 0
      },
      "text/plain": [
       "interactive(children=(FloatSlider(value=0.0, description='tau', max=5.0, min=-5.0, step=0.5), Output()), _dom_…"
      ]
     },
     "metadata": {},
     "output_type": "display_data"
    },
    {
     "data": {
      "text/plain": [
       "<function __main__.plot_func(tau)>"
      ]
     },
     "execution_count": 4,
     "metadata": {},
     "output_type": "execute_result"
    }
   ],
   "source": [
    "from ipywidgets import interact, interactive, fixed, interact_manual\n",
    "import ipywidgets as widgets\n",
    "\n",
    "import matplotlib.pyplot as plt\n",
    "%matplotlib inline\n",
    "\n",
    "import numpy as np\n",
    "\n",
    "time = np.linspace(-5,5,100)\n",
    "\n",
    "def plot_func(tau):    \n",
    "    plt.plot(time,np.exp(-np.pi*(time-tau)*(time-tau)))\n",
    "    plt.xlim(-5, 5)\n",
    "    plt.ylim(-0.5, 1.5)  \n",
    "    plt.title(\"Gauss(t - %.1f)\" %(tau))\n",
    "\n",
    "    \n",
    "slider_tau = widgets.FloatSlider(value=0.,min=-5.,max=5.,step=0.5)   \n",
    "\n",
    "interact(plot_func, tau=slider_tau)\n",
    "\n"
   ]
  },
  {
   "cell_type": "markdown",
   "metadata": {},
   "source": [
    "***\n",
    "### Escalamiento\n",
    "\n",
    "El escalamiento temporal de una señal $x(t)$ se define como\n",
    "\n",
    "\\begin{equation}\n",
    "y(t) = x(a \\cdot t)\n",
    "\\end{equation}\n",
    "\n",
    "con $a \\in \\mathbb{R}$. La señal $x(t)$ se\n",
    "\n",
    "* estrecha para $0 < a < 1$\n",
    "* comprime para $a > 1$\n",
    "* se reversa en el tiempo y se escala para $a < 0$\n",
    "\n",
    "Una aplicación de esta operación en el procesamiento de señales y la adaptación de las escalas temporales para señales estándar y el modelamiento del [Efecto doppler](https://en.wikipedia.org/wiki/Doppler_effect).\n",
    "\n",
    "**Ejemplo:**"
   ]
  },
  {
   "cell_type": "code",
   "execution_count": 5,
   "metadata": {},
   "outputs": [
    {
     "data": {
      "image/png": "[encoded data removed]",
      "text/plain": [
       "<Figure size 432x288 with 1 Axes>"
      ]
     },
     "metadata": {
      "needs_background": "light"
     },
     "output_type": "display_data"
    }
   ],
   "source": [
    "a = .5\n",
    "y = x.subs(t, a*t)\n",
    "\n",
    "px = sym.plot(x, (t, -3, 7), ylim=[-0.2, 1.2],\n",
    "              ylabel=r'$y(t)$', show=False, line_color='gray')\n",
    "py = sym.plot(y.subs(a, 1/2), (t, -3, 7),\n",
    "              ylim=[-0.2, 1.2], ylabel=r'$y(t)$', show=False)\n",
    "px.extend(py)\n",
    "px.show()"
   ]
  },
  {
   "cell_type": "markdown",
   "metadata": {},
   "source": [
    "**Ejemplo:**\n",
    "    \n",
    "Escalamiento de una función Gauss."
   ]
  },
  {
   "cell_type": "code",
   "execution_count": 5,
   "metadata": {},
   "outputs": [
    {
     "data": {
      "application/vnd.jupyter.widget-view+json": {
       "model_id": "5f22f1d011dc4a19871251d744989e86",
       "version_major": 2,
       "version_minor": 0
      },
      "text/plain": [
       "interactive(children=(FloatSlider(value=1.0, description='a', max=10.0, min=0.01, step=0.25), Output()), _dom_…"
      ]
     },
     "metadata": {},
     "output_type": "display_data"
    },
    {
     "data": {
      "text/plain": [
       "<function __main__.plot_func(a)>"
      ]
     },
     "execution_count": 5,
     "metadata": {},
     "output_type": "execute_result"
    }
   ],
   "source": [
    "from ipywidgets import interact, interactive, fixed, interact_manual\n",
    "import ipywidgets as widgets\n",
    "\n",
    "import matplotlib.pyplot as plt\n",
    "%matplotlib inline\n",
    "\n",
    "import numpy as np\n",
    "\n",
    "time = np.linspace(-5,5,100)\n",
    "\n",
    "def plot_func(a):    \n",
    "    plt.plot(time,np.exp(-np.pi*(time)*(time)*a))\n",
    "    plt.xlim(-5, 5)\n",
    "    plt.ylim(-0.5, 1.5)    \n",
    "    plt.title(\"Gauss(%.2f t)\" %(a))\n",
    "    \n",
    "slider_a = widgets.FloatSlider(value=1.,min=0.01,max=10.,step=0.25)   \n",
    "\n",
    "interact(plot_func, a=slider_a)\n",
    "\n"
   ]
  },
  {
   "cell_type": "markdown",
   "metadata": {},
   "source": [
    "### Desfase y escalamiento\n",
    "\n",
    "El desfase y escalamiento pueden ocurrir en forma simultánea en una señal.\n",
    "\n",
    "**Ejemplo**\n",
    "\n",
    "Desfase y escalamiento de una función Gauss."
   ]
  },
  {
   "cell_type": "code",
   "execution_count": 6,
   "metadata": {},
   "outputs": [
    {
     "data": {
      "application/vnd.jupyter.widget-view+json": {
       "model_id": "f705ad4a3f9d4aacbe8a989820b347df",
       "version_major": 2,
       "version_minor": 0
      },
      "text/plain": [
       "interactive(children=(FloatSlider(value=1.0, description='a', max=10.0, min=0.01, step=0.25), FloatSlider(valu…"
      ]
     },
     "metadata": {},
     "output_type": "display_data"
    },
    {
     "data": {
      "text/plain": [
       "<function __main__.plot_func(a, tau)>"
      ]
     },
     "execution_count": 6,
     "metadata": {},
     "output_type": "execute_result"
    }
   ],
   "source": [
    "from ipywidgets import interact, interactive, fixed, interact_manual\n",
    "import ipywidgets as widgets\n",
    "\n",
    "import matplotlib.pyplot as plt\n",
    "%matplotlib inline\n",
    "\n",
    "import numpy as np\n",
    "\n",
    "time = np.linspace(-5,5,100)\n",
    "\n",
    "def plot_func(a,tau):    \n",
    "    plt.plot(time,np.exp(-np.pi*(time-tau)*(time-tau)*a))\n",
    "    plt.xlim(-5, 5)\n",
    "    plt.ylim(-0.5, 1.5)    \n",
    "    plt.title(\"Gauss(%.2f (t - %.2f))\" %(a,tau))\n",
    "    \n",
    "slider_a = widgets.FloatSlider(value=1.,min=0.01,max=10.,step=0.25)   \n",
    "slider_tau = widgets.FloatSlider(value=0.,min=-5.,max=5.,step=0.5)   \n",
    "\n",
    "interact(plot_func, a=slider_a, tau=slider_tau)"
   ]
  },
  {
   "cell_type": "markdown",
   "metadata": {},
   "source": [
    "### Reversión desplazada\n",
    "La reversión desplazada de una señal $x(t)$ se define como\n",
    "\n",
    "$$y(t) = x(\\tau - t)$$\n",
    "\n",
    "con $\\tau \\in \\mathbb{R}$. Como $x(\\tau - t) = x(- (t - \\tau))$ esta operación también se puede representar como una reversión temporal seguida de un desfase de $\\tau$ en la señal revertida. Para $\\tau = 0$ esto solo es una reversión temporal de la señal. \n",
    "\n",
    "Esta operación se puede interpretar geométricamente como un espejamiento de la señal $x(t)$ respecto al eje vertical en el instance $t=\\frac{\\tau}{2}$."
   ]
  },
  {
   "cell_type": "code",
   "execution_count": 7,
   "metadata": {},
   "outputs": [
    {
     "data": {
      "image/png": "[encoded data removed]",
      "text/plain": [
       "<Figure size 432x288 with 1 Axes>"
      ]
     },
     "metadata": {
      "needs_background": "light"
     },
     "output_type": "display_data"
    }
   ],
   "source": [
    "tau = -1\n",
    "t = sym.symbols('t', real=True)\n",
    "y = x.subs(t, tau - t)\n",
    "\n",
    "px = sym.plot(x, (t, -5, 5), ylim=[-0.2, 1.2],\n",
    "              ylabel=r'$y(t)$', show=False, line_color='gray')\n",
    "py = sym.plot(y, (t, -5, 5), ylim=[-0.2, 1.2], ylabel=r'$y(t)$', show=False)\n",
    "px.extend(py)\n",
    "px.show()"
   ]
  },
  {
   "cell_type": "markdown",
   "metadata": {},
   "source": [
    "**Ejemplo: Desplazamiento de rects**"
   ]
  },
  {
   "cell_type": "code",
   "execution_count": 8,
   "metadata": {},
   "outputs": [
    {
     "data": {
      "image/png": "[encoded data removed]",
      "text/plain": [
       "<Figure size 432x288 with 1 Axes>"
      ]
     },
     "metadata": {
      "needs_background": "light"
     },
     "output_type": "display_data"
    }
   ],
   "source": [
    "import sympy as sym\n",
    "\n",
    "t = sym.symbols('t')\n",
    "\n",
    "rect = sym.Heaviside(t + 1/2) - sym.Heaviside(t - 1/2)\n",
    "x = rect.subs(t, t-1/2) - 0.5*rect.subs(t, t-3/2) + 0.25*rect.subs(t, t-5/2)\n",
    "\n",
    "sym.plot(x, (t, -1, 5), ylim=[-2, 2]);"
   ]
  },
  {
   "cell_type": "markdown",
   "metadata": {
    "nbsphinx": "hidden"
   },
   "source": [
    "<div class=\"alert alert-block alert-warning\">\n",
    "<b>Copyright</b><br>\n",
    "\n",
    "Estos apuntes están licenciados bajo la licencia <a href=\"https://creativecommons.org/licenses/by/4.0/\">Creative Commons Attribution 4.0</a>.<br>\n",
    "Como citar: <i>Rodrigo F. Cádiz, Apuntes de Señales y Sistemas.</i>\n",
    "</div>"
   ]
  }
 ],
 "metadata": {
  "kernelspec": {
   "display_name": "Python 3",
   "language": "python",
   "name": "python3"
  },
  "language_info": {
   "codemirror_mode": {
    "name": "ipython",
    "version": 3
   },
   "file_extension": ".py",
   "mimetype": "text/x-python",
   "name": "python",
   "nbconvert_exporter": "python",
   "pygments_lexer": "ipython3",
   "version": "3.7.4"
  },
  "nbTranslate": {
   "displayLangs": [
    "*"
   ],
   "hotkey": "alt-t",
   "langInMainMenu": true,
   "sourceLang": "en",
   "targetLang": "fr",
   "useGoogleTranslate": true
  },
  "nteract": {
   "version": "0.14.4"
  }
 },
 "nbformat": 4,
 "nbformat_minor": 1
}
