{
 "cells": [
  {
   "cell_type": "markdown",
   "metadata": {
    "nbsphinx": "hidden"
   },
   "source": [
    "# Transformada inversa de Laplace\n",
    "\n",
    "<div class=\"alert alert-block alert-warning\">\n",
    "Este notebook es parte de una colección de apuntes para el curso IEE2103 Señales y Sistemas, <a href=\"http://https://www.ing.uc.cl/electrica/\">Departamento de Ingeniería Eléctrica</a>, <a href=\"http://www.uc.cl\">Pontificia Universidad Católica de Chile</a>.<br> Profesor: <a href=\"http://www.rodrigocadiz.com\">Rodrigo F. Cádiz</a><br>\n",
    "Consultas y comentarios: <a href=\"mailto:rcadiz@ing.puc.cl\">rcadiz@ing.puc.cl</a>\n",
    "\n",
    "</div>\n",
    "\n",
    "***"
   ]
  },
  {
   "cell_type": "markdown",
   "metadata": {},
   "source": [
    "La Transformada de Laplace inversa debe mapear una transformada de valor complejo $F(s) \\in \\mathbb{C}$ función de la variable compleja $s \\in \\mathbb{C}$ hacia la función compleja $f(t) \\in \\mathbb{C}$ con variable independiente real $t \\in \\mathbb{R}$. Es posible mostrar que la transformada inversa de Laplace $f(t) = \\mathcal{L}^{-1} \\{ F(s) \\}$ está determinada en forma única para un gran número de señales prácticas. \n",
    "\n",
    "\n",
    "## La transformada inversa de Laplace\n",
    "Sea $f$ una función causal con Transformada de Laplace $\\mathcal{L}\\{f\\}$ cuya mínima absisa de convergencia es $\\alpha$, y tal que la función $\\sigma:\\mathbb{R} \\mapsto G(\\sigma+i\\omega) = G(\\sigma+i 2 \\pi u)$ es integrable sobre $\\mathbb{R}$ para todo $\\sigma > \\alpha$. Sea $\\Gamma$ una línea paralela al eje imaginario de absisa  $\\sigma > a$. La Transformada inversa de Laplace está dada por la integral, donde para casi todo valor de $t$, se tiene:\n",
    "\n",
    "\\begin{equation}\n",
    "\\boxed{f(t) =  \\frac{1}{2\\pi i}  \\int_{\\Gamma} \\mathcal{L}\\{f\\}(s) e^{st}ds =  \\frac{1}{2\\pi i}  \\lim_{\\omega \\rightarrow \\infty} \\int_{\\sigma-i\\omega}^{\\sigma+i\\omega} \\mathcal{L}\\{f\\}(s) e^{st}ds }\n",
    "\\end{equation}\n",
    "\n",
    "Esta integral se conoce como la [integral de Fourier-Mellin](https://en.wikipedia.org/wiki/Inverse_Laplace_transform).\n",
    "\n",
    "La prueba de esta fórmula se basa en que para $\\sigma > \\alpha$ podemos escribir\n",
    "\n",
    "$$ \\mathcal{L}\\{f\\}(\\sigma+i 2 \\pi u) =  \\mathcal{F}\\{  f(t) \\vcenter{{\\large \\ulcorner}}(t) e^{-\\sigma t}  \\}(u)  $$\n",
    "\n",
    "y dado que $ u:\\mathbb{R} \\mapsto \\mathcal{L}\\{f\\}(\\sigma+i 2 \\pi u)$ es integrable, la fórmula inversa de Fourier nos da\n",
    "\n",
    "$$ f(t)\\vcenter{{\\large \\ulcorner}}(t) = e^{\\sigma t} \\int_{\\mathbb{R}} \\mathcal{L}\\{ f\\}(\\sigma+i 2\\pi u) e^{i 2\\pi u t}du $$\n",
    "\n",
    "y escribiendo $s=\\sigma + i 2 \\pi u$ , $ds=i 2 \\pi du$ se obtiene\n",
    "\n",
    "$$ f(t)\\vcenter{{\\large \\ulcorner}}(t) = \\frac{1}{2\\pi i} \\lim_{u \\rightarrow \\infty}\\int_{\\sigma - i 2 \\pi u}^{\\sigma + i 2 \\pi u} \\mathcal{L}\\{ f\\}(s) e^{s t}ds=  \\frac{1}{2\\pi i}  \\int_{\\Gamma} \\mathcal{L}\\{f\\}(s) e^{st}ds $$"
   ]
  },
  {
   "cell_type": "markdown",
   "metadata": {},
   "source": [
    "*** \n",
    "## Funciones racionales\n",
    "\n",
    "En muchos casos de interés práctico, por ejemplo en Transformadas de Laplace que describan sistemas lineales descritos por ecuaciones diferenciales, las Transformadas de Laplace se pueden escribir como una función racional, es decir como el cuociente entre un numerador y un denomonador."
   ]
  },
  {
   "cell_type": "markdown",
   "metadata": {},
   "source": [
    "***\n",
    "### Transformada inversa mediante división polinómica\n",
    "\n",
    "Una función racional $F(s)$ se puede escribir en términos de su numerador y denominador polinomiales\n",
    "\n",
    "\\begin{equation}\n",
    "F(s) = \\frac{N(s)}{D(s)} = \\frac{\\sum_{m=0}^{M} \\beta_m s^m}{\\sum_{n=0}^{N} \\alpha_n s^n}\n",
    "\\end{equation}\n",
    "\n",
    "donde $M$, $N$ denotan el orden del numerador y denominador y $\\beta_m$, $\\alpha_n$ su respectivos coeficientes. Se asume que $\\alpha_N \\neq 0$ y que $M \\lt N$. En este caso, se dice que la fracción es **estrictamente propia**. Si $M = N$, se dice que la fracción es propia y $M > N$, la fracción es impropia. \n",
    "\n",
    "En el caso de fracciones propias o impropias, $F(s)$ se puede descomponer mediante una [división polinomial](https://en.wikipedia.org/wiki/Polynomial_long_division) en una suma de potencias de $s$ y una función racional que satisface $M \\leq N$, de la forma:\n",
    "\n",
    "$$ F(s) = k_0 + k_1s+ k_2s^2 + \\dots + k_{m-n}s^{m-n} + \\frac{N(s)}{D(s)} $$"
   ]
  },
  {
   "cell_type": "markdown",
   "metadata": {},
   "source": [
    "***\n",
    "### Transformada inversa mediante fracciones parciales\n",
    "\n",
    "Para fracciones estrictamente propias, en muchos casos es posible aplicar una [descomposición en fracciones parciales](https://en.wikipedia.org/wiki/Partial_fraction_decomposition) de $F(s)$ mediante la fórmula general:\n",
    "\n",
    "\\begin{equation}\n",
    "F(s) = A_0 + \\sum_{\\mu = 1}^{L} \\sum_{\\nu = 1}^{R_\\mu} \\frac{A_{\\mu \\nu}}{(s - s_{\\infty \\mu})^\\nu}\n",
    "\\end{equation}\n",
    "\n",
    "donde $s_{\\infty \\mu}$ denota el $\\mu$-ésimo polo único de $F(s)$, $R_\\mu$ su grado y $L$ número total de polos distintos $\\mu = 1 \\dots L$. \n",
    "\n",
    "Una vez efectuada la descomposición se pueden utilizar las [propiedades de la Transformada de Laplace](./19-Transformada_de_Laplace.ipynb#propiedades) o bien tablas de [pares conocidos](./21-Resumen_de_la_Transformada_de_Laplace.ipynb#pares)."
   ]
  },
  {
   "cell_type": "markdown",
   "metadata": {},
   "source": [
    "***\n",
    "## Teorema de los residuos de Cauchy\n",
    "\n",
    "El [Teorema de los residuos de Cauchy](https://en.wikipedia.org/wiki/Residue_theorem) provee una forma de calcular la integral de Fourier-Mellin. El teorema dice que el valor de una integral de línea de una función holomórfica sobre un contorno cerrado está cada por la suma de sus [residuos](https://en.wikipedia.org/wiki/Residue_(complex_analysis)). El residuo es el valor de la integral de línea para un camino que encierra una singularidad. Consecuentemente, la transformada inversa de Laplace se puede calcular mediante la suma de las contribuciones de los residuos de todos los polos de la función.\n",
    "\n",
    "Formalmente, este teorema plantea que:\n",
    "\n",
    "\\begin{equation}\n",
    "\\oint_{\\gamma} f(s)ds = 2\\pi i \\sum_{k=1}^{N} I(\\gamma,a_k) \\mbox{Res}(f,a_k)\n",
    "\\end{equation}\n",
    "\n",
    "donde $\\gamma$ es el contorno o curva de integración a utilizar, $I$ es una función que determina en qué sentido recorrer el contorno (-1 si es en sentido horario o 1 si es anti-horario), y $\\mbox{Res}(f,a_k)$ son los residuos correspondientes a cada polo $a_k$ de $f$, encerrados por el contorno de integración.\n",
    "\n",
    "El contorno debe necesariamente encerrar los polos de $f$, tal como muestra la siguiente figura.\n",
    "<img src=\"images/Cauchy.png\">\n",
    "\n",
    "\n",
    "El residuo de una función compleja $f(s)$ respecto a un polo $s_0$ de orden $k$, se calcula mediante la siguiente fórmula:\n",
    "\n",
    "\\begin{equation}\n",
    "\\mbox{Res}(f(s),s_0) = \\lim_{s\\rightarrow s_0} \\left( \\frac{1}{(k-1)!}\\frac{d^{k-1}}{ds^{k-1}}(f(s)(s-s_0)^k)\\right)\n",
    "\\end{equation}\n",
    "\n",
    "En el caso de un polo $s_0$ de orden 1, es decir $k=1$, \n",
    "\n",
    "\\begin{equation}\n",
    "\\mbox{Res}(f(s),s_0) = \\lim_{s\\rightarrow s_0} f(s)(s-s_0)\n",
    "\\end{equation}\n",
    "\n",
    "En el caso de un doble polo $s_0$, es decir $k=2$, \n",
    "\\begin{equation}\n",
    "\\mbox{Res}(f(s),s_0) = \\lim_{s\\rightarrow s_0} \\left(\\frac{d}{ds}(f(s)(s-s_0)^2)\\right)\n",
    "\\end{equation}"
   ]
  },
  {
   "cell_type": "markdown",
   "metadata": {},
   "source": [
    "### Aplicación del Teorema de Cauchy al cálculo de transformadas inversas de Laplace\n",
    "<div class=\"alert alert-block alert-info\">\n",
    "Sea $F(s)$ una función compleja. En este caso, tenemos que calcular\n",
    "\n",
    "$$ \\frac{1}{2\\pi i}  \\lim_{\\omega \\rightarrow \\infty} \\int_{\\sigma-i\\omega}^{\\sigma+i\\omega} F(s) e^{st}ds = \\frac{1}{2\\pi i} \\oint_{\\gamma} f(s)ds = \\sum_{k=1}^{N}I(\\gamma,a_k)\\mbox{Res}(f,a_k) $$\n",
    "\n",
    "En este caso tenemos que $f(s) = F(s)e^{st}$. Para escoger el contorno adecuado, se debe elegir la curva donde $F(s)e^{st}$ converga. De acuerdo a eso, podemos aplicar el Teorema de Cauchy. Por lo tanto, para una función sin singularidades con $N$ polos $s_i$, podemos obtener la Transformada inversa mediante la fórmula:\n",
    "\n",
    "\n",
    "$$ \\mathcal{L}^{-1}\\{F(s)\\} = \\sum_{i=1}^{N}\\mbox{Res}(e^{st}F(s),s_i) $$\n",
    "\n",
    "<b>NOTA:</b> En el caso en que $F(s)$ sea una función racional, sabemos que si se trata de una función impropia, apacererán impulsos en la transforada inversa. Esto implica que ya no se trata de funciones que tienen una transformada de Laplace, sino de distribuciones. En general, la fórmula inversa no se puede aplicar tal cual para distribuciones. Por lo tanto, se sugiere que este método se restringa al caso de funciones racionales estrictamente propias.\n",
    "</div>\n",
    "\n",
    "\n",
    "![Elección del contorno en el método de los Residuos](./images/ResiduosLaplace.png) \n",
    "En la figura anterior se ve el caso de una señal derecha que tiene un polo en el eje real. Para aplicar el teorema de los residuos, se debe encerrar el polo mediante una curva hacia la izquierda del eje vertical determinado por $\\Gamma$. Para esto, elegimos un semicírculo de radio $R$, el cual se hace a tender a infinito, conformando el contorno de integración cerrado $\\gamma$. La idea es escoger este semi-círculo de tal manera que la contribución de la integral cuando $R \\rightarrow \\infty$ sea cero. De esta manera, se puede calcular la integral sumando sólo las contribuciones de cada residuo."
   ]
  },
  {
   "cell_type": "markdown",
   "metadata": {},
   "source": [
    "***\n",
    "### Ejemplo: Inversa de $1/s^n$\n",
    "Consideremos $G(s)=\\frac{1}{s^n}$ con $n \\in \\mathbb{N}^{+}$. Vemos que $G$ es holomórfica en todo el plano $s$ excepto en $s=0$, y tiende a cero cuando $|s| \\rightarrow \\infty$. Para todo $\\sigma > 0$, la función\n",
    "\n",
    "$$ \\omega \\in \\mathbb{R} \\mapsto \\frac{1}{|s|^n} = \\frac{1}{(\\sigma^2+\\omega^2)^{n/2}} \\;\\;\\;\\; \\in L^1(\\mathbb{R};\\mathbb{C})  $$\n",
    "\n",
    "por lo que la fórmula inversa de Laplace se puede usar. Tenemos\n",
    "\n",
    "$$  g(t) = \\frac{1}{2\\pi i} \\int_{\\Gamma} \\frac{e^{st}}{s^n}ds   = \\lim_{R \\rightarrow 0}\\frac{1}{2\\pi i} \\oint_{\\mathcal{C}}\\frac{e^{st}}{s^n}ds  $$\n",
    "\n",
    "donde la curva cerrada $\\mathcal{C}$ está compuesta de un segmento vertical para el cual $\\text{Re}\\{s\\} =\\sigma_0 > 0$, completado por un camino semi-circular de radio $R$, y cuya contribución a la integral total se desvance cuando  $R \\rightarrow \\infty$. Para $t<0$, esto es verdaderos si el camino semicircular está contenido en la región  $\\text{Re}\\{s\\} > \\sigma_0$. Dado que la función $e^{st}/s^n$ es holomórfica en esta región, se puede aplicar el teorema de los residuos de Cauchy:\n",
    "\n",
    "$$  g(t) = \\frac{1}{2\\pi i} \\lim_{R \\rightarrow 0} \\underbrace{\\oint_{\\mathcal{C}}\\frac{e^{st}}{s^n}ds}_{=0} = 0  \\;\\;\\; t < 0  $$\n",
    "\n",
    "Para $t>0$, sin embargo, la contribución al segmento semicircular de la integral se desvanece cuando $R \\rightarrow \\infty$ si la curva está contenida en la región $\\text{Re}\\{s\\} < \\sigma_0$. En este caso, la curva cerrada $\\mathcal{C}$ contiene un polo de orden $n$ en $s=0$ de $e^{st}/s^n$. El Teorema de los residuos de Cauchy's determina:\n",
    "\n",
    "\n",
    "$$  g(t) = \\frac{1}{2\\pi i} \\lim_{R \\rightarrow 0} \\underbrace{\\oint_{\\mathcal{C}}\\frac{e^{st}}{s^n}ds}_{=0} = \\text{Res}\\left( \\frac{e^{st}}{s^n},s=0\\right) \\;\\;\\; t > 0  $$\n",
    "\n",
    "Recordando que el residuo de una función con un polo $s=a$ de orden $n$ es\n",
    "\n",
    "$$   \\text{Res}\\left( f(s),s=a\\right) = \\frac{1}{(n-1)!}\\lim_{s \\rightarrow a} \\frac{\\partial^{n-1}}{\\partial s^{n-1}} ( (s-a)^n f(s) ) $$\n",
    "\n",
    "obtenemos\n",
    "$$  g(t) = \\text{Res}\\left( \\frac{e^{st}}{s^n},s=0\\right)= \\frac{t^{n-1} }{(n-1)!} \\;\\;\\; t > 0  $$\n",
    "\n",
    "Concluímos que la transformada inversa de Laplace de $G(s)=\\frac{1}{s^n}$, $n \\in \\mathbb{N^+}$ es\n",
    "\n",
    "$$g(t) = \\frac{ t^{n-1}\\vcenter{{\\large \\ulcorner}}(t)}{(n-1)!}  $$\n",
    "\n",
    "\n",
    "\n"
   ]
  },
  {
   "cell_type": "markdown",
   "metadata": {},
   "source": [
    "***\n",
    "### Ejemplo: Inversa de Laplace de $s/(s^2+4)$\n",
    "Consideremos $F(s) = \\frac{s}{s^2+4}$ para $\\text{Re}\\{s\\}>0$. Su inversa $f$ se puede calcular con la integral de  Fourier-Mellin:\n",
    "\n",
    "$$f(t)= \\frac{1}{2\\pi i} \\int_{\\Gamma} \\frac{s}{s^2+4} e^{st} ds  $$\n",
    "\n",
    "donde $\\Gamma$ es una curva vertical de la forma $s= \\sigma + i \\omega$ , $\\omega \\in (-\\infty,\\infty)$ y $\\sigma > 0$. La función $s\\in\\mathbb{C} \\mapsto se^{st}/(s^2+4) = se^{st}/((s+2i)(s-2i))$ tiene dos polos simples en  $s=\\pm 2i$. La integral se puede evaular considerando un camino cerrado $\\gamma$, y tomando el límite cuando $R \\rightarrow \\infty$. El teorema de Cauchy, para $t>0$ da:\n",
    "\n",
    "$$f(t)= \\frac{1}{2\\pi i} \\int_{\\Gamma} \\frac{s}{s^2+4} e^{st} ds = \\text{Res}( \\frac{s}{s^2+4}e^{st} ,2i) + \\text{Res}( \\frac{s}{s^2+4}e^{st} ,-2i)  = \\frac{1}{2}\\left( e^{2it} + e^{-2it } \\right)$$\n",
    "\n",
    "mientras que para $t<0$, no hay polos al interior de $\\gamma$ y $f(t) = 0$. Finalmente,\n",
    "\n",
    "$$ f(t) = \\cos 2t \\; \\vcenter{{\\large \\ulcorner}}(t) $$\n",
    "\n",
    "\n",
    "\n"
   ]
  },
  {
   "cell_type": "markdown",
   "metadata": {},
   "source": [
    "<div class=\"alert alert-block alert-warning\">\n",
    "<b>Copyright</b><br>\n",
    "\n",
    "Estos apuntes están licenciados bajo la licencia <a href=\"https://creativecommons.org/licenses/by/4.0/\">Creative Commons Attribution 4.0</a>.<br>\n",
    "Como citar: <i>Rodrigo F. Cádiz, Apuntes de Señales y Sistemas.</i>\n",
    "</div>"
   ]
  }
 ],
 "metadata": {
  "@webio": {
   "lastCommId": null,
   "lastKernelId": null
  },
  "kernelspec": {
   "display_name": "Python 3",
   "language": "python",
   "name": "python3"
  },
  "language_info": {
   "codemirror_mode": {
    "name": "ipython",
    "version": 3
   },
   "file_extension": ".py",
   "mimetype": "text/x-python",
   "name": "python",
   "nbconvert_exporter": "python",
   "pygments_lexer": "ipython3",
   "version": "3.7.7"
  },
  "nbTranslate": {
   "displayLangs": [
    "*"
   ],
   "hotkey": "alt-t",
   "langInMainMenu": true,
   "sourceLang": "en",
   "targetLang": "fr",
   "useGoogleTranslate": true
  }
 },
 "nbformat": 4,
 "nbformat_minor": 1
}
