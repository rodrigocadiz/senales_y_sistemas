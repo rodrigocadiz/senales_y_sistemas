{
 "cells": [
  {
   "cell_type": "markdown",
   "metadata": {
    "nbsphinx": "hidden"
   },
   "source": [
    "# Señales y sistemas: contenido\n",
    "\n",
    "<div class=\"alert alert-block alert-warning\">\n",
    "Este notebook es parte de una colección de apuntes para el curso IEE2103 Señales y Sistemas, <a href=\"http://https://www.ing.uc.cl/electrica/\">Departamento de Ingeniería Eléctrica</a>, <a href=\"http://www.uc.cl\">Pontificia Universidad Católica de Chile</a>.<br> Profesor: <a href=\"http://www.rodrigocadiz.com\">Rodrigo F. Cádiz</a><br>\n",
    "Consultas y comentarios: <a href=\"mailto:rcadiz@ing.puc.cl\">rcadiz@ing.puc.cl</a>\n",
    "\n",
    "</div>\n",
    "\n",
    "***"
   ]
  },
  {
   "cell_type": "markdown",
   "metadata": {},
   "source": [
    "## Sistemas LTI continuos\n",
    "- [01 Señales](./01-Senales.ipynb)\n",
    "- [02 Sistemas](./02-Sistemas.ipynb)\n",
    "- [03 Funciones importantes](./03-Funciones_importantes.ipynb)\n",
    "- [04 Transformaciones de funciones](./04-Transformaciones_de_senales.ipynb)\n",
    "- [05 Funciones, espacios y convergencia](./05-Funciones_espacios_y_convergencia.ipynb)\n",
    "- [06 Distribuciones](./06-Distribuciones.ipynb)\n",
    "- [07 Impulso](./07-Impulso.ipynb)\n",
    "- [08 Convolución](./08-Convolucion.ipynb)\n",
    "- [09 Sistemas LTI](./09-Sistemas_LTI.ipynb)\n",
    "- [10 Diagramas de flujo](./10-Diagramas_de_flujo.ipynb)\n",
    "- [11 Variables de estado](./11-Variables_de_estado.ipynb)\n",
    "\n",
    "\n",
    "## Análisis continuo en los dominios de Fourier y Laplace\n",
    "- [12 Series de Fourier](./12-Series_de_Fourier.ipynb)\n",
    "- [13 De las Series a la Transformada de Fourier](./13-De_las_Series_a_la_Transformada_de_Fourier.ipynb)\n",
    "- [14 Transformada de Fourier en $L^1$](./14-Transformada_de_Fourier_en_L1.ipynb)\n",
    "- [15 Transformada de Fourier en $L^2$](./15-Transformada_de_Fourier_en_L2.ipynb)\n",
    "- [16 Transformada de Fourier en $S$](./16-Transformada_de_Fourier_en_S.ipynb)\n",
    "- [17 Transformada de Fourier de Distribuciones](./17-Transformada_de_Fourier_de_Distribuciones.ipynb)\n",
    "- [18 Resumen de la Transformada de Fourier continua](./18-Resumen_de_la_Transformada_de_Fourier_continua.ipynb)\n",
    "- [19 Transformada de Laplace](./19-Transformada_de_Laplace.ipynb)\n",
    "- [20 Transformada de Laplace inversa](./20-Transformada_inversa_de_Laplace.ipynb)\n",
    "- [21 Resumen_de_la_Transformada de Laplace](./21-Resumen_de_la_Transformada_de_Laplace.ipynb)\n",
    "- [22 Respuesta de frecuencia y filtros](./22-Respuesta_de_frecuencia_y_filtros.ipynb)\n",
    "- [23 Muestreo e interpolación](./23-Muestreo_e_interpolacion.ipynb)\n",
    "\n",
    "\n",
    "## Sistemas LTI discretos\n",
    "\n",
    "- [24 Señales discretas](./24-Senales_discretas.ipynb)\n",
    "- [25 Sistemas discretos](./25-Sistemas_discretos.ipynb)\n",
    "- [26 Funciones importantes discretas](./26-Funciones_importantes_discretas.ipynb)\n",
    "- [27 Transformación de señales discretas](./27-Transformaciones_de_senales_discretas.ipynb)\n",
    "- [28 Convolución discreta](./28-Convolucion_discreta.ipynb)\n",
    "- [29 Sistemas LTI discretos](./29-Sistemas_LTI_discretos.ipynb)\n",
    "- [30 Diagramas de flujo discretos](./30-Diagramas_de_flujo_discretos.ipynb)\n",
    "- [31 Variables de estado discretas](./31-Variables_de_estado_discretas.ipynb)\n",
    "\n",
    "\n",
    "## Análisis discreto en los dominios de Fourier y Z\n",
    "\n",
    "- [32 Transformada de Fourier de tiempo discreto (DTFT)](./32-DTFT.ipynb)\n",
    "- [33 Transformada de Fourier de frecuencia discreta (DFFT)](./33-DFFT.ipynb)\n",
    "- [34 Transformada de Fourier discreta (DFT)](./34-DFT.ipynb)\n",
    "- [35 Propiedades de la DFT](./35-Propiedades_de_la_DFT.ipynb)\n",
    "- [36 Resolución de frecuencia, apodización y derrame](./36-Apodizacion_y_Derrame.ipynb)\n",
    "- [37 Transformada rápida de Fourier (FFT)](./37-FFT.ipynb)\n",
    "- [38 Transformada Z](./38-Transformada_Z.ipynb)\n",
    "- [39 Propiedades de la Transformada Z](./39-Propiedades_de_la_Transformada_Z.ipynb)\n",
    "- [40 Transformada Z inversa](./40-Transformada_Z_inversa.ipynb)\n",
    "- [41 Respuesta de frecuencia discreta y filtros](./41-Respuesta_de_frecuencia_discreta_y_filtros.ipynb)\n",
    "\n",
    "\n",
    "## Apéndices\n",
    "\n",
    "- [1 Fundamentos matematicos previos](./A1-Fundamentos_matematicos)\n",
    "- [2 Como trabajar con audio](./A2-Audio.ipynb)"
   ]
  },
  {
   "cell_type": "markdown",
   "metadata": {},
   "source": [
    "***\n",
    "### Instalación\n",
    "\n",
    "Esta colección de jupyter notebooks contienen una gran variedad de ejemplos en Python. Para poder utilizarlos se recomienda instalar virtualenv y las siguientes librerías:\n",
    "- numpy\n",
    "- scipy\n",
    "- matplotlib\n",
    "- jupyter notebook\n",
    "\n",
    "***\n",
    "\n",
    "### Fuentes\n",
    "\n",
    "Algunos ejemplos y material de este notebook, están basados en las siguientes fuentes:\n",
    "- [Signals and Systems by Sascha Spors](https://github.com/spatialaudio/signals-and-systems-lecture)\n",
    "- [scikit-dsp-comm Jupyter Notebook Examples](https://scikit-dsp-comm.readthedocs.io/en/latest/nb_examples.html)\n",
    "- [DSPIllustrations](https://dspillustrations.com)"
   ]
  },
  {
   "cell_type": "markdown",
   "metadata": {
    "nbsphinx": "hidden"
   },
   "source": [
    "<div class=\"alert alert-block alert-warning\">\n",
    "<b>Copyright</b><br>\n",
    "\n",
    "Estos apuntes están licenciados bajo la licencia <a href=\"https://creativecommons.org/licenses/by/4.0/\">Creative Commons Attribution 4.0</a>.<br>\n",
    "Como citar: <i>Rodrigo F. Cádiz, Apuntes de Señales y Sistemas.</i>\n",
    "</div>"
   ]
  }
 ],
 "metadata": {
  "kernelspec": {
   "display_name": "Python 3",
   "language": "python",
   "name": "python3"
  },
  "language_info": {
   "codemirror_mode": {
    "name": "ipython",
    "version": 3
   },
   "file_extension": ".py",
   "mimetype": "text/x-python",
   "name": "python",
   "nbconvert_exporter": "python",
   "pygments_lexer": "ipython3",
   "version": "3.7.7"
  },
  "nbTranslate": {
   "displayLangs": [
    "*"
   ],
   "hotkey": "alt-t",
   "langInMainMenu": true,
   "sourceLang": "en",
   "targetLang": "fr",
   "useGoogleTranslate": true
  }
 },
 "nbformat": 4,
 "nbformat_minor": 1
}
