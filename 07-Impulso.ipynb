{
 "cells": [
  {
   "cell_type": "markdown",
   "metadata": {
    "nbsphinx": "hidden"
   },
   "source": [
    "# El impulso: la distribución delta de Dirac\n",
    "\n",
    "<div class=\"alert alert-block alert-warning\">\n",
    "Este notebook es parte de una colección de apuntes para el curso IEE2103 Señales y Sistemas, <a href=\"http://https://www.ing.uc.cl/electrica/\">Departamento de Ingeniería Eléctrica</a>, <a href=\"http://www.uc.cl\">Pontificia Universidad Católica de Chile</a>.<br> Profesor: <a href=\"http://www.rodrigocadiz.com\">Rodrigo F. Cádiz</a><br>\n",
    "Consultas y comentarios: <a href=\"mailto:rcadiz@ing.puc.cl\">rcadiz@ing.puc.cl</a>\n",
    "\n",
    "</div>\n",
    "\n",
    "***"
   ]
  },
  {
   "cell_type": "markdown",
   "metadata": {},
   "source": [
    "## El impulso como una distribución\n",
    "\n",
    "Una vez conocido los aspectos básicos de la [teoría de distribuciones](./06-Distribuciones.ipynb), es ahora posible entrar a detallar los aspectos de la distribución $\\delta$, también conocido como impulso.\n",
    "\n",
    "Tal como se expuso anteriormente, el impulso no es una función propiamente tal. Esto implica que la notacion, usualmente utilizada\n",
    "\n",
    "$$\\delta(t)$$\n",
    "\n",
    "no tiene sentido, ya que no es posible \"evaluar\" el impulso en el tiempo $t$. Tampoco tiene sentido escribir\n",
    "\n",
    "$$\\delta(t-\\tau),$$ por la misma razón.\n",
    "\n",
    "Es preferible la notación $\\delta_{\\tau}$ para referirse al impulso desplazado en una cantidad $\\tau$, siempre entendiendo esto en el sentido de las distribuciones.\n"
   ]
  },
  {
   "cell_type": "markdown",
   "metadata": {},
   "source": [
    "### La distribución delta de Dirac $\\delta$\n",
    "<div class=\"alert alert-block alert-info\">\n",
    "La distribución delta de Dirac $\\mathbf{\\delta}$ se define que tal forma que, para toda función $\\varphi \\in \\mathcal{S}(\\mathbb{R};\\mathbb{C})$:\n",
    "\n",
    "$$\n",
    "\\langle \\mathbf{\\delta}, \\varphi \\rangle = \\varphi(0) \\;\\;\\; \\in \\mathbb{C} \n",
    "$$\n",
    "\n",
    "y la distribución delta de Dirac $\\mathbf{\\delta_a}$ en un punto $a \\in \\mathbb{R}$ se define como:\n",
    "\n",
    "$$\\langle \\mathbf{\\delta_a}, \\varphi \\rangle = \\varphi(a) \\;\\;\\; \\in \\mathbb{C}  \\;\\;\\;\\; \\forall \\varphi \\in \\mathcal{S}(\\mathbb{R};\\mathbb{C})\n",
    "$$\n",
    "\n",
    "<a name=\"cedazo\"></a>\n",
    "Ambas igualdades anteriores se conocen como la ***propiedad del cedazo*** del impulso.\n",
    "</div>\n",
    "\n",
    "### Desplazamiento de un impulso\n",
    "Un impulso desplazado en $a$, de acuerdo a las operaciones sobre distribuciones, debe satisfacer:\n",
    " \n",
    "$$  \\langle  \\tau_a \\mathbf{ (\\delta) }, \\varphi \\rangle = \\langle \\mathbf{\\delta}, \\tau_{-a} \\varphi  \\rangle   = \\varphi(a)     \\;\\;\\;\\; \\forall \\varphi \\in \\mathcal{S}(\\mathbb{R};\\mathbb{C})   $$\n",
    "\n",
    "lo que asocia a cualquier $\\varphi \\in  \\mathcal{S}(\\mathbb{R};\\mathbb{C}) $ su valor en $t=a$. Se obtiene entonces que $$  \\tau_a  \\mathbf{ (\\delta)} = \\mathbf{\\delta_{a}} $$\n",
    " \n",
    "<a name=\"escalamiento\"></a> \n",
    "### Escalamiento de un impulso\n",
    "Un impulso escalado en $a$, de acuerdo a las operaciones sobre distribuciones, debe satisfacer:\n",
    " \n",
    "$$  \\langle  \\partial_a \\mathbf{ (\\delta) }, \\varphi \\rangle = \\langle \\mathbf{\\delta}, \\frac{1}{|a|}\\partial_{\\frac{1}{a}} \\varphi  \\rangle   = \\frac{1}{|a|}\\varphi(\\frac{0}{a}) = \\frac{1}{|a|}\\varphi(0)    \\;\\;\\;\\; \\forall \\varphi \\in \\mathcal{S}(\\mathbb{R};\\mathbb{C})   $$\n",
    " \n",
    "lo que asocia a cualquier $\\varphi \\in  \\mathcal{S}(\\mathbb{R};\\mathbb{C}) $ su valor en $t=a$. Se obtiene entonces que $$  \\partial_a  \\mathbf{ (\\delta)} = \\frac{1}{|a|}\\mathbf{\\delta} $$\n",
    "\n",
    "### Derivada del impulso\n",
    "La derivada de la distribución $\\mathbf{\\delta}$ satisface:\n",
    " \n",
    "$$  \\langle  \\mathbf{ \\delta }', \\varphi \\rangle = \\langle \\mathbf{\\delta}, - \\varphi'  \\rangle   = -\\varphi'(0)     \\;\\;\\;\\; \\forall \\varphi \\in \\mathcal{S}(\\mathbb{R};\\mathbb{C}) $$\n",
    " \n",
    "lo que asociada a cualquier $\\varphi \\in  \\mathcal{S}(\\mathbb{R};\\mathbb{C}) $ el valor -$\\varphi'(0)$.\n",
    " \n",
    "\n",
    "### Relación entre el impulso y el escalón\n",
    "Consideremos la distribución de Heavyside $\\mathbf{u}$. Utilizando la definición de la derivada de una distribución, su derivada $\\mathbf{u}'$ está dada por:\n",
    " \n",
    "$$  \\langle  \\mathbf{ u }', \\varphi \\rangle = \\langle \\mathbf{u}, - \\varphi'  \\rangle   = -\\int_{0}^{\\infty}\\frac{d\\varphi(t)}{dt} = \\varphi(0)    \\;\\;\\;\\; \\forall \\varphi \\in \\mathcal{S}(\\mathbb{R};\\mathbb{C})   $$\n",
    " \n",
    "<font color=\"red\">¡¡Vemos entonces que la derivada del escalón es la distribución delta!!</font>\n",
    " \n",
    "$$  \\langle  \\mathbf{ u }', \\varphi \\rangle =  \\varphi(0)   =  \\langle  \\mathbf{ \\delta }, \\varphi \\rangle \\;\\;\\;\\; \\forall \\varphi \\in \\mathcal{S}(\\mathbb{R};\\mathbb{C})   $$\n",
    "\n",
    "$$  \\mathbf{ u }'= \\mathbf{ \\delta }   $$\n",
    "\n",
    "Esta última ecuación solo tiene sentido en términos de la teoría de distribuciones.\n",
    "\n",
    "### Relación entre el impulso y el signo\n",
    "Consideremos la distribución $\\mathbf{\\mbox{sgn}}$. Aplicando la diferenciación de distribuciones, tenemos:\n",
    " \n",
    " $$  \\langle  \\mathbf{ \\mbox{sgn} }', \\varphi \\rangle = \\langle \\mathbf{\\mbox{sgn}}, - \\varphi'  \\rangle   = -\\int_{0}^{\\infty}\\frac{d\\varphi(t)}{dt} + \\int_{-\\infty}^{0}\\frac{d\\varphi(t)}{dt} = 2\\varphi(0)    \\;\\;\\;\\; \\forall \\varphi \\in \\mathcal{S}(\\mathbb{R};\\mathbb{C})   $$\n",
    " \n",
    "Vemos que:\n",
    " \n",
    "$$\\mathbf{\\mbox{sgn}}' =  2 \\mathbf{\\delta}$$\n",
    "  \n",
    "Esto se podría haber obtenido directamente notando que $\\mathbf{\\mbox{sign}}= 2 \\mathbf{u} - \\mathbf {1}$ y que $\\mathbf{1}'=\\mathbf{0}$.\n",
    " \n",
    "<a name=\"propiedad_muestreo\"></a>\n",
    "### Multiplicación del impulso por una función\n",
    "Consideremos una función temperada $f \\in \\mathcal{O}_M(\\mathbb{R};\\mathbb{C})$ y $\\mathbf{\\delta_a}$, el impulso en el punto $a$. La distribución $f\\mathbf{\\delta_a}$ es tal que:\n",
    "\n",
    "$$\\langle f \\mathbf{\\delta_a}, \\varphi \\rangle =  \\langle  \\mathbf{\\delta_a}, f \\varphi \\rangle = f(a) \\varphi(a)  \\;\\;\\;\\; \\forall \\varphi \\in \\mathcal{S}(\\mathbb{R};\\mathbb{C}) $$\n",
    "\n",
    "por lo obtenemos\n",
    "\n",
    "$$ f \\mathbf{\\delta_a} = f(a) \\mathbf{\\delta_a}  $$\n",
    "\n",
    "En particular, para $a=0$:\n",
    "\n",
    "$$ f \\mathbf{\\delta} = f(0) \\mathbf{\\delta}  $$\n",
    "\n",
    "\n",
    "Este resultado se conoce como la ***propiedad de muestreo*** del impulso. Si se multiplica el impulso por una función, se obtiene la función evaluada en un punto específico multiplicado por el impulso."
   ]
  },
  {
   "cell_type": "markdown",
   "metadata": {},
   "source": [
    "<a name=\"shah\"></a>\n",
    "***\n",
    "### La distribución de muestreo Shah\n",
    "\n",
    "La [propiedad del muestreo del impulso](#propiedad_muestreo) es muy útil para [muestrear señales continuas](./23-Muestreo_e_interpolacion.ipynb), esto es transformar una señal continua en otra discreta, sin perder información. Esto se puede hacer mediante el [teorema del muestreo](./23-Muestreo_e_interpolacion.ipynb#teorema_del_muestreo). Para estos efectos, es útil contar con una distribución que permita tomar muestras igualmente espaciadas de una función.\n",
    "                    \n",
    "Sea $a \\in \\mathbb{R}_{>0}$. La distribución Shah, también llamada [comb de Dirac](https://en.wikipedia.org/wiki/Dirac_comb) de período $T$ se define como:\n",
    "\n",
    "\\begin{equation}\n",
    "{\\bot \\!\\! \\bot \\!\\! \\bot}_T = \\sum_{n=-\\infty}^{\\infty} \\mathbf{\\delta_{nT}}\n",
    "\\end{equation}\n",
    "\n",
    "tal que:\n",
    "\\begin{equation}\n",
    "\\langle {\\bot \\!\\! \\bot \\!\\! \\bot}_T, \\varphi \\rangle =  \\biggr\\langle \\sum_{n=-\\infty}^{\\infty} \\delta_{nT}, \\varphi \\biggr\\rangle = \\sum_{n=-\\infty}^{\\infty} \\langle \\delta_{nT}, \\varphi \\rangle = \\sum_{n=-\\infty}^{\\infty} \\varphi(nT)  \\;\\;\\;\\; \\forall \\; \\varphi \\in  S(\\mathbb{R};\\mathbb{C})\n",
    "\\end{equation}\n",
    "\n"
   ]
  },
  {
   "cell_type": "markdown",
   "metadata": {},
   "source": [
    "***\n",
    "## Cambios de variables en el Impulso\n",
    "\n",
    "Nos interesa determinar el significado de \"evaluar\" un impulso ya no en la variable independiente $x$ sino en una función $w(x)$, en el caso específico en que $w(x)$ sea una función monotónica y que tenga una sola raíz en $x_0$.  Es decir, abusando un poco de la notación, nos interesa determinar que sería\n",
    "\n",
    "$$  \\delta(w) $$\n",
    "\n",
    "Utilzando el resultado de un [cambio de variables de una distribución temperada](./06-Distribuciones.ipynb#cambios_de_variables), podemos calcular para el caso del impulso que:\n",
    "\n",
    "$$\\langle \\delta(w), \\varphi \\rangle = \\langle \\delta,\\frac{\\varphi(w^{-1})}{|w'(w^{-1})|} \\rangle = \\frac{\\varphi(w^{-1}(0))}{|w'(w^{-1}(0))|}  $$\n",
    "\n",
    "$$ = \\frac{\\varphi(x_0)}{|w'(x_0)|} = \\frac{1}{|w'(x_0)|}\\langle \\delta_{x_0}, \\varphi \\rangle $$\n",
    "\n",
    "Concluimos que\n",
    "\n",
    "\n",
    "$$ \\boxed{\\delta(w) = \\frac{\\delta_{x_0}}{|w'(x_0)|}} $$"
   ]
  },
  {
   "cell_type": "markdown",
   "metadata": {},
   "source": [
    "***\n",
    "## Algunas observaciones\n",
    "\n",
    "Es claro que el impulso no es una función, sino más bien una función generalizada o distribución. Sin embargo, muchos autores, aún declarando explícitamente este hecho, en la práctica utilizan el impulso como una función, tomando ciertas precauciones.\n",
    "\n",
    "Por ejemplo, la célebre \"propiedad del cedazo\", suele escribirse como:\n",
    "\n",
    "$$ \\int_{-\\infty}^{\\infty} f(x)\\delta(x) = f(0)$$\n",
    "\n",
    "O por ejemplo, se dice que el impulso tiene \"área\" 1, porque:\n",
    "\n",
    "$$ \\int_{-\\infty}^{\\infty} \\delta(x) = 1$$\n",
    "\n",
    "Esta notación es una extensión de la definición de una [distribución de una función temperada generica](./06-Distribuciones.ipynb#distribucion_temperada_generica). Pero es claro que el $\\delta$ no es integrable, y matemáticamente, lo anterior no tiene sentido.\n",
    "\n",
    "Incluso, algunos ambientes computacionales, como el de computación simbólica de Python, permiten calcular cosas como éstas:\n"
   ]
  },
  {
   "cell_type": "code",
   "execution_count": 2,
   "metadata": {},
   "outputs": [
    {
     "data": {
      "text/latex": [
       "$\\displaystyle f{\\left(0 \\right)}$"
      ],
      "text/plain": [
       "f(0)"
      ]
     },
     "execution_count": 2,
     "metadata": {},
     "output_type": "execute_result"
    }
   ],
   "source": [
    "import sympy as sym\n",
    "t = sym.symbols('t')\n",
    "delta = sym.DiracDelta(t)\n",
    "f = sym.Function('f')(t)\n",
    "sym.integrate(delta*f, (t, -sym.oo, sym.oo))"
   ]
  },
  {
   "cell_type": "markdown",
   "metadata": {},
   "source": [
    "<a name=\"cedazo\"></a>\n",
    "Es mucho mejor utilizar la notación de las distribuciones, lo que impide cometer inexactitudes matemáticas como las anteriores. Ambas ideas se pueden expresar fácilmente y claramente mediante distribuciones. \n",
    "\n",
    "La propiedad del cedazo es:\n",
    "\n",
    "$$ \\langle \\delta, f \\rangle = f(0)$$"
   ]
  },
  {
   "cell_type": "markdown",
   "metadata": {
    "nbsphinx": "hidden"
   },
   "source": [
    "<div class=\"alert alert-block alert-warning\">\n",
    "<b>Copyright</b><br>\n",
    "\n",
    "Estos apuntes están licenciados bajo la licencia <a href=\"https://creativecommons.org/licenses/by/4.0/\">Creative Commons Attribution 4.0</a>.<br>\n",
    "Como citar: <i>Rodrigo F. Cádiz, Apuntes de Señales y Sistemas.</i>\n",
    "</div>"
   ]
  }
 ],
 "metadata": {
  "kernelspec": {
   "display_name": "Python 3",
   "language": "python",
   "name": "python3"
  },
  "language_info": {
   "codemirror_mode": {
    "name": "ipython",
    "version": 3
   },
   "file_extension": ".py",
   "mimetype": "text/x-python",
   "name": "python",
   "nbconvert_exporter": "python",
   "pygments_lexer": "ipython3",
   "version": "3.7.3"
  },
  "nbTranslate": {
   "displayLangs": [
    "*"
   ],
   "hotkey": "alt-t",
   "langInMainMenu": true,
   "sourceLang": "en",
   "targetLang": "fr",
   "useGoogleTranslate": true
  },
  "nteract": {
   "version": "0.14.4"
  }
 },
 "nbformat": 4,
 "nbformat_minor": 1
}
