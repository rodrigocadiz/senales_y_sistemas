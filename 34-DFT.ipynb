{
 "cells": [
  {
   "cell_type": "markdown",
   "metadata": {
    "nbsphinx": "hidden"
   },
   "source": [
    "# Transformada de Fourier discreta (DFT)\n",
    "\n",
    "<div class=\"alert alert-block alert-warning\">\n",
    "Este notebook es parte de una colección de apuntes para el curso IEE2103 Señales y Sistemas, <a href=\"http://https://www.ing.uc.cl/electrica/\">Departamento de Ingeniería Eléctrica</a>, <a href=\"http://www.uc.cl\">Pontificia Universidad Católica de Chile</a>.<br> Profesor: <a href=\"http://www.rodrigocadiz.com\">Rodrigo F. Cádiz</a><br>\n",
    "Consultas y comentarios: <a href=\"mailto:rcadiz@ing.puc.cl\">rcadiz@ing.puc.cl</a>\n",
    "\n",
    "</div>\n",
    "\n",
    "***"
   ]
  },
  {
   "cell_type": "markdown",
   "metadata": {
    "lang": "es"
   },
   "source": [
    "## Definición\n",
    "\n",
    "La [transformada de Fourier discreta](https://en.wikipedia.org/wiki/Discrete_Fourier_transform) (DFT) se define como\n",
    "\n",
    "\\begin{equation}\n",
    "\\boxed{\\tilde{F}[k] = \\frac{1}{N} \\sum_{n=0}^{N-1} \\tilde{f}[n] \\; e^{-i k \\frac{2 \\pi}{N} n}}\n",
    "\\end{equation}\n",
    "\n",
    "donde $N \\in \\mathbb{N}$ denota la longitud de la DFT y $k \\in \\mathbb{Z}$ la frecuencia discreta. La DFT asigna una señal discreta $\\tilde{f}[n]$ a su espectro discreto $\\tilde{F}[k] = \\text{DFT}_N \\{ \\tilde{f}[n] \\}$. Dado que la base $e^{-i k \\frac{2 \\pi}{N} n}$ es periódica de período $N$ con respecto a la frecuencia discreta $k$, el espectro $F[k]$ es también periódico de período $N$\n",
    "\n",
    "\\begin{equation}\n",
    "\\tilde{F}[k] = \\tilde{F}[k + \\nu N]\n",
    "\\end{equation}\n",
    "\n",
    "con $\\nu \\in \\mathbb{Z}$. De la periodicidad se desprende que el rango único para $k = 0,1, \\dots, N-1$. Para $n = 0,1, \\dots, N-1$, la transformada discreta inversa de Fourier (IDFT) se define como\n",
    "\n",
    "\\begin{equation}\n",
    "\\boxed{\\tilde{f}[n] = \\sum_{k=0}^{N-1} \\tilde{F}[k] \\; e^{i k \\frac{2 \\pi}{N} n}}\n",
    "\\end{equation}\n",
    "\n",
    "La base $e^{i k \\frac{2 \\pi}{N} n}$ de la IDFT es periódica con respecto al índice de muestra $n$. Se deduce que $f[n] = \\text{IDFT}_N \\{ F[k] \\}$ es periódica:\n",
    "\n",
    "\\begin{equation}\n",
    "\\tilde{f}[n] = \\tilde{f}[n + \\nu N]\n",
    "\\end{equation}\n",
    "\n",
    "Aunque $n$ y $k$ pueden tomar cualquier valor entero, se puede concluir a partir de la periodicidad, que la DFT solo es única para $k, \\mu = 0, 1, \\dots N-1$. Como se muestra más adelante, la periodicidad de la DFT y la IDFT tiene amplias consecuencias para las propiedades y teoremas de la DFT.\n",
    "\n",
    "Las bases de la DFT a menudo se representan en términos de la $N$-ésima [raíz de la unidad](https://en.wikipedia.org/wiki/Root_of_unity) y se abrevian mediante la variable $w_N = e^{-i \\frac{2 \\pi}{N}}$\n",
    "\n",
    "\\begin{equation}\n",
    "\\tilde{F}[k] = \\frac{1}{N} \\sum_{n=0}^{N-1} \\tilde{f}[n] \\; w_N^{k n}\n",
    "\\end{equation}\n",
    "\n",
    "La bases de la IDFT se encuentran invirtiendo el signo del exponente de $w_N$. Otras definiciones comunes de la DFT y de la IDFT se pueden encontrar en la literatura. Difieren con respecto al signo del exponente y el factor de normalización $\\frac{1}{N}$. Como consecuencia, las propiedades, teoremas y transformaciones pueden diferir de las que se dan aquí."
   ]
  },
  {
   "cell_type": "markdown",
   "metadata": {},
   "source": [
    "### La DFT sólo tiene sentido para señales discretas periódicas\n",
    "\n",
    "Cuando se calcula la DFT de una secuencia, la DFT asume que ésta es una secuencia períodica. Esto se ilustra en el siguiente código: "
   ]
  },
  {
   "cell_type": "code",
   "execution_count": 4,
   "metadata": {},
   "outputs": [
    {
     "data": {
      "image/png": "[encoded data removed]",
      "text/plain": [
       "<Figure size 1080x576 with 2 Axes>"
      ]
     },
     "metadata": {
      "needs_background": "light"
     },
     "output_type": "display_data"
    }
   ],
   "source": [
    "import numpy as np\n",
    "import matplotlib.pyplot as plt\n",
    "%matplotlib inline\n",
    "\n",
    "plt.figure(figsize=(15,8))\n",
    "plt.subplot(1,2,1) \n",
    "\n",
    "n = np.arange(32)\n",
    "xn = np.linspace(0, 1, len(n))\n",
    "plt.stem(n, xn, use_line_collection=True);\n",
    "plt.title('Secuencia discreta')\n",
    "\n",
    "xn_periodic = np.hstack([xn]*5)\n",
    "\n",
    "plt.subplot(1,2,2)\n",
    "plt.stem(xn_periodic, use_line_collection=True)\n",
    "plt.title('Secuencia vista por la DFT')\n",
    "\n",
    "plt.show()"
   ]
  },
  {
   "cell_type": "markdown",
   "metadata": {
    "lang": "es"
   },
   "source": [
    "### Relación con la DTFT\n",
    "\n",
    "La [transformada de Fourier de tiempo discreto](./32-DTFT.ipynb) (DTFT) $F(u) = \\mathcal{F}\\{ f[n] \\}$ de una señal causal de longitud finita $f[n] = 0$ para $n \\in \\mathbb{Z} \\setminus \\{0,1,\\dots, N-1 \\}$ es continua con respecto a la frecuencia normalizada $uT$. La DFT $\\tilde{F}[k]$ de la misma señal es discreta. Para derivar la relación entre ambas transformaciones, la definición de la DTFT se puede comparar con la definición de la DFT. Se puede ver que ambas están unidas por\n",
    "\n",
    "\\begin{equation}\n",
    "\\tilde{F}[k] = F(u) \\big\\rvert_{u = \\frac{k}{NT}}\n",
    "\\end{equation}\n",
    "\n",
    "La DFT $F[k]$ de una señal discreta de longitud finita $f[n]$ puede derivarse muestreando su DTFT $F(u)$ de manera equidistante en $u = \\frac{k}{NT}$.\n",
    "\n",
    "Es válido cuestionarse si la DFT $\\tilde{F}[k]$ representa completamente una señal discreta $f[n]$ de longitud finita. Para comprobar esta idea, podemos calcular la DTFT de una señal discreta, que sabemos que es periódica de período $1/T$. Esto también es válido para una señal discreta $f[n]$ de longitud finita. Ahora, el espectro de una señal periódica consiste en una serie de impulsos de Dirac ponderados. Se puede describir completamente por los pesos de los impulsos. Lo mismo se aplica también para el espectro $\\tilde{F}(u)$ de la continuación periódica $\\tilde{f}[n] = \\sum_{\\kappa = - \\infty}^{\\infty} f[n - \\kappa N]$ de la señal de longitud finita $f[n]$. Las ponderaciones de los impulsos están dados por el muestreo equidistante del espectro de un período $F(u)$ en $u = \\frac{k}{NT}$. Esto se muestra a continuación\n",
    "\n",
    "![DTFT de una señal discreta de longitud finita y su continuación periódica](images/DTFTcontinuacion.png)\n",
    "\n",
    "Se puede concluir del razonamiento anterior que la DFT de una señal discreta causal de longitud finita contiene toda la información que hay sobre la señal."
   ]
  },
  {
   "cell_type": "markdown",
   "metadata": {
    "lang": "es"
   },
   "source": [
    "***\n",
    "### Interpretación del espectro\n",
    "\n",
    "Para una interpretación adicional de la frecuencia discreta $k$, recordamos el vínculo entra la DFT y la DTFT. La DFT $\\tilde{F}[k]$ puede derivarse de la DTFT muestreando $F(u)$ en $u = \\frac{k}{NT}$. La DTFT $F(u)$ se muestrea en el rango de $0 \\leq u < 1/T$. Dado que la DTFT es periódica de período de $1/T$, se puede concluir que la DTFT $F(u)$ para $\\frac{1}{2T} < u < \\frac{1}{T}$ es igual a la DTFT para $-\\frac{1}{2T} < u < 0$. Se deduce que la DFT $F[k]$ para $\\frac{N}{2} < k \\leq (N-1)$ es igual a la DTFT muestreada en las frecuencias negativas normalizadas $-\\frac{1}{2T} < u < 0$. El eje de frecuencia normalizado resultante de la DFT se ilustra para el caso de una longitud par.\n",
    "\n",
    "![Ejes de frecuencia de la DFT](images/frequency_grid.png)\n",
    "\n",
    "Se observa como la frecuencia que una DFT representa se encuentra en el intervalo $[-\\frac{1}{2T},\\frac{1}{2T}]$. En el caso en que la frecuencia esté calculada en radianes, este intervalo es $[-\\pi,\\pi]$. Dado que la DFT es una secuencia periódica, también se puede representar la información en los intervalos $[0,\\frac{1}{T}]$, o bien $[0,2\\pi]$ en radianes."
   ]
  },
  {
   "cell_type": "markdown",
   "metadata": {
    "lang": "es"
   },
   "source": [
    "<a name=\"representacion_matricial\"></a>\n",
    "***\n",
    "## Representación matricial\n",
    "\n",
    "La definición anterior de la DFT se da en términos de una suma sobre las muestras $f[n]$ para $n=0, 1, \\dots, N-1$. La suma debe evaluarse para $k = 0, 1, \\dots, N-1$ para obtener la DFT $F[k] = \\text{DFT}_N \\{ f[n] \\}$. Este cálculo se puede representar en términos de una multiplicación matricial. Primero, las $N$ muestras de la señal $f[n]$ se combinan en el vector $N \\times 1$\n",
    "\n",
    "\\begin{equation}\n",
    "\\mathbf{f} = \\left[ f[0], f[1], \\dots, f[N-1] \\right]^T\n",
    "\\end{equation}\n",
    "\n",
    "De la misma manera, las muestras $N$ del espectro $F[k]$ se combinan en el vector $N \\times 1$\n",
    "\n",
    "\\begin{equation}\n",
    "\\mathbf{F} = \\left[ F[0], F[1], \\dots, F[N-1] \\right]^T\n",
    "\\end{equation}\n",
    "\n",
    "El cálculo de todos los valores $N$ de $F[k]$ a partir de todos los valores $N$ de $f[n]$ ahora se puede expresar como el producto matricial:\n",
    "\n",
    "\\begin{equation}\n",
    "\\mathbf{F} = \\mathbf{W} \\mathbf{f}\n",
    "\\end{equation}\n",
    "\n",
    "donde la [matriz DFT](https://en.wikipedia.org/wiki/DFT_matrix) de $N \\times N$ se define como\n",
    "\n",
    "\\begin{equation}\n",
    "\\mathbf{W} = \\left[ \\begin{array}{ccccc}\n",
    "1 & 1 & 1 & \\dots & 1 \\\\\n",
    "1 & w_N & w_N^2 & \\dots & w_N^{N-1} \\\\\n",
    "1 & w_N^2 & w_N^6 & \\dots & w_N^{2 (N-1)} \\\\\n",
    "\\vdots & \\vdots & \\vdots & \\ddots & \\vdots \\\\\n",
    "1 & w^{N-1} & w^{2(N-1)} & \\dots & w^{(N-1)(N-1)}\n",
    "\\end{array} \\right]\n",
    "\\end{equation}\n",
    "\n",
    "Esta matriz DFT es, sin considerar el factor de escala $N$, [unitaria](https://en.wikipedia.org/wiki/Unitary_matrix), es decir:\n",
    "\n",
    "\\begin{equation}\n",
    "\\mathbf{W} \\, \\mathbf{W}^H = N \\cdot \\mathbf{I}\n",
    "\\end{equation}\n",
    "\n",
    "donde $(\\cdot)^H$ denota el [Hermitiano](https://en.wikipedia.org/wiki/Hermitian_adjoint) (el transpuesto conjugado) de una matriz y $\\mathbf{I}$ la [matriz de identidad](https://en.wikipedia.org/wiki/Identity_matrix) de $N \\times N$ . Multiplicando el lado izquierdo y derecho de la representación matricial de la DFT desde la izquierda por $\\frac{1}{N} \\mathbf{W}^H$ se obtiene la representación de la DFT inversa como\n",
    "\n",
    "\\begin{equation}\n",
    "\\mathbf{f} = \\frac{1}{N} \\cdot \\mathbf{W}^H \\mathbf{F}\n",
    "\\end{equation}\n",
    "\n",
    "La representación matricial de la DFT es útil para la discusión de sus propiedades y su implementación. Las funciones para el cálculo de la matriz DFT están diponibles en todos los ambientes de computación científica. A continuación, se utiliza la función de Python [`scipy.linalg.dft`](http://docs.scipy.org/doc/scipy/reference/generated/scipy.linalg.dft.html). La parte real de las variables $w_N^k$ para $k=0, 1, \\dots, N-1$ se grafica para ilustrar como son las bases de la DFT. La aplicación de la representación vectorial se verá a continuación."
   ]
  },
  {
   "cell_type": "code",
   "execution_count": 4,
   "metadata": {},
   "outputs": [
    {
     "data": {
      "image/png": "[encoded data removed]",
      "text/plain": [
       "<Figure size 720x720 with 8 Axes>"
      ]
     },
     "metadata": {
      "needs_background": "light"
     },
     "output_type": "display_data"
    }
   ],
   "source": [
    "%matplotlib inline\n",
    "import numpy as np\n",
    "import matplotlib.pyplot as plt\n",
    "from scipy.linalg import dft\n",
    "\n",
    "F = dft(8)\n",
    "\n",
    "plt.figure(figsize=(10, 10))\n",
    "for n in range(8):\n",
    "    ax = plt.subplot(4, 2, n+1)\n",
    "    ax.stem(np.real(F[:, n]),use_line_collection=True)\n",
    "    plt.title('$k = %d$'%n)\n",
    "    plt.ylabel(r'$\\Re \\{ e^{-i k \\frac{2 \\pi}{N} n} \\}$')\n",
    "    plt.xlabel('$n$')\n",
    "plt.tight_layout()\n",
    "\n",
    "plt.show()"
   ]
  },
  {
   "cell_type": "markdown",
   "metadata": {},
   "source": [
    "El módulo `sympy` de Python contiene la matrix DFT, de acuerdo a la siguiente definición:"
   ]
  },
  {
   "cell_type": "code",
   "execution_count": 2,
   "metadata": {},
   "outputs": [
    {
     "data": {
      "text/latex": [
       "$\\displaystyle \\left[\\begin{matrix}\\frac{\\sqrt{2}}{4} & \\frac{\\sqrt{2}}{4} & \\frac{\\sqrt{2}}{4} & \\frac{\\sqrt{2}}{4} & \\frac{\\sqrt{2}}{4} & \\frac{\\sqrt{2}}{4} & \\frac{\\sqrt{2}}{4} & \\frac{\\sqrt{2}}{4}\\\\\\frac{\\sqrt{2}}{4} & \\frac{\\sqrt{2} e^{- \\frac{i \\pi}{4}}}{4} & - \\frac{\\sqrt{2} i}{4} & \\frac{\\sqrt{2} e^{- \\frac{3 i \\pi}{4}}}{4} & - \\frac{\\sqrt{2}}{4} & \\frac{\\sqrt{2} e^{- \\frac{5 i \\pi}{4}}}{4} & \\frac{\\sqrt{2} i}{4} & \\frac{\\sqrt{2} e^{- \\frac{7 i \\pi}{4}}}{4}\\\\\\frac{\\sqrt{2}}{4} & - \\frac{\\sqrt{2} i}{4} & - \\frac{\\sqrt{2}}{4} & \\frac{\\sqrt{2} i}{4} & \\frac{\\sqrt{2}}{4} & - \\frac{\\sqrt{2} i}{4} & - \\frac{\\sqrt{2}}{4} & \\frac{\\sqrt{2} i}{4}\\\\\\frac{\\sqrt{2}}{4} & \\frac{\\sqrt{2} e^{- \\frac{3 i \\pi}{4}}}{4} & \\frac{\\sqrt{2} i}{4} & \\frac{\\sqrt{2} e^{- \\frac{9 i \\pi}{4}}}{4} & - \\frac{\\sqrt{2}}{4} & \\frac{\\sqrt{2} e^{- \\frac{15 i \\pi}{4}}}{4} & - \\frac{\\sqrt{2} i}{4} & \\frac{\\sqrt{2} e^{- \\frac{21 i \\pi}{4}}}{4}\\\\\\frac{\\sqrt{2}}{4} & - \\frac{\\sqrt{2}}{4} & \\frac{\\sqrt{2}}{4} & - \\frac{\\sqrt{2}}{4} & \\frac{\\sqrt{2}}{4} & - \\frac{\\sqrt{2}}{4} & \\frac{\\sqrt{2}}{4} & - \\frac{\\sqrt{2}}{4}\\\\\\frac{\\sqrt{2}}{4} & \\frac{\\sqrt{2} e^{- \\frac{5 i \\pi}{4}}}{4} & - \\frac{\\sqrt{2} i}{4} & \\frac{\\sqrt{2} e^{- \\frac{15 i \\pi}{4}}}{4} & - \\frac{\\sqrt{2}}{4} & \\frac{\\sqrt{2} e^{- \\frac{25 i \\pi}{4}}}{4} & \\frac{\\sqrt{2} i}{4} & \\frac{\\sqrt{2} e^{- \\frac{35 i \\pi}{4}}}{4}\\\\\\frac{\\sqrt{2}}{4} & \\frac{\\sqrt{2} i}{4} & - \\frac{\\sqrt{2}}{4} & - \\frac{\\sqrt{2} i}{4} & \\frac{\\sqrt{2}}{4} & \\frac{\\sqrt{2} i}{4} & - \\frac{\\sqrt{2}}{4} & - \\frac{\\sqrt{2} i}{4}\\\\\\frac{\\sqrt{2}}{4} & \\frac{\\sqrt{2} e^{- \\frac{7 i \\pi}{4}}}{4} & \\frac{\\sqrt{2} i}{4} & \\frac{\\sqrt{2} e^{- \\frac{21 i \\pi}{4}}}{4} & - \\frac{\\sqrt{2}}{4} & \\frac{\\sqrt{2} e^{- \\frac{35 i \\pi}{4}}}{4} & - \\frac{\\sqrt{2} i}{4} & \\frac{\\sqrt{2} e^{- \\frac{49 i \\pi}{4}}}{4}\\end{matrix}\\right]$"
      ],
      "text/plain": [
       "Matrix([\n",
       "[sqrt(2)/4,                sqrt(2)/4,    sqrt(2)/4,                 sqrt(2)/4,  sqrt(2)/4,                 sqrt(2)/4,    sqrt(2)/4,                 sqrt(2)/4],\n",
       "[sqrt(2)/4,   sqrt(2)*exp(-I*pi/4)/4, -sqrt(2)*I/4,  sqrt(2)*exp(-3*I*pi/4)/4, -sqrt(2)/4,  sqrt(2)*exp(-5*I*pi/4)/4,  sqrt(2)*I/4,  sqrt(2)*exp(-7*I*pi/4)/4],\n",
       "[sqrt(2)/4,             -sqrt(2)*I/4,   -sqrt(2)/4,               sqrt(2)*I/4,  sqrt(2)/4,              -sqrt(2)*I/4,   -sqrt(2)/4,               sqrt(2)*I/4],\n",
       "[sqrt(2)/4, sqrt(2)*exp(-3*I*pi/4)/4,  sqrt(2)*I/4,  sqrt(2)*exp(-9*I*pi/4)/4, -sqrt(2)/4, sqrt(2)*exp(-15*I*pi/4)/4, -sqrt(2)*I/4, sqrt(2)*exp(-21*I*pi/4)/4],\n",
       "[sqrt(2)/4,               -sqrt(2)/4,    sqrt(2)/4,                -sqrt(2)/4,  sqrt(2)/4,                -sqrt(2)/4,    sqrt(2)/4,                -sqrt(2)/4],\n",
       "[sqrt(2)/4, sqrt(2)*exp(-5*I*pi/4)/4, -sqrt(2)*I/4, sqrt(2)*exp(-15*I*pi/4)/4, -sqrt(2)/4, sqrt(2)*exp(-25*I*pi/4)/4,  sqrt(2)*I/4, sqrt(2)*exp(-35*I*pi/4)/4],\n",
       "[sqrt(2)/4,              sqrt(2)*I/4,   -sqrt(2)/4,              -sqrt(2)*I/4,  sqrt(2)/4,               sqrt(2)*I/4,   -sqrt(2)/4,              -sqrt(2)*I/4],\n",
       "[sqrt(2)/4, sqrt(2)*exp(-7*I*pi/4)/4,  sqrt(2)*I/4, sqrt(2)*exp(-21*I*pi/4)/4, -sqrt(2)/4, sqrt(2)*exp(-35*I*pi/4)/4, -sqrt(2)*I/4, sqrt(2)*exp(-49*I*pi/4)/4]])"
      ]
     },
     "execution_count": 2,
     "metadata": {},
     "output_type": "execute_result"
    }
   ],
   "source": [
    "import sympy.physics.matrices as m\n",
    "\n",
    "m.mdft(8)"
   ]
  },
  {
   "cell_type": "markdown",
   "metadata": {},
   "source": [
    "Observamos que la implementación difiere de la que utiliza `numpy`."
   ]
  },
  {
   "cell_type": "code",
   "execution_count": 5,
   "metadata": {},
   "outputs": [
    {
     "data": {
      "text/plain": [
       "array([[ 1.        +0.j        ,  1.        +0.j        ,\n",
       "         1.        +0.j        ,  1.        +0.j        ,\n",
       "         1.        +0.j        ,  1.        +0.j        ,\n",
       "         1.        +0.j        ,  1.        +0.j        ],\n",
       "       [ 1.        +0.j        ,  0.70710678-0.70710678j,\n",
       "         0.        -1.j        , -0.70710678-0.70710678j,\n",
       "        -1.        +0.j        , -0.70710678+0.70710678j,\n",
       "         0.        +1.j        ,  0.70710678+0.70710678j],\n",
       "       [ 1.        +0.j        ,  0.        -1.j        ,\n",
       "        -1.        +0.j        ,  0.        +1.j        ,\n",
       "         1.        +0.j        ,  0.        -1.j        ,\n",
       "        -1.        +0.j        ,  0.        +1.j        ],\n",
       "       [ 1.        +0.j        , -0.70710678-0.70710678j,\n",
       "         0.        +1.j        ,  0.70710678-0.70710678j,\n",
       "        -1.        +0.j        ,  0.70710678+0.70710678j,\n",
       "         0.        -1.j        , -0.70710678+0.70710678j],\n",
       "       [ 1.        +0.j        , -1.        +0.j        ,\n",
       "         1.        +0.j        , -1.        +0.j        ,\n",
       "         1.        +0.j        , -1.        +0.j        ,\n",
       "         1.        +0.j        , -1.        +0.j        ],\n",
       "       [ 1.        +0.j        , -0.70710678+0.70710678j,\n",
       "         0.        -1.j        ,  0.70710678+0.70710678j,\n",
       "        -1.        +0.j        ,  0.70710678-0.70710678j,\n",
       "         0.        +1.j        , -0.70710678-0.70710678j],\n",
       "       [ 1.        +0.j        ,  0.        +1.j        ,\n",
       "        -1.        +0.j        ,  0.        -1.j        ,\n",
       "         1.        +0.j        ,  0.        +1.j        ,\n",
       "        -1.        +0.j        ,  0.        -1.j        ],\n",
       "       [ 1.        +0.j        ,  0.70710678+0.70710678j,\n",
       "         0.        +1.j        , -0.70710678+0.70710678j,\n",
       "        -1.        +0.j        , -0.70710678-0.70710678j,\n",
       "         0.        -1.j        ,  0.70710678-0.70710678j]])"
      ]
     },
     "execution_count": 5,
     "metadata": {},
     "output_type": "execute_result"
    }
   ],
   "source": [
    "import numpy as np\n",
    "\n",
    "N = 8\n",
    "dftmtx = np.fft.fft(np.eye(N))\n",
    "\n",
    "dftmtx"
   ]
  },
  {
   "cell_type": "markdown",
   "metadata": {
    "lang": "es"
   },
   "source": [
    "***\n",
    "### DFT del impulso de Dirac\n",
    "\n",
    "La $\\text{DFT}_N \\{ \\delta[n] \\}$ del [impulso de Dirac](./26-Funciones_importantes_discretas.ipynb#impulso) se obtiene al introducir $\\delta[n]$ en la definición de la DFT y al utilizar la propiedad del cedazo:\n",
    "\n",
    "\\begin{equation}\n",
    "\\text{DFT}_N \\{ \\delta[n] \\} = \\frac{1}{N} \\sum_{n = 0}^{N-1} \\delta[n] \\, e^{-i k \\frac{2 \\pi}{N} n} = \\frac{1}{N}\n",
    "\\end{equation}\n",
    "\n",
    "Vemos que la DFT del impulso de Dirac es igual a uno. Por lo tanto, todas las frecuencias discretas $k$ están presentes con el mismo peso. Esta es una propiedad importante en la teoría de señales y sistemas discretos, ya que el impulso de Dirac se utiliza para caracterizar los sistemas lineales invariantes en el tiempo (LTI) por su [respuesta de impulso](./29-Sistemas_LTI_discretos.ipynb#respuesta_al_impulso) $h[n] = \\mathcal{L} \\{ \\delta[n] \\}$."
   ]
  },
  {
   "cell_type": "markdown",
   "metadata": {
    "lang": "es"
   },
   "source": [
    "**Ejercicio**\n",
    "\n",
    "* Derive la $\\text{DFT}_N \\{ \\delta[n - \\kappa] \\}$ del impulso de Dirac desplazado para $0 \\leq \\kappa < N$."
   ]
  },
  {
   "cell_type": "markdown",
   "metadata": {
    "nbsphinx": "hidden"
   },
   "source": [
    "<div class=\"alert alert-block alert-warning\">\n",
    "<b>Copyright</b><br>\n",
    "\n",
    "Estos apuntes están licenciados bajo la licencia <a href=\"https://creativecommons.org/licenses/by/4.0/\">Creative Commons Attribution 4.0</a>.<br>\n",
    "Como citar: <i>Rodrigo F. Cádiz, Apuntes de Señales y Sistemas.</i>\n",
    "</div>"
   ]
  }
 ],
 "metadata": {
  "kernelspec": {
   "display_name": "Python 3",
   "language": "python",
   "name": "python3"
  },
  "language_info": {
   "codemirror_mode": {
    "name": "ipython",
    "version": 3
   },
   "file_extension": ".py",
   "mimetype": "text/x-python",
   "name": "python",
   "nbconvert_exporter": "python",
   "pygments_lexer": "ipython3",
   "version": "3.7.7"
  },
  "nbTranslate": {
   "displayLangs": [
    "es"
   ],
   "hotkey": "alt-t",
   "langInMainMenu": true,
   "sourceLang": "en",
   "targetLang": "es",
   "useGoogleTranslate": true
  },
  "nteract": {
   "version": "0.15.0"
  }
 },
 "nbformat": 4,
 "nbformat_minor": 1
}
