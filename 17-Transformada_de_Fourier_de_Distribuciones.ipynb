{
 "cells": [
  {
   "cell_type": "markdown",
   "metadata": {
    "nbsphinx": "hidden"
   },
   "source": [
    "# Transformada de Fourier de Distribuciones\n",
    "\n",
    "<div class=\"alert alert-block alert-warning\">\n",
    "Este notebook es parte de una colección de apuntes para el curso IEE2103 Señales y Sistemas, <a href=\"http://https://www.ing.uc.cl/electrica/\">Departamento de Ingeniería Eléctrica</a>, <a href=\"http://www.uc.cl\">Pontificia Universidad Católica de Chile</a>.<br> Profesor: <a href=\"http://www.rodrigocadiz.com\">Rodrigo F. Cádiz</a><br>\n",
    "Consultas y comentarios: <a href=\"mailto:rcadiz@ing.puc.cl\">rcadiz@ing.puc.cl</a>\n",
    "\n",
    "</div>\n",
    "\n",
    "***"
   ]
  },
  {
   "cell_type": "markdown",
   "metadata": {},
   "source": [
    "## Distribuciones\n",
    "Ahora extenderemos el análisis de Fourier a las de distribuciones. Tal como vimos anteriormente, una distribución es una función generalizada, que puede considerarse como una \"función de funciones\". Más precisamente, una distribución es una forma lineal que asocia un número a cada función del espacio de Schwartz. \n",
    "\n",
    "Ejemplos de distribuciones muy utilizadas en el análisis de señales y sistemas con la función $1$, la función escalón de Heavyside, o las sinusoides $\\sin \\omega t$ o $\\cos \\omega t$. Todas estas funciones pueden ser extendidas hacia distribuciones. La Transformada de Fourier de una distribución nos permitirá generalizar el análisis de Fourier a una gran clase de objetos matemáticos que van más allá de las funciones integrables o cuadrado integrables.\n"
   ]
  },
  {
   "cell_type": "markdown",
   "metadata": {},
   "source": [
    "## La Transformada de Fourier de distribuciones temperadas\n",
    "\n",
    "Recordemos la fórmula de la transferencia, cuando es aplicada al espacio de Schwartz:\n",
    "\n",
    "$$ \\int_{\\mathbb{R}} \\mathcal{F}\\{f\\}(t) \\varphi(t) dt = \\int_{\\mathbb{R}}  f(t) \\mathcal{F}\\{\\varphi\\}(t) dt \\;\\;\\;\\; \\forall f,\\varphi \\in   \\mathcal{S}(\\mathbb{R};\\mathbb{C})$$\n",
    " \n",
    "Dado que $\\mathcal{F}\\{f\\}$ pertenece a $\\mathcal{S}(\\mathbb{R};\\mathbb{C})$, entonces define una distribución temperada $ \\mathbf{\\mathcal{F}\\{f\\}} $ y de la fórmula de transferencia se puede ver que:\n",
    "\n",
    "$$ \\langle   \\mathbf{\\mathcal{F}\\{f\\}}, \\varphi \\rangle = \\langle  \\mathbf{f},  \\mathcal{F}\\{ \\varphi\\} \\rangle \\;\\;\\;\\; \\forall \\varphi \\in \\mathcal{S}(\\mathbb{R};\\mathbb{C}) $$\n",
    "\n",
    "Parece natural definir $ \\mathbf{\\mathcal{F}\\{f\\}}$ como la Transformada de Fourier de la distribución $\\mathbf{f}$.\n",
    "Este resultado se puede generalizar para definir la Transformada de Fourier de cualquier distribución temperada.\n",
    "\n",
    "\n",
    "### Definición de la Transformada de Fourier en $\\mathcal{S}'(\\mathbb{R};\\mathbb{C})$\n",
    "<div class=\"alert alert-block alert-info\">\n",
    "La Transformada de Fourier $\\mathcal{F}: \\mathcal{S}'(\\mathbb{R};\\mathbb{C}) \\mapsto \\mathcal{S}'(\\mathbb{R};\\mathbb{C}) $ \n",
    "en el espacio de las distribuciones temperadas, se define como el espacio transpuesto de la Transformada de Fourier actuando en el espacio de Schwartz. La Transformada de Fourier $\\mathcal{F}\\left\\{\\mathbf{T}\\right\\}$ de la distribución $\\mathbf{T}$ está dada por:\n",
    "\n",
    " \\begin{equation}\n",
    "\\boxed{ \\langle  \\mathcal{F} \\left\\{\\mathbf{T}\\right\\}, \\varphi \\rangle =\\langle   \\mathbf{T}, \\mathcal{F}\\{ \\varphi\\} \\rangle  \\;\\;\\;\\; \\forall \\varphi \\in \\mathcal{S}(\\mathbb{R};\\mathbb{C})}\n",
    "\\end{equation}\n",
    "</div>\n",
    "\n",
    "### La Transformada de Fourier inversa\n",
    "La Transformada de Fourier $\\mathcal{F}: \\mathcal{S}'(\\mathbb{R};\\mathbb{C}) \\mapsto \\mathcal{S}'(\\mathbb{R};\\mathbb{C}) $ es una aplicación lineal, continua y bijectiva de  $\\mathcal{S}'(\\mathbb{R};\\mathbb{C})$ hacia sí misma. Adicionalmente, se tiene la fórmula de inversión\n",
    " \\begin{equation}\n",
    "\\boxed{ \\forall \\;\\mathbf{T} \\in \\mathcal{S'}(\\mathbb{R};\\mathbb{C}), \\;\\;\\;\\;\\; \\mathcal{F}\\left\\{ \\mathcal{F} \\left\\{\\mathbf{T}\\right\\}\\right\\}  = \\partial_{-1} \\mathbf{T} }\n",
    "\\end{equation}\n",
    " \n",
    "La prueba de esta idea es sencilla. La Transformada de Fourier es una aplicación lineal y continua dado que es la transpuesta de un mapa lineal y continuo, como lo es la Transformada de Fourier en el espacio de Schwartz.\n",
    "\n",
    "Para demostrar la fórmula de la inversa, tenemos que $\\forall \\varphi \\in \\mathcal{S}(\\mathbb{R};\\mathbb{C})$:\n",
    " \n",
    " $$ \\langle \\mathcal{F}\\left\\{ \\mathcal{F} \\left\\{\\mathbf{T}\\right\\}\\right\\}, \\varphi \\rangle = \\langle \\mathcal{F} \\left\\{\\mathbf{T}\\right\\} , \\mathcal{F}\\{ \\varphi\\} \\rangle = \\langle \\mathbf{T} , \\mathcal{F}\\{\\mathcal{F}\\{f\\}\\} ( \\varphi) \\rangle$$\n",
    " \n",
    "y usando la fórmula inversa en $\\mathcal{S}$, $\\mathcal{F}\\{\\mathcal{F}\\{f\\}\\} ( \\varphi ) = \\partial_{-1}\\varphi$ tal que:\n",
    " \n",
    "  $$ \\langle \\mathcal{F}\\left\\{ \\mathcal{F} \\left\\{\\mathbf{T}\\right\\}\\right\\}, \\varphi \\rangle =  \\langle \\mathbf{T} , \\partial_{-1}\\varphi \\rangle = \\langle  \\partial_{-1} \\mathbf{T}  , \\varphi \\rangle$$\n",
    "  \n",
    "Finalmente, la bijección $\\mathcal{F}: \\mathcal{S}'(\\mathbb{R};\\mathbb{C}) \\mapsto \\mathcal{S}'(\\mathbb{R};\\mathbb{C})$ se obtiene desde la fórmula inversa.\n",
    " "
   ]
  },
  {
   "cell_type": "markdown",
   "metadata": {},
   "source": [
    "***\n",
    "## Ejemplo: Transformada de Fourier de un impulso\n",
    "\n",
    "La definición de la Transformada de Fourier en $\\mathcal{S}'$ nos permite calcular la Transformada de Fourier de un impulso o la distribución $\\delta$. Para cada $\\varphi \\in \\mathcal{S}(\\mathbb{R};\\mathbb{C}) $\n",
    " \n",
    " $$  \\langle \\mathcal{F}\\left\\{ \\mathbf{\\delta} \\right\\},\\varphi \\rangle  = \\langle \\mathbf {\\delta} ,\\mathcal{F}\\{ \\varphi\\} \\rangle  = \\mathcal{F}\\{ \\varphi\\}(0)  $$\n",
    " \n",
    "y dado que $\\varphi$ es integrable:\n",
    " \n",
    "$$  \\langle \\mathcal{F}\\left\\{ \\mathbf{\\delta} \\right\\},\\varphi \\rangle  =  \\mathcal{F}\\{ \\varphi\\}(0) =  \\int_{\\mathbb{R}} \\varphi(t) dt =  \\langle \\mathbf{1} ,\\varphi \\rangle $$\n",
    "  \n",
    "Entonces, la Transformada de Fourier de $\\mathbf{\\delta}$ es la distribución que se obtiene de la función constante $1$:\n",
    "  \n",
    "  $$  \\mathcal{F}\\left\\{ \\mathbf{\\delta} \\right\\}  = \\mathbf{1} $$\n",
    "  \n",
    "De la misma forma, al aplicar la fórmula inversa:\n",
    "  \n",
    "  $$ \\mathcal{F}\\left\\{  \\mathcal{F}\\left\\{ \\mathbf{\\delta} \\right\\} \\right\\}   = \\mathcal{F}\\left\\{   \\mathbf{1}   \\right\\}  = \\partial_{-1}\\mathbf{\\delta} = \\mathbf{\\delta}$$\n",
    "  \n",
    " $$ \\mathbf{\\delta}  \\longleftrightarrow \\mathbf{1}$$\n",
    "\n",
    "### Observación\n",
    "La función constante $1$ no es integrable y por lo tanto no tiene una Transformada de Fourier como una función. Sin embargo, define la distribución temperada $\\mathbf{1}$ y en este marco, tiene una Transformada de Fourier bien definida:\n",
    "\n",
    "$$ \\mathcal{F}\\left\\{\\mathbf{1} \\right\\} = \\mathbf{\\delta}  $$\n",
    "\n",
    "Este par conceptualiza muy bien la desigualdad de Heisenberg. Una señal infinitamente expandida en un dominio se encuentra infinitamente concentrada en el otro y viceversa.\n",
    " \n",
    "Este ejemplo ilustra además el interés de extender la Transformada de Fourier al espacio de distribuciones temperadas.\n",
    "\n",
    "En sympy es posible calcular la Transformada de Fourier de un impulso."
   ]
  },
  {
   "cell_type": "code",
   "execution_count": 11,
   "metadata": {},
   "outputs": [
    {
     "data": {
      "text/latex": [
       "$\\displaystyle 1$"
      ],
      "text/plain": [
       "1"
      ]
     },
     "execution_count": 11,
     "metadata": {},
     "output_type": "execute_result"
    }
   ],
   "source": [
    "import sympy as sym\n",
    "import matplotlib.pyplot as plt\n",
    "\n",
    "t,u = sym.symbols(\"t u\")\n",
    "\n",
    "f = sym.DiracDelta(t)\n",
    "F = sym.fourier_transform(f, t, u)\n",
    "F"
   ]
  },
  {
   "cell_type": "code",
   "execution_count": 12,
   "metadata": {},
   "outputs": [
    {
     "data": {
      "image/png": "[encoded data removed]",
      "text/plain": [
       "<Figure size 1080x360 with 2 Axes>"
      ]
     },
     "metadata": {
      "needs_background": "light"
     },
     "output_type": "display_data"
    }
   ],
   "source": [
    "def move_sympyplot_to_axes(p, ax):\n",
    "    backend = p.backend(p)\n",
    "    backend.ax = ax\n",
    "    backend.process_series()\n",
    "    backend.ax.spines['right'].set_color('none')\n",
    "    backend.ax.spines['bottom'].set_position('zero')\n",
    "    backend.ax.spines['top'].set_color('none')\n",
    "    plt.close(backend.fig)\n",
    "    \n",
    "\n",
    "p1 = sym.plot(f,(t, -2,2),show=False,xlabel='$t$',ylabel='',title='$f(t)$')\n",
    "p2 = sym.plot(sym.re(F),(u, -5,5),show=False,xlabel='$u$',ylabel='',title='$F(u)$',legend=True)\n",
    "p3 = sym.plot(sym.im(F),(u, -5,5),show=False,xlabel='$u$',ylabel='',line_color='r')\n",
    "p2.extend(p3)\n",
    "\n",
    "p2[0].label = '$\\operatorname{Re}\\{F(u)\\}$'\n",
    "p3[0].label = '$\\operatorname{Im}\\{F(u)\\}$'\n",
    "\n",
    "\n",
    "fig, (ax,ax2) = plt.subplots(ncols=2,figsize=(15, 5))\n",
    "move_sympyplot_to_axes(p1, ax)\n",
    "move_sympyplot_to_axes(p2, ax2)\n",
    "plt.show()\n"
   ]
  },
  {
   "cell_type": "markdown",
   "metadata": {},
   "source": [
    "***\n",
    "## Ejemplo: Transformada de Fourier de una exponencial compleja\n",
    " \n",
    "Es de interés considerar la Transformada de Fourier de las mismas bases de la transformada. Es decir, considerando la distribución que viene de una función exponencial compleja, queremos saber:\n",
    "\n",
    "$$ \\langle \\mathcal{F}\\left\\{ \\mathbf{e^{i 2 \\pi a t}} \\right\\},\\varphi \\rangle  $$ \n",
    " \n",
    "donde $a \\in \\mathbb{R}$. De acuerdo a la definición de la Transformada de Fourier para una distribución esto es igual a:\n",
    "\n",
    "$$ \\langle \\mathbf{e^{i 2 \\pi a t}},\\mathcal{F}\\{ \\varphi\\} \\rangle $$\n",
    "\n",
    "\n",
    "Como esta distribución viene de una función, podemos escribir\n",
    "\n",
    "$$ \n",
    "\\langle \\mathbf{e^{i 2 \\pi a t}},\\mathcal{F}\\{ \\varphi\\} \\rangle  =  \\int_{\\mathbb{R}} e^{i 2 \\pi a t} \\mathcal{F}\\{\\varphi\\}(t) dt  $$\n",
    "\n",
    "Para hacer más explícita la notación, hacemos el cambio de variables $t = u$ en la integral. Entonces,\n",
    "\n",
    "$$ \n",
    "\\langle \\mathbf{e^{i 2 \\pi a t}},\\mathcal{F}\\{ \\varphi\\} \\rangle  =  \\int_{\\mathbb{R}} e^{i 2 \\pi a u} \\mathcal{F}\\{\\varphi\\}(u) du  $$\n",
    "\n",
    "Reconocemos aquí una Transformada de Fourier inversa, que otorga $\\varphi(t)$ evaluada en $t=a$. Entonces, \n",
    " \n",
    " $$ \n",
    "\\langle \\mathbf{e^{i 2 \\pi a t}},\\mathcal{F}\\{ \\varphi\\} \\rangle  =  \\varphi(a) = \\langle \\delta_a , \\varphi \\rangle $$\n",
    "\n",
    "Es decir \n",
    "\n",
    "$$ \\boxed{\\mathcal{F}\\{ \\mathbf{e^{i 2 \\pi a t}} \\}  = \\delta_a} $$\n",
    "\n",
    "En el caso particular $a=0$, tenemos\n",
    "\n",
    "$$ \\mathcal{F}\\{ \\mathbf{e^{i 2 \\pi 0 t}} \\}  = \\delta_0 $$\n",
    "\n",
    "es decir,\n",
    "\n",
    "$$ \\mathcal{F}\\{ \\mathbf{1} \\}  = \\delta  $$\n",
    "\n",
    "que el par que acabamos de encontrar anteriormente.\n",
    "\n",
    "Al tratarse de distribuciones, vemos que sympy ya no es capaz de calcular este tipo de Transformadas."
   ]
  },
  {
   "cell_type": "code",
   "execution_count": 13,
   "metadata": {},
   "outputs": [
    {
     "data": {
      "text/latex": [
       "$\\displaystyle 0$"
      ],
      "text/plain": [
       "0"
      ]
     },
     "execution_count": 13,
     "metadata": {},
     "output_type": "execute_result"
    }
   ],
   "source": [
    "import sympy as sym\n",
    "import matplotlib.pyplot as plt\n",
    "from mpmath import pi\n",
    "\n",
    "t,u = sym.symbols(\"t u\")\n",
    "\n",
    "f = sym.exp(sym.I*2*pi*t)\n",
    "F = sym.fourier_transform(f, t, u)\n",
    "F"
   ]
  },
  {
   "cell_type": "markdown",
   "metadata": {},
   "source": [
    "***\n",
    "## Ejemplo: Transformada de Fourier de senos y cosenos\n",
    "\n",
    "Utilizando las igualdades de Euler, podemos derivar muy fácilmente las Transformadas de Fourier de las funciones seno y coseno. \n",
    "\n",
    "Recordemos que $\\sin(2 \\pi a t)= 1/2i (e^{i 2\\pi a t} - e^{-i 2\\pi a t})$\n",
    "\n",
    "Por lo tanto, dado que la Transformada de Fourier es una aplicación lineal\n",
    "\n",
    "$$\\mathcal{F}\\{\\mathbf{\\mbox{sin}(2 \\pi a t)}\\}= \\frac{1}{2i} \\mathcal{F}\\{\\mathbf{e^{i 2 \\pi a t}}\\} - \\mathcal{F}\\{\\mathbf{e^{-i 2 \\pi a t}}\\} = \\frac{1}{2i} (\\delta_a - \\delta_{-a})$$\n",
    "\n",
    "Resumiendo,\n",
    "\n",
    "$$ \\boxed{\\mathbf{\\mbox{sin}(2 \\pi a t)} \\rightarrow \\frac{1}{2i} (\\delta_a - \\delta_{-a})} $$\n",
    " \n",
    "De la misma manera, recordando que $\\cos(2 \\pi a t)= 1/2 (e^{i 2\\pi a t} + e^{-i 2\\pi a t})$\n",
    " \n",
    "$$\\mathcal{F}\\{\\mathbf{\\mbox{cos}(2 \\pi a t)}\\}= \\frac{1}{2} \\mathcal{F}\\{\\mathbf{e^{i 2 \\pi a t}}\\} + \\mathcal{F}\\{\\mathbf{e^{-i 2 \\pi a t)}}\\} = \\frac{1}{2} \\delta_a + \\delta_{-a}$$\n",
    "\n",
    "Resumiendo\n",
    "\n",
    "$$ \\boxed{\\mathbf{\\mbox{cos}(2 \\pi a t)} \\rightarrow \\frac{1}{2} (\\delta_a + \\delta_{-a})} $$\n",
    "\n",
    "En el caso más general, tenemos que\n",
    "\n",
    "$$ \\boxed{\\mathbf{\\mbox{sin}} \\rightarrow \\frac{\\pi}{i} \\left(\\delta_{\\frac{1}{2\\pi}} - \\delta_{\\frac{-1}{2\\pi}} \\right)} ;\\;\\;\\; y \\;\\;\\;\\; \\boxed{\\mathbf{\\mbox{cos}} \\rightarrow \\pi \\left(\\delta_{\\frac{1}{2\\pi}} + \\delta_{\\frac{-1}{2\\pi}} \\right)} $$"
   ]
  },
  {
   "cell_type": "markdown",
   "metadata": {},
   "source": [
    "***\n",
    "### Compatibilidad con la Transformada de Fourier en $L^1$ y $L^2$\n",
    "<div class=\"alert alert-block alert-info\">\n",
    "Si $f \\in L^1(\\mathbb{R},\\mathbb{C})$, su Transformada de Fourier en $L^1$ es una función continua y acotada, $\\mathcal{F}\\left\\{f\\right\\} \\in C_b(\\mathbb{R},\\mathbb{C})$. Si $f \\in L^2(\\mathbb{R},\\mathbb{C})$ , su Transformada de Fourier en $L^2$ es cuadrado integrable, $\\mathcal{F}\\left\\{f\\right\\} \\in L^2(\\mathbb{R},\\mathbb{C})$. En ambos casos, la Transformada de  Fourier de $f$ define una distribución temperada $\\mathbf{F\\left\\{f\\right\\}}$. Se puede probar que es igual a la Transformada de Fourier de la distribución $\\mathbf{f}$:\n",
    "\n",
    "$$\\mathbf{F\\left\\{f\\right\\}} = \\mathcal{F}\\left\\{\\mathbf{f}\\right\\}$$\n",
    " \n",
    "En efecto:\n",
    "$$\\langle \\mathbf{F\\left\\{f\\right\\}},\\varphi \\rangle = \\int_{\\mathbb{R}} \\mathcal{F}\\left\\{f\\right\\} (\\omega)  \\varphi(\\omega) d\\omega \\;\\;\\; \\forall \\varphi \\in \\mathcal{S}(\\mathbb{R};\\mathbb{C})$$ \n",
    " \n",
    "y usando la fórmula de transferencia:\n",
    " \n",
    " $$\\langle \\mathbf{F\\left\\{f\\right\\}},\\varphi \\rangle = \\int_{\\mathbb{R}} f (t)  \\mathcal{F}\\{ \\varphi(t)\\} dt  = \\langle  \\mathbf{f} , \\mathcal{F}\\{ \\varphi\\} \\rangle = \\langle  \\mathcal{F}\\left\\{\\mathbf{f} \\right\\} ,  \\varphi \\rangle\\;\\;\\; \\forall \\varphi \\in \\mathcal{S}(\\mathbb{R};\\mathbb{C})$$ \n",
    "</div> "
   ]
  },
  {
   "cell_type": "markdown",
   "metadata": {},
   "source": [
    "## Propiedades de la Transformada de Fourier en $\\mathcal{S}'$\n",
    "\n",
    "### Desplazamiento\n",
    "\n",
    "Sea $\\mathbf{T} \\in   \\mathcal{S}'(\\mathbb{R};\\mathbb{C}) $. Entonces, para cualquier $a \\in \\mathbb{R}$\n",
    "\n",
    "\\begin{equation}\n",
    "\\mathcal{F}\\left\\{ \\tau_a \\mathbf{T} \\right\\} = e^{-i 2 \\pi u a} \\mathcal{F}\\left\\{ \\mathbf{T} \\right\\}  \\;\\;\\; a \\in \\mathbb{R}\n",
    "\\end{equation}\n",
    "\n",
    "#### Ejemplo: Transformada de Fourier de un impulso desplazado\n",
    "\n",
    "La Transformada de Fourier de un impulso centrado en $a$ es:\n",
    " \n",
    " $$   \\mathcal{F}\\left\\{ \\mathbf{\\delta_a} \\right\\}= \\mathcal{F}\\left\\{ \\tau_{a}\\mathbf{\\delta} \\right\\}$$\n",
    " \n",
    "y usando la propiedad del desplazamiento\n",
    " \n",
    " $$   \\mathcal{F}\\left\\{ \\mathbf{\\delta_a} \\right\\}=e^{- i 2 \\pi u a} \\mathcal{F}\\left\\{ \\mathbf{\\delta} \\right\\}=  e^{- i 2 \\pi u a} \\mathbf{1} $$\n",
    " \n",
    "En forma compacta\n",
    "\n",
    " $$   \\mathbf{\\delta_a}  \\rightarrow e^{- i 2 \\pi u a} $$\n",
    "\n",
    "De la misma forma es fácil comprobar que si $\\mathbf{T} \\in \\mathcal{S}'(\\mathbb{R};\\mathbb{C}) $, entonces, para cualquier $a \\in \\mathbb{R}$\n",
    "\n",
    "\\begin{equation}\n",
    "\\mathcal{F}\\left\\{ e^{i 1 \\pi a t} \\mathbf{T} \\right\\} = \\mathcal{F}\\left\\{ \\tau_a \\mathbf{T} \\right\\}  \\;\\;\\; a \\in \\mathbb{R}\n",
    "\\end{equation}\n",
    "\n",
    "\n",
    "***\n",
    "### Escalamiento\n",
    "\n",
    "Let $\\mathbf{T} \\in   \\mathcal{S}'(\\mathbb{R};\\mathbb{C}) $. Then, for any $a \\in \\mathbb{R} \\ \\left\\{0\\right\\}$\n",
    "\n",
    "\\begin{equation}\n",
    "\\mathcal{F}\\left\\{ \\partial_{a} \\mathbf{T} \\right\\} = \\frac{1}{|a|}\\partial_{1/a} \\mathcal{F}\\left\\{ \\mathbf{T} \\right\\}  \\;\\;\\; a \\in \\mathbb{R} \\ \\left\\{0\\right\\}\n",
    "\\label{Tf_dilation_S'}\n",
    "\\end{equation}\n",
    "\n",
    "#### Transformada de Fourier de la sinusoide $\\mathbf{\\mbox{sin}\\omega_0 t}$\n",
    "Consideremos una sinusoide de frecuencia $\\omega_0 > 0$, $\\sin(\\omega_0 t)$. Esta función define una distribución que corresponde a $\\mathbf{\\mbox{sin}(\\omega_0 t)} = \\partial_{\\omega_0} \\mathbf{\\mbox{sin}}$. Su Transformada de Fourier, entonces sería\n",
    "\n",
    "$$ \\mathcal{F}\\left\\{\\partial_{\\omega_0} \\mathbf{\\mbox{sin}} \\right\\} =   \\frac{1}{|\\omega_0|}\\partial_{1/\\omega_0} \\mathcal{F} \\left\\{ \\mathbf{\\mbox{sin}}\\right\\} = \\frac{1}{2i} \\frac{1}{|\\omega_0|}\\partial_{1/\\omega_0} \\left(\\mathbf{\\delta_{\\frac{1}{2\\pi}}} - \\mathbf{\\delta_{\\frac{-1}{2\\pi}}}  \\right)$$\n",
    "\n",
    "\n",
    "Vemos que su Transformada de Fourier tiene dos impulsos en $\\pm \\omega_0/2\\pi$:\n",
    "$$  \\mathcal{F}\\left\\{ \\mathbf{\\mbox{sin}(\\omega_0 t)}    \\right\\}  = \\frac{\\pi}{\\omega_0 i} \\left( \n",
    "\\mathbf{\\delta_{\\frac{\\omega_0}{2\\pi}}} - \\mathbf{\\delta_{-\\frac{\\omega_0}{2\\pi}}} \\right)$$"
   ]
  },
  {
   "cell_type": "code",
   "execution_count": 6,
   "metadata": {},
   "outputs": [
    {
     "data": {
      "text/latex": [
       "$\\displaystyle 0$"
      ],
      "text/plain": [
       "0"
      ]
     },
     "execution_count": 6,
     "metadata": {},
     "output_type": "execute_result"
    }
   ],
   "source": [
    "import sympy as sym\n",
    "import matplotlib.pyplot as plt\n",
    "\n",
    "t,u = sym.symbols(\"t u\")\n",
    "\n",
    "w = sym.Symbol('w', positive=True)\n",
    "f = sym.cos(w*t)\n",
    "F = sym.fourier_transform(f, t, u)\n",
    "F"
   ]
  },
  {
   "cell_type": "markdown",
   "metadata": {},
   "source": [
    "\n",
    "***\n",
    "### Derivada en el tiempo\n",
    "Sea $\\mathbf{T} \\in   \\mathcal{S}'(\\mathbb{R};\\mathbb{C}) $. Entonces, para cualquier $\\alpha \\in \\mathbb{N} $\n",
    "\n",
    "\\begin{equation}\n",
    "\\mathcal{F}\\left\\{ D^{\\alpha} \\mathbf{T} \\right\\} = (i 2 \\pi u)^{\\alpha} \\mathcal{F}\\left\\{ \\mathbf{T} \\right\\}  \\;\\;\\; \\alpha \\in \\mathbb{N}\n",
    "\\end{equation}\n",
    "\n",
    "\n",
    "#### Ejemplo: Transformada de Fourier del signo y del escalón \n",
    "Otros ejemplos de funciones que sólo tiene Transformada de Fourier en el contexto de las distribuciones son la función signo y el escalón de Heaviside. La distribución signo $\\mbox{sgn}$ es tal que:\n",
    "\n",
    "$$ \\mathbf{\\mbox{sgn}'} = 2\\delta $$\n",
    "\n",
    "por lo tanto, segun la propiedad de la derivada:\n",
    "$$ \\mathcal{F}\\left\\{\\mathbf{sgn}' \\right\\} = \\mathcal{F}\\left\\{\\mathbf{2 \\delta} \\right\\} = i 2 \\pi u \\mathcal{F}\\left\\{\\mathbf{sgn} \\right\\}  $$\n",
    "\n",
    "y dado que $ \\mathcal{F}\\left\\{\\mathbf{2\\delta} \\right\\} = \\mathbf{2} $\n",
    "\n",
    "tenemos que:\n",
    "\n",
    "$$  i 2 \\pi u \\mathcal{F}\\left\\{\\mathbf{\\mbox{sgn}} \\right\\}  = \\mathbf{2} $$\n",
    "\n",
    "por lo que \n",
    "\n",
    "$$  \\boxed{\\mathcal{F}\\left\\{\\mathbf{\\mbox{sgn}} \\right\\}  = \\frac{\\mathbf{1}}{i \\pi u}} $$\n",
    "\n",
    "donde en realidad al escribir $1/u$ nos referimos a la distribución valor principal (v.p.) de Cauchy. \n",
    "\n",
    "Ahora, recordando que el escalón $\\vcenter{{\\large \\ulcorner}}$ se relaciona con el signo mediante la fórmula\n",
    "\n",
    "$$ \\vcenter{{\\large \\ulcorner}}(t)= \\frac{1}{2}(1 + \\mbox{sgn}(t)) $$\n",
    "\n",
    "entonces su transformada de Fourier es simplemente\n",
    "\n",
    "$$ \\boxed{\\mathcal{F}\\{\\vcenter{{\\large \\ulcorner}}\\} = \\frac{1}{2}\\left(\\delta + \\frac{1}{i \\pi u}\\right)} $$ \n",
    "\n",
    "donde al escribir $1/u$ nos referimos a la distribución valor principal (v.p.) de Cauchy. \n",
    "\n",
    "\n",
    "***\n",
    "### Derivada en la Frecuencia (Multiplicación por $t$)\n",
    "Sea $\\mathbf{T} \\in   \\mathcal{S}'(\\mathbb{R};\\mathbb{C}) $. Entonces, para cualquier $\\alpha \\in \\mathbb{N} $\n",
    "\n",
    "\\begin{equation}\n",
    "\\mathcal{F}\\left\\{ (-i 2 \\pi t)^{\\alpha} \\mathbf{T} \\right\\} = D^{\\alpha}\\mathcal{F}\\left\\{ \\mathbf{T} \\right\\}  \\;\\;\\; \\alpha \\in \\mathbb{N}\n",
    "\\end{equation}\n",
    "\n",
    "***\n",
    "### Convolución\n",
    "Sea $\\mathbf{T} \\in   \\mathcal{S}'(\\mathbb{R};\\mathbb{C}) $ and $X \\in \\mathcal{S}(\\mathbb{R};\\mathbb{C})$. Entonces:\n",
    "\n",
    "\\begin{equation}\n",
    "\\mathcal{F}\\left\\{X \\ast \\mathbf{T} \\right\\} = \\mathcal{F}\\{ X\\}  \\mathcal{F}\\left\\{\\mathbf{T} \\right\\}\n",
    "\\end{equation}\n",
    "\n",
    "***\n",
    "### Multiplicación\n",
    "Sean $\\mathbf{T} \\in   \\mathcal{S}'(\\mathbb{R};\\mathbb{C}) $ y $X \\in \\mathcal{S}(\\mathbb{R};\\mathbb{C})$. Entonces:\n",
    "\n",
    "\\begin{equation}\n",
    "\\mathcal{F}\\left\\{X  \\mathbf{T} \\right\\} = \\mathcal{F}\\{ X\\} \\ast \\mathcal{F}\\left\\{\\mathbf{T} \\right\\}\n",
    "\\end{equation}\n",
    "\n",
    "\n"
   ]
  },
  {
   "cell_type": "markdown",
   "metadata": {},
   "source": [
    "***\n",
    "<a name=\"transformada_de_fourier_shah\"></a>\n",
    "## Transformada de Fourier de un shah\n",
    "Sea $a \\in \\mathbb{R}_{>0}$. La distribución shah de período $a$ se define como:\n",
    "\n",
    "\\begin{equation}\n",
    "{\\bot \\!\\! \\bot \\!\\! \\bot}_a = \\sum_{n=-\\infty}^{\\infty} \\mathbf{\\delta_{na}}\n",
    "\\label{dirac_comb}\n",
    "\\end{equation}\n",
    "\n",
    "tal que\n",
    "\\begin{equation}\n",
    "\\langle \\mathbf{{\\bot \\!\\! \\bot \\!\\! \\bot}_a}, \\varphi \\rangle =  \\sum_{n=-\\infty}^{\\infty} \\varphi(na)  \\;\\;\\;\\; \\forall \\; \\varphi \\in  S(\\mathbb{R};\\mathbb{C})\n",
    "\\end{equation}\n",
    "\n",
    "Hay varias cosas que resaltar en esta ecuación:\n",
    "- La suma propuesta en la ecuación anterior es finita para cada $\\varphi\\in S(\\mathbb{R};\\mathbb{C}) $, por lo tanto no hay problemas de convergencia y la distribución ${\\bot \\!\\! \\bot \\!\\! \\bot}_a$ está bien definida.\n",
    "\n",
    "- El producto entre una función infinitamente derivable $f \\in C^{\\infty}(\\mathbb{R};\\mathbb{C})$, la cual es una función temperada, y ${\\bot \\!\\! \\bot \\!\\! \\bot}_a$ está bien definida y \n",
    "\n",
    "$$ \\langle f  \\mathbf{{\\bot \\!\\! \\bot \\!\\! \\bot}_a}, \\varphi \\rangle  = \\langle   {\\bot \\!\\! \\bot \\!\\! \\bot}_a, f \\varphi \\rangle= \\sum_{n=-\\infty}^{\\infty} f(na) \\varphi(na)  \\;\\;\\;\\; \\forall \\; \\varphi \\in  S(\\mathbb{R};\\mathbb{C})$$\n",
    "\n",
    "tal que\n",
    "\n",
    "\\begin{equation}\n",
    " f  \\mathbf{{\\bot \\!\\! \\bot \\!\\! \\bot}_a} = \\sum_{n=-\\infty}^{\\infty}  f(na) \\mathbf{\\delta_{na}}\n",
    "\\end{equation}\n",
    "\n",
    "lo que representa un \"muestreo\" de la función $f$ a intervalos regulares espaciados por $a$. \n",
    "\n",
    "<a name=\"poisson\"></a>\n",
    "### Fórmula de suma de Poisson\n",
    "Intentemos calcular la Transformada de Fourier del shah. De acuerdo a la definición tenemos que:\n",
    "\n",
    "$$\\mathcal{F}\\left\\{\\mathbf{{\\bot \\!\\! \\bot \\!\\! \\bot}_a} \\right\\}= \\sum_{n=-\\infty}^{\\infty} \\mathcal{F}\\left\\{ \\mathbf{\\delta_{na}}\\right\\} = \\sum_{n=-\\infty}^{+\\infty} e^{-i 2 \\pi u n a} \\mathbf{1} $$\n",
    "\n",
    "Esto implica que la Transformada de Fourier de un shah es simplemente la suma de infinitas exponenciales complejas armónicamente relacionadas entre sí, todas con amplitud 1. Si consideramos que al sumar para todo $n$ positivo y negativo, el signo de la exponencial es irrelevante, podemos escribir:\n",
    "\n",
    "\n",
    "$$\\mathcal{F}\\left\\{\\mathbf{{\\bot \\!\\! \\bot \\!\\! \\bot}_a} \\right\\}= \\sum_{n=-\\infty}^{+\\infty} e^{i 2 \\pi u n a}$$\n",
    "\n",
    "resultado que se parece mucho a una Serie de Fourier, donde vemos que la Transformada de Fourier del shah es una función períodica de período $1/a$ . Ahora, este resultado debe interpretarse en el contexto de la teoría de distribuciones, es decir, tenemos que \n",
    "\n",
    "$$ \\langle \\mathcal{F}\\left\\{\\mathbf{{\\bot \\!\\! \\bot \\!\\! \\bot}_a} \\right\\}, \\varphi \\rangle = \\langle \\mathbf{{\\bot \\!\\! \\bot \\!\\! \\bot}_a} , \\mathcal{F}\\left\\{\\varphi\\right\\} \\rangle $$\n",
    "\n",
    "$$ \\langle \\mathcal{F}\\left\\{\\mathbf{{\\bot \\!\\! \\bot \\!\\! \\bot}_a} \\right\\}, \\varphi \\rangle = \\langle \\sum_{n=-\\infty}^{\\infty} \\mathbf{\\delta_{na}} , \\mathcal{F}\\left\\{\\varphi\\right\\} \\rangle = \\sum_{n=-\\infty}^{\\infty} \\langle \\mathbf{\\delta_{na}} , \\mathcal{F}\\left\\{\\varphi\\right\\} \\rangle = \\sum_{n=-\\infty}^{\\infty} \\mathcal{F}\\{\\varphi(na)\\} $$\n",
    "\n",
    "\n",
    "Este resultado implica que aplicar la Transformada de Fourier de la distribución shah a una función de Schwartz es simplemente sumar todas las Transformadas de Fourier de la función de Schwartz evaluadas en todos los puntos $na$. \n",
    "\n",
    "Pero esto no lo es todo. Poisson determinó la famosa fórmula de la suma de Poisson que dice que si $\\varphi$ es una función de Schwartz, entonces\n",
    "\n",
    "$$ \\sum_{n=-\\infty}^{\\infty} \\mathcal{F}\\{\\varphi(n)\\}= \\sum_{n=-\\infty}^{\\infty} \\varphi(n) $$\n",
    "\n",
    "Finalmente, dado que $\\mathcal{F}\\left\\{\\mathbf{{\\bot \\!\\! \\bot \\!\\! \\bot}_a} \\right\\}$ tiene período $1/a$, ¡obtenemos que la Transformada de Fourier de un shah espaciado en $a$ es otro shah, pero espaciado en $1/a$!.\n",
    "\n",
    "\\begin{equation}\n",
    "\\mathcal{F}\\left\\{\\mathbf{{\\bot \\!\\! \\bot \\!\\! \\bot}_a}\\right\\} = \\mathcal{F}\\left\\{ \\sum_{n=-\\infty}^{+\\infty} \\mathbf{\\delta_{na}} \\right\\} = \\frac{1}{a}\\sum_{n=-\\infty}^{+ \\infty} \\mathbf{\\delta_{n/a}} = \\frac{1}{a} \\mathbf{{\\bot \\!\\! \\bot \\!\\! \\bot}_{1/a}}\n",
    "\\end{equation}\n",
    "\n",
    "En forma compacta:\n",
    "\n",
    "$$ \\boxed{\\mathbf{{\\bot \\!\\! \\bot \\!\\! \\bot}_a} \\rightarrow \\frac{1}{a} \\mathbf{{\\bot \\!\\! \\bot \\!\\! \\bot}_{1/a}}} $$\n",
    "\n",
    "\n",
    "\n",
    "Este resultado es simplemente espectacular y es la base que permite [muestrear e interpolar](./23-Muestreo_e_interpolacion.ipynb) una señal. "
   ]
  },
  {
   "cell_type": "markdown",
   "metadata": {
    "nbsphinx": "hidden"
   },
   "source": [
    "<div class=\"alert alert-block alert-warning\">\n",
    "<b>Copyright</b><br>\n",
    "\n",
    "Estos apuntes están licenciados bajo la licencia <a href=\"https://creativecommons.org/licenses/by/4.0/\">Creative Commons Attribution 4.0</a>.<br>\n",
    "Como citar: <i>Rodrigo F. Cádiz, Apuntes de Señales y Sistemas.</i>\n",
    "</div>"
   ]
  }
 ],
 "metadata": {
  "kernelspec": {
   "display_name": "Python 3",
   "language": "python",
   "name": "python3"
  },
  "language_info": {
   "codemirror_mode": {
    "name": "ipython",
    "version": 3
   },
   "file_extension": ".py",
   "mimetype": "text/x-python",
   "name": "python",
   "nbconvert_exporter": "python",
   "pygments_lexer": "ipython3",
   "version": "3.7.7"
  },
  "nbTranslate": {
   "displayLangs": [
    "*"
   ],
   "hotkey": "alt-t",
   "langInMainMenu": true,
   "sourceLang": "en",
   "targetLang": "fr",
   "useGoogleTranslate": true
  }
 },
 "nbformat": 4,
 "nbformat_minor": 1
}
