{
 "cells": [
  {
   "cell_type": "markdown",
   "metadata": {
    "nbsphinx": "hidden"
   },
   "source": [
    "# Señales discretas\n",
    "\n",
    "<div class=\"alert alert-block alert-warning\">\n",
    "Este notebook es parte de una colección de apuntes para el curso IEE2103 Señales y Sistemas, <a href=\"http://https://www.ing.uc.cl/electrica/\">Departamento de Ingeniería Eléctrica</a>, <a href=\"http://www.uc.cl\">Pontificia Universidad Católica de Chile</a>.<br> Profesor: <a href=\"http://www.rodrigocadiz.com\">Rodrigo F. Cádiz</a><br>\n",
    "Consultas y comentarios: <a href=\"mailto:rcadiz@ing.puc.cl\">rcadiz@ing.puc.cl</a>\n",
    "\n",
    "</div>\n",
    "\n",
    "***"
   ]
  },
  {
   "cell_type": "markdown",
   "metadata": {},
   "source": [
    "## Concepto de señal\n",
    "\n",
    "- Contiene información\n",
    "- Función de un índice de muestra ($n$ o $k$)\n",
    "- La forma en que la señal evoluciona respecto a la variable independiente codifica la información\n"
   ]
  },
  {
   "cell_type": "markdown",
   "metadata": {},
   "source": [
    "**Ejemplos:**\n",
    "\n",
    "- Voltaje o corriente en un circuito electrónico\n",
    "- Voz o música\n",
    "- Imágenes\n",
    "- Señales bioeléctricas (EEG)\n",
    "- Variación de la bolsa (IPSA)"
   ]
  },
  {
   "cell_type": "markdown",
   "metadata": {},
   "source": [
    "### Señales discretas\n",
    "\n",
    "- Señal que toma valores sólo para puntos específicos en la variable independiente\n",
    "- Típicamente se obtienen mediante el [muestreo de una señal contínua](./23-Muestreo_e_interpolacion.ipynb) (audio o imagen digital)\n",
    "- También se denominan secuencias\n",
    "\n",
    "\n",
    "<div class=\"alert alert-block alert-danger\">\n",
    "    <h3>Tiempo Discreto ≠ Digital</h3>\n",
    "<ul><li>Las secuencias de tiempo discreto son continuas en sus valores y discretas en el tiempo\n",
    "<li>Las señales digitales son discretas en sus valores y discretas en el tiempo (sólo pueden tomar un número determinado de valores)</ul>\n",
    "</div>\n",
    "\n",
    "\n",
    "\n"
   ]
  },
  {
   "cell_type": "markdown",
   "metadata": {},
   "source": [
    "**Ejemplo**\n",
    "\n",
    "En el siguiente código se pueden observar dos señales, una discreta y otra continua, que tienen la misma forma. Sin embargo, mientras la versión continua posee un valor para cada valor de la variable independiente, la señal discreta sólo está definida en ciertos lugares de la variable independiente. Las funciones son\n",
    "\n",
    "- $x[n] = (1/2)^n$\n",
    "- $x(t) = (1/2)^t$"
   ]
  },
  {
   "cell_type": "code",
   "execution_count": 4,
   "metadata": {},
   "outputs": [
    {
     "data": {
      "image/png": "[encoded data removed]",
      "text/plain": [
       "<Figure size 720x288 with 2 Axes>"
      ]
     },
     "metadata": {
      "needs_background": "light"
     },
     "output_type": "display_data"
    }
   ],
   "source": [
    "# Ejemplo de señales continuas y discretas\n",
    "import numpy as np\n",
    "import matplotlib.pyplot as plt\n",
    "%matplotlib inline\n",
    "\n",
    "n = np.arange(10)\n",
    "t = np.linspace(0,10,100)\n",
    "\n",
    "def continuous_signal(a,t):\n",
    "    return np.power(a,t)\n",
    "\n",
    "def discrete_signal(a,n):\n",
    "    return np.power(a,n)\n",
    "\n",
    "plt.figure(figsize=(10, 4))\n",
    "plt.subplot(121)\n",
    "plt.plot(t, continuous_signal(0.5,t))\n",
    "plt.xlabel('$t$')\n",
    "plt.ylabel('Señal continua')\n",
    "plt.title('$x(t) = (1/2)^t$')\n",
    "\n",
    "plt.subplot(122)\n",
    "plt.stem(n, discrete_signal(0.5,n),use_line_collection=True)\n",
    "plt.xlabel('$n$')\n",
    "plt.ylabel('Señal discreta')\n",
    "plt.title('$x[n] = (1/2)^n$')\n",
    "\n",
    "plt.tight_layout()\n",
    "    "
   ]
  },
  {
   "cell_type": "markdown",
   "metadata": {},
   "source": [
    "### Señales discretas periódicas\n",
    "\n",
    "Una señal discreta periódica, de período $N$, donde este período se mide en muestras, cumple con\n",
    "\n",
    "$x[n] = x[n+N]$\n",
    "\n",
    "Esto implica que la señal se repite en forma exacta cada cierta unidad de la variable independiente. Las señales periódicas cumplen un rol fundamental en este curso. \n"
   ]
  },
  {
   "cell_type": "markdown",
   "metadata": {},
   "source": [
    "### Señales aperiódicas\n",
    "\n",
    "Una señal discreta aperiódica, o no períodica no exhibe repeticiones de ningún tipo. \n",
    "\n",
    "**Ejemplo:**\n",
    "\n",
    "Un buen ejemplo de una señal aperiódica es el ruido blanco."
   ]
  },
  {
   "cell_type": "code",
   "execution_count": 3,
   "metadata": {},
   "outputs": [
    {
     "data": {
      "image/png": "[encoded data removed]",
      "text/plain": [
       "<Figure size 432x288 with 1 Axes>"
      ]
     },
     "metadata": {
      "needs_background": "light"
     },
     "output_type": "display_data"
    }
   ],
   "source": [
    "import numpy\n",
    "import matplotlib.pyplot as plt\n",
    "\n",
    "mean = 0\n",
    "std = 1 \n",
    "num_samples = 100\n",
    "samples = numpy.random.normal(mean, std, size=num_samples)\n",
    "\n",
    "plt.stem(samples,use_line_collection=True)\n",
    "plt.show()"
   ]
  },
  {
   "cell_type": "markdown",
   "metadata": {},
   "source": [
    "***\n",
    "## Simetrías de señales discretas\n",
    "\n",
    "La simetría de las señales juega un rol muy importante en en análisis de señales y en especial en la Series y Transformadas de Fourier.\n",
    "\n",
    "Sea $f:\\mathbb{R}\\rightarrow\\mathbb{R}$ una secuencia discreta, descrita por una función real y $\\phi:\\mathbb{R}\\rightarrow\\mathbb{C}$ una secuencia compleja, descrita por una función compleja, en términos de la variable independiente $n$. Denotaremos el complejo conjugado de $\\phi$ mediante $\\phi^{*}$.\n",
    "\n",
    "$f$ es par, si cumple con:\n",
    "\n",
    "$$ f[-n] = f[n] $$\n",
    "\n",
    "$f$ es impar, si se verifica:\n",
    "\n",
    "$$ f[-n] = -f[n] $$\n",
    "\n",
    "Si $f$ no exhibe ninguna simetría (par o impar) se dice que es una función asimétrica. Una función asimétrica se puede expresar como la suma de una parte par $f_e$ y una parte impar $f_o$:\n",
    "\n",
    "$$f[n] = f_e[n] + f_o[n]$$\n",
    "\n",
    "Dada una función $f$, su parte par se puede calcular como \n",
    "\n",
    "$$f_e[n] = \\frac{f[n] + f[-n]}{2} $$\n",
    "\n",
    "y su parte impar:\n",
    "\n",
    "$$f_o[n] = \\frac{f[n] - f[-n]}{2} $$\n",
    "\n",
    "$\\phi$ es hermitiana si\n",
    "\n",
    "$$ \\phi[-n] = \\phi^{*}[n] $$ \n",
    "\n",
    "Este tipo de señales tiene parte real par y parte imaginaria impar. $\\phi$ es anti-hermitiana si tiene parte real impar y parte imaginaria par.\n",
    "\n",
    "\n",
    "\n",
    "\n",
    "\n",
    "\n",
    "\n",
    "\n"
   ]
  },
  {
   "cell_type": "markdown",
   "metadata": {
    "nbsphinx": "hidden"
   },
   "source": [
    "<div class=\"alert alert-block alert-warning\">\n",
    "<b>Copyright</b><br>\n",
    "\n",
    "Estos apuntes están licenciados bajo la licencia <a href=\"https://creativecommons.org/licenses/by/4.0/\">Creative Commons Attribution 4.0</a>.<br>\n",
    "Como citar: <i>Rodrigo F. Cádiz, Apuntes de Señales y Sistemas.</i>\n",
    "</div>"
   ]
  }
 ],
 "metadata": {
  "kernelspec": {
   "display_name": "Python 3",
   "language": "python",
   "name": "python3"
  },
  "language_info": {
   "codemirror_mode": {
    "name": "ipython",
    "version": 3
   },
   "file_extension": ".py",
   "mimetype": "text/x-python",
   "name": "python",
   "nbconvert_exporter": "python",
   "pygments_lexer": "ipython3",
   "version": "3.7.7"
  },
  "nbTranslate": {
   "displayLangs": [
    "*"
   ],
   "hotkey": "alt-t",
   "langInMainMenu": true,
   "sourceLang": "en",
   "targetLang": "fr",
   "useGoogleTranslate": true
  }
 },
 "nbformat": 4,
 "nbformat_minor": 1
}
