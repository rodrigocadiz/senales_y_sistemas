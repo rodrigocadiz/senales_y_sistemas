{
 "cells": [
  {
   "cell_type": "markdown",
   "metadata": {
    "nbsphinx": "hidden"
   },
   "source": [
    "# Transformada rápida de Fourier (FFT)\n",
    "\n",
    "<div class=\"alert alert-block alert-warning\">\n",
    "Este notebook es parte de una colección de apuntes para el curso IEE2103 Señales y Sistemas, <a href=\"http://https://www.ing.uc.cl/electrica/\">Departamento de Ingeniería Eléctrica</a>, <a href=\"http://www.uc.cl\">Pontificia Universidad Católica de Chile</a>.<br> Profesor: <a href=\"http://www.rodrigocadiz.com\">Rodrigo F. Cádiz</a><br>\n",
    "Consultas y comentarios: <a href=\"mailto:rcadiz@ing.puc.cl\">rcadiz@ing.puc.cl</a>\n",
    "\n",
    "</div>\n",
    "\n",
    "***"
   ]
  },
  {
   "cell_type": "markdown",
   "metadata": {
    "lang": "es"
   },
   "source": [
    "## Transformada rápida de Fourier\n",
    "\n",
    "La [transformada discreta de Fourier (DFT)](./34-DFT.ipynb) puede implementarse computacionalmente de manera muy eficiente mediante la [transformada rápida de Fourier (FFT) (*Wikipedia*)](https://en.wikipedia.org/wiki/Fast_Fourier_transform). Existen varios algoritmos para la FFT que difieren en sus grados de eficiencia. El algoritmo más conocido se denomina el [algoritmo de Cooley-Tukey (*Wikipedia*)](https://en.wikipedia.org/wiki/Cooley%E2%80%93Tukey_FFT_algorithm). La forma más simple de este algoritmo también se conoce como decimación en el tiempo radix-2."
   ]
  },
  {
   "cell_type": "markdown",
   "metadata": {
    "lang": "es"
   },
   "source": [
    "### Algoritmo de decimación en el tiempo (Radix-2)\n",
    "\n",
    "Consideremos la definición de la DFT $\\tilde{F}[k] = \\text{DFT}_N \\{ \\tilde{f}[n] \\}$:\n",
    "\n",
    "\\begin{equation}\n",
    "\\tilde{F}[k] = \\frac{1}{N}\\sum_{n=0}^{N-1} \\tilde{f}[n] \\, w_N^{kn}\n",
    "\\end{equation}\n",
    "\n",
    "donde $w_N$ denota la base de Fourier $e^{-i \\frac{2 \\pi}{N}}$. La evaluación de la definición para $k = 0,1,\\dots,N-1$ requiere $N^2$ multiplicaciones y $N \\cdot (N-1)$ sumas. La complejidad numérica de la DFT es de [orden](https://en.wikipedia.org/wiki/Big_O_notation) $\\mathcal{O} (N^2)$.\n",
    "\n",
    "La idea básica del algoritmo de decimación en el tiempo de la FFT es descomponer el cálculo de la DFT en dos sumas: una sobre los índices pares $n$ de la señal $\\tilde{f}[n]$ y otra sobre los índices impares. Reorganizando los términos podemos escribir:\n",
    "\n",
    "\n",
    "\\begin{equation}\n",
    "\\tilde{F}[k] = \\frac{1}{N}\\left(\\underbrace{\\sum_{m = 0}^{\\frac{N}{2} - 1} \\tilde{f}[2 m] \\, w_N^{k 2m}}_{\\tilde{F}_e[k] =\\text{DFT de elementos pares}} + \n",
    "\\underbrace{\\sum_{m = 0}^{\\frac{N}{2} - 1} \\tilde{f}[2 m + 1] \\, w_N^{k (2 m + 1)}}_{\\tilde{F}_o[k] = \\text{DFT de elementos impares}} \\right)\n",
    "\\end{equation}\n",
    "\n",
    "Notando la exponencial adicional que aparece en el lado derecho, podemos escribir esto mismo de forma más suscinta:\n",
    "\n",
    "\\begin{equation}\n",
    "\\tilde{F}[k] = \\frac{1}{N} \\left(\\tilde{F}_e[k] + w_N^{k} \\cdot \\tilde{F}_o[k] \\right)\n",
    "\\end{equation}\n",
    "\n",
    "donde $\\tilde{F}_e[k]$ es la DFT de largo $N/2$ de las muestras pares y $\\tilde{F}_o[k]$ es la DFT de largo $N/2$ de las muestras impares. Esta forma de la DFT requiere $2 \\cdot (\\frac{N}{2})^2 + N$ multiplicaciones y $2 \\cdot \\frac{N}{2} \\cdot (\\frac{N}{2} -1) + N$ sumas, lo que implica una eficiencia mayor que la forma matricial. \n",
    "\n",
    "En general, para un largo $N = 2^w$ con $w \\in \\mathbb{N}$, potencia de dos, este principio puede aplicarse de forma recursiva hasta que se alcancen DFTs de longitud $2$. Es por esto que este algoritmo se conoce también como radix-2. \n",
    "En el caso general se requieren $\\frac{N}{2} \\log_2 N$ multiplicaciones y $N \\log_2 N$ sumas. La complejidad numérica del algoritmo FFT es, entonces, de orden $\\mathcal{O} (N \\log_2 N)$. La denominación decimación en el tiempo se debe al hecho de que la descomposición se realiza con respecto a la señal $f[n]$ en el dominio del tiempo y no a su espectro $F[k]$.\n",
    "\n",
    "Para el caso $N=16$ se ilustra este algoritmo mediante un diagrama donde se muestran los índices de la señal y el reordenamiento que sufren a medida que el algoritmo avanza. \n",
    "![Algoritmo aplicado a una señal de largo $N=16$](images/FFT1.png)\n",
    "\n",
    "<div class=\"alert alert-block alert-info\">\n",
    "Al final del proceso, obtenemos señales de largo $N=2$, para las cuales el cálculo de la DFT es trivial dado que es simplemente la suma y la resta de las muestras de la señal dividido por dos. Recordemos que la suma (promedio) es un filtro pasa-bajos y la resta es un pasa-altos. Entonces, tiene mucho sentido que una DFT de largo dos simplemente calcule en un coeficiente las frecuencias bajas y en el otro las frecuencias altas. \n",
    "</div>"
   ]
  },
  {
   "cell_type": "markdown",
   "metadata": {
    "lang": "es"
   },
   "source": [
    "***\n",
    "### Pruebas de tiempo de cálculo\n",
    "\n",
    "El algoritmo DIT radix-2 presentado anteriormente solo se puede aplicar en secuencias de largo potencias de dos $N = 2^w$. Sin embargo, es posible aplicar principios similares y otras técnicas para implementar algoritmos eficientes para otros casos.\n",
    "\n",
    "A continuación compararemos el rendimiento de la función [`numpy.fft`](http://docs.scipy.org/doc/numpy/reference/generated/numpy.fft.fft.html#numpy.fft.fft) de `numpy`, que implementa el aloritmo radix-2 de la FFT con el tiempo de ejecución de una DFT calculada mediante su [formulación matricial](./34-DFT.ipynb#representacion_matricial)."
   ]
  },
  {
   "cell_type": "code",
   "execution_count": 36,
   "metadata": {},
   "outputs": [
    {
     "data": {
      "image/png": "[encoded data removed]",
      "text/plain": [
       "<Figure size 1080x576 with 1 Axes>"
      ]
     },
     "metadata": {
      "needs_background": "light"
     },
     "output_type": "display_data"
    }
   ],
   "source": [
    "import matplotlib.pyplot as plt\n",
    "import numpy as np\n",
    "import timeit\n",
    "%matplotlib inline\n",
    "\n",
    "n = np.arange(14)  # lengths = 2**n to evaluate\n",
    "reps = 100  # number of repetitions per measurement\n",
    "\n",
    "# measure execution times\n",
    "timesc = np.zeros(len(n))\n",
    "timesf = np.zeros(len(n))\n",
    "\n",
    "for N in n:\n",
    "    length = 2**N\n",
    "    # setup environment for timeit\n",
    "    tsetup = 'import numpy as np; from scipy.linalg import dft;  \\\n",
    "            f=np.random.randn(%d)+1j*np.random.randn(%d); F = dft(%d)' % (length, length, length)\n",
    "    # DFT\n",
    "    tc = timeit.timeit('np.matmul(F, f)', setup=tsetup, number=reps)\n",
    "    # FFT\n",
    "    tf = timeit.timeit('np.fft.fft(f)', setup=tsetup, number=reps)\n",
    "    # gain by using the FFT\n",
    "    timesc[N] = tc\n",
    "    timesf[N] = tf\n",
    "\n",
    "plt.figure(figsize=(15,8))\n",
    "plt.bar(n-0.2, timesc, 0.35, log=True, label='DFT')\n",
    "plt.bar(n+0.2, timesf, 0.35, log=True, label='FFT')\n",
    "plt.xticks(n, 2**n)\n",
    "plt.title('Tiempos de ejecución de la DFT y FFT')\n",
    "plt.ylim(0.0001,10)\n",
    "plt.xlabel('Largo $N$')\n",
    "plt.ylabel('Log(Tiempo [s])')\n",
    "plt.legend()\n",
    "plt.grid()\n",
    "\n",
    "plt.show()"
   ]
  },
  {
   "cell_type": "markdown",
   "metadata": {
    "nbsphinx": "hidden"
   },
   "source": [
    "<div class=\"alert alert-block alert-warning\">\n",
    "<b>Copyright</b><br>\n",
    "\n",
    "Estos apuntes están licenciados bajo la licencia <a href=\"https://creativecommons.org/licenses/by/4.0/\">Creative Commons Attribution 4.0</a>.<br>\n",
    "Como citar: <i>Rodrigo F. Cádiz, Apuntes de Señales y Sistemas.</i>\n",
    "</div>"
   ]
  }
 ],
 "metadata": {
  "kernelspec": {
   "display_name": "Python 3",
   "language": "python",
   "name": "python3"
  },
  "language_info": {
   "codemirror_mode": {
    "name": "ipython",
    "version": 3
   },
   "file_extension": ".py",
   "mimetype": "text/x-python",
   "name": "python",
   "nbconvert_exporter": "python",
   "pygments_lexer": "ipython3",
   "version": "3.7.7"
  },
  "nbTranslate": {
   "displayLangs": [
    "es"
   ],
   "hotkey": "alt-t",
   "langInMainMenu": true,
   "sourceLang": "en",
   "targetLang": "es",
   "useGoogleTranslate": true
  }
 },
 "nbformat": 4,
 "nbformat_minor": 1
}
