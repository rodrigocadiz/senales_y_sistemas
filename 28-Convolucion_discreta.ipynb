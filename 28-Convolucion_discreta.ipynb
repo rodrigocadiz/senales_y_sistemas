{
 "cells": [
  {
   "cell_type": "markdown",
   "metadata": {
    "nbsphinx": "hidden"
   },
   "source": [
    "# Convolución discreta\n",
    "\n",
    "<div class=\"alert alert-block alert-warning\">\n",
    "Este notebook es parte de una colección de apuntes para el curso IEE2103 Señales y Sistemas, <a href=\"http://https://www.ing.uc.cl/electrica/\">Departamento de Ingeniería Eléctrica</a>, <a href=\"http://www.uc.cl\">Pontificia Universidad Católica de Chile</a>.<br> Profesor: <a href=\"http://www.rodrigocadiz.com\">Rodrigo F. Cádiz</a><br>\n",
    "Consultas y comentarios: <a href=\"mailto:rcadiz@ing.puc.cl\">rcadiz@ing.puc.cl</a>\n",
    "\n",
    "</div>\n",
    "\n",
    "***"
   ]
  },
  {
   "cell_type": "markdown",
   "metadata": {},
   "source": [
    "## Convolución discreta lineal\n",
    "\n",
    "La convolución discreta lineal es una operación muy importante en la teoría de señales y sistemas. Formalmente, la convolución de dos señales discretas $f[n]$ and $h[n]$ se define como:\n",
    "\n",
    "\\begin{equation}\n",
    "f[n] * h[n] = \\sum_{\\kappa = -\\infty}^{\\infty} f[\\kappa] \\cdot h[n - \\kappa] = \\sum_{\\kappa = -\\infty}^{\\infty} f[n - \\kappa] \\cdot h[\\kappa]\n",
    "\\end{equation}\n",
    "\n",
    "donde el símbolo $*$ se utiliza para denotar esta operación. Esta operación también se denota con el símbolo $\\ast_l$, para explicitar que se trata de la convolución lineal. \n",
    "\n",
    "\n",
    "**Nota:** \n",
    "<div class=\"alert alert-block alert-info\">\n",
    "La notación $f[n] * h[n]$ no es formalmente correcta. Es importante recalcar que la convolución es una operación entre funciones y no una operación en la variable independiente, como esta notación insinúa. Es preferible usar la notación $(f * h)[n]$.\n",
    "</div>\n",
    "\n",
    "Obviamente, para que la convolución exista, la serie debe converger. "
   ]
  },
  {
   "cell_type": "markdown",
   "metadata": {},
   "source": [
    "<a name=\"propiedades\"></a>\n",
    "### Propiedades\n",
    "\n",
    "Dadas las señales $f[n]$, $h[n]$, $g[n] \\in \\mathbb{C}$ la convolución exhibe las siguientes propiedades: \n",
    "\n",
    "1. El impulso de Dirac es el [elemento identidad](https://en.wikipedia.org/wiki/Identity_element) de la convolución\n",
    "    \\begin{equation}\n",
    "    f[n] * \\delta[n] = f[n]\n",
    "    \\end{equation}\n",
    "    \n",
    "2. La convolución es [commutativa](https://en.wikipedia.org/wiki/Commutative_property) \n",
    "    \\begin{equation}\n",
    "    f[n] * h[n] = h[n] * f[n]\n",
    "    \\end{equation}\n",
    "    \n",
    "3. La convolución es [asociativa](https://en.wikipedia.org/wiki/Associative_property)\n",
    "    \\begin{equation}\n",
    "    \\left( f[n] * h[n] \\right) * g[n] = f[n] * \\left( h[n] * g[n] \\right) \n",
    "    \\end{equation}\n",
    "\n",
    "5. La convolución es [distributiva](https://en.wikipedia.org/wiki/Distributive_property)\n",
    "    \\begin{equation}\n",
    "    f[n] * \\left( h[n] + g[n] \\right) = f[n] * h[n] + f[n] * g[n]\n",
    "    \\end{equation}\n",
    "\n",
    "5. Multiplicación por un escalar $a \\in \\mathbb{C}$\n",
    "    \\begin{equation}\n",
    "    a \\cdot \\left( f[n] * h[n] \\right) = \\left( a \\cdot f[n] \\right) * h[n] = f[n] * \\left( a \\cdot h[n] \\right)\n",
    "    \\end{equation}\n",
    "\n",
    "La primera propiedad se conoce como la propiedad del cedazo del impulso. Las demás propiedades se pueden demostrar utilizando la definición de la convolución."
   ]
  },
  {
   "cell_type": "markdown",
   "metadata": {},
   "source": [
    "### Interpretación gráfica\n",
    "\n",
    "La convolución usualmente se [interpreta de una manera gráfica](https://en.wikipedia.org/wiki/Convolution#Visual_explanation). Esta interpretación provee información muy útil para entender el cálculo que involucra la convolución y permite estimar su resultado en forma visual de forma rápida. \n",
    "\n",
    "\\begin{equation}\n",
    "g[n] = f[n] * h[n] = \\sum_{\\kappa = -\\infty}^{\\infty} h[\\kappa] \\cdot f[n - \\kappa]\n",
    "\\end{equation}\n",
    "\n",
    "La operación anterior se puede descomponer en cuatro sub-operaciones: \n",
    "\n",
    "1. Sustituir $n$ por $\\kappa$ en $f[n]$ y $h[n]$,\n",
    "\n",
    "2. Reversar el eje del tiempo $f[\\kappa]$ (espejamiento en el eje vertical), para obtener $f[-\\kappa]$\n",
    "\n",
    "3. Desplazar $f[- \\kappa]$ por $n$ para obtener $f[n - \\kappa]$, es decir un desplazamiento hacia la  **derecha** para $n>0$ o hacia la **izquierda** para $n<0$,\n",
    "\n",
    "4. Determinar para cual $n = -\\infty \\dots \\infty$ la versión espejada y desplazada $f[n - \\kappa]$ se traslapa con $h[\\kappa]$, y calcular la suma específica para todos los $n$ relevantes para obtener $g[n]$\n",
    "\n",
    "**Ejemplo**\n",
    "\n",
    "Consideremos las señales discretas causales\n",
    "\n",
    "\\begin{align}\n",
    "f[n] &=  e^{- \\frac{n}{2}} \\vcenter{{\\large \\ulcorner}}[n] \\\\\n",
    "h[n] &= \\frac{4}{5} \\sqcap_N[n] \n",
    "\\end{align}\n",
    "\n",
    "donde $\\vcenter{{\\large \\ulcorner}}[n]$ es el escalón, y $\\sqcap_N$ es un rect de ancho $N$. Consideremos el caso $N=6$.\n",
    "\n",
    "La señal $h[n]$ se puede interpretar como la respuesta al impulso de un sistema LTI que actúa como un filtro pasa-bajos simple. Por lo tanto, es esperable que los bordes de la señal de entrada se suavizen después de la convolución.\n",
    "\n",
    "Antes de proceder, necesitamos definir algunas funciones auxiliares."
   ]
  },
  {
   "cell_type": "code",
   "execution_count": 66,
   "metadata": {},
   "outputs": [],
   "source": [
    "import numpy as np\n",
    "import matplotlib.pyplot as plt\n",
    "%matplotlib inline\n",
    "\n",
    "def step(n):\n",
    "    return np.where(n >= 0, 1.0, 0.0)\n",
    "\n",
    "\n",
    "def rect(n, N):\n",
    "    return np.where((0 <= n) & (n < N), 1.0, 0.0)\n",
    "\n",
    "\n",
    "def h(n):\n",
    "    return 4/5 * rect(n, 6)\n",
    "\n",
    "\n",
    "def f(n):\n",
    "    return step(n) * np.exp(- n/2)\n",
    "\n",
    "\n",
    "def plot_signals(n, f, h, xlabel, hlabel, klabel):\n",
    "    plt.figure(figsize=(8, 4))\n",
    "    plt.stem(n, f, linefmt='C0-', markerfmt='C0o', label=xlabel, use_line_collection=True )\n",
    "    plt.stem(n, h, linefmt='C1-', markerfmt='C1o', label=hlabel, use_line_collection=True )\n",
    "    plt.xlabel(klabel)\n",
    "    plt.legend()\n",
    "    plt.ylim([0, 1.2])\n",
    "    plt.grid(True)"
   ]
  },
  {
   "cell_type": "markdown",
   "metadata": {},
   "source": [
    "Las señales $f[n]$ y $h[n]$ son calculadas y graficadas para un rango específico de $n$."
   ]
  },
  {
   "cell_type": "code",
   "execution_count": 67,
   "metadata": {},
   "outputs": [
    {
     "data": {
      "image/png": "[encoded data removed]",
      "text/plain": [
       "<Figure size 576x288 with 1 Axes>"
      ]
     },
     "metadata": {
      "needs_background": "light"
     },
     "output_type": "display_data"
    }
   ],
   "source": [
    "n = np.arange(-20, 21)\n",
    "\n",
    "plot_signals(n, h(n), f(n), r'$h[n]$', r'$f[n]$', r'$n$')\n"
   ]
  },
  {
   "cell_type": "markdown",
   "metadata": {},
   "source": [
    "El **primer paso** es sustituir $n$ por $\\kappa$, tanto en $f[n]$ como en $h[n]$, para calcular $f[\\kappa]$ y $h[\\kappa]$.\n",
    "\n",
    "Notamos que el eje horizontal representa ahora $\\kappa$, que es una variable temporal auxiliar para calcular la suma. Esto se muestra en el siguiente gráfico."
   ]
  },
  {
   "cell_type": "code",
   "execution_count": 68,
   "metadata": {},
   "outputs": [
    {
     "data": {
      "image/png": "[encoded data removed]",
      "text/plain": [
       "<Figure size 576x288 with 1 Axes>"
      ]
     },
     "metadata": {
      "needs_background": "light"
     },
     "output_type": "display_data"
    }
   ],
   "source": [
    "kappa = np.arange(-20, 21)\n",
    "\n",
    "f1 = f(kappa)\n",
    "h1 = h(kappa)\n",
    "\n",
    "plot_signals(kappa, h1, f1, r'$h[\\kappa]$', r'$f[\\kappa]$', r'$\\kappa$')"
   ]
  },
  {
   "cell_type": "markdown",
   "metadata": {},
   "source": [
    "El **segundo paso** es reversar en el tiempo  $f[\\kappa]$ en la eje de las ordenadas en torno a $\\kappa=0$ para obtener $f[-\\kappa]$"
   ]
  },
  {
   "cell_type": "code",
   "execution_count": 74,
   "metadata": {},
   "outputs": [
    {
     "data": {
      "image/png": "[encoded data removed]",
      "text/plain": [
       "<Figure size 576x288 with 1 Axes>"
      ]
     },
     "metadata": {
      "needs_background": "light"
     },
     "output_type": "display_data"
    }
   ],
   "source": [
    "f2 = f(kappa[::-1])  \n",
    "\n",
    "plot_signals(n, h1, f2, r'$h[\\kappa]$', r'$f[-\\kappa]$', r'$\\kappa$')"
   ]
  },
  {
   "cell_type": "markdown",
   "metadata": {},
   "source": [
    "En el **tercer paso** la secuencia $f[-\\kappa]$ se desplaza en $n$ muestras para obtener $f[n - \\kappa]$. Este desplazamiento se realiza hacia la **derecha** para $n>0$ y para la **izquierda** para $n<0$.\n",
    "\n",
    "Para el **cuarto paso** es útil segmentar el cálculo del resultado de acuerdo al traslape entre $f[n-\\kappa]$ y $h[\\kappa]$.\n",
    "\n",
    "En este ejemplo, hay que considerar tres casos:\n",
    "\n",
    "1. No hay traslape para $n<0$,\n",
    "2. Traslape parcial para $0 \\leq n < 6$, y\n",
    "3. traslape total para $n \\geq 6$ (tomando en cuenta que $f[n]$ es infinita y decae asintóticamente).\n",
    "\n",
    "El primer caso, donde no hay traslape, se ilustra para $n= - 5$ (hacia la izquierda).\n"
   ]
  },
  {
   "cell_type": "code",
   "execution_count": 70,
   "metadata": {},
   "outputs": [
    {
     "data": {
      "image/png": "[encoded data removed]",
      "text/plain": [
       "<Figure size 576x288 with 1 Axes>"
      ]
     },
     "metadata": {
      "needs_background": "light"
     },
     "output_type": "display_data"
    }
   ],
   "source": [
    "f3 = f(-5 + kappa[::-1])\n",
    "\n",
    "plot_signals(n, h1, f3, r'$h[\\kappa]$', r'$f[-5 -\\kappa]$', r'$\\kappa$')"
   ]
  },
  {
   "cell_type": "markdown",
   "metadata": {},
   "source": [
    "De acuerdo a esto es claro que para este caso\n",
    "\n",
    "\\begin{equation}\n",
    "g[n] = 0 \\qquad \\text{para } n < 0\n",
    "\\end{equation}\n",
    "\n",
    "El segundo caso, cuando hay traslape parcial, se ilustra ahora para $n = 3$ (desplazamiento hacia la izquierda)."
   ]
  },
  {
   "cell_type": "code",
   "execution_count": 73,
   "metadata": {},
   "outputs": [
    {
     "data": {
      "image/png": "[encoded data removed]",
      "text/plain": [
       "<Figure size 576x288 with 1 Axes>"
      ]
     },
     "metadata": {
      "needs_background": "light"
     },
     "output_type": "display_data"
    }
   ],
   "source": [
    "f4 = f(3 + kappa[::-1])\n",
    "\n",
    "plot_signals(n, h1, f4, r'$h[\\kappa]$', r'$f[3 -\\kappa]$', r'$\\kappa$')"
   ]
  },
  {
   "cell_type": "markdown",
   "metadata": {},
   "source": [
    "### Entonces, para este caso la suma de convolución otorga:\n",
    "\n",
    "\\begin{equation}\n",
    "g[n] = \\frac{4}{5} \\sum_{\\kappa=0}^{n} e^{-\\frac{n - \\kappa}{2}}  \\qquad \\text{para } 0 \\leq n < 6\n",
    "\\end{equation}\n",
    "\n",
    "El tercer caso, traslape total, se ilustra para $n = 10$."
   ]
  },
  {
   "cell_type": "code",
   "execution_count": 72,
   "metadata": {},
   "outputs": [
    {
     "data": {
      "image/png": "[encoded data removed]",
      "text/plain": [
       "<Figure size 576x288 with 1 Axes>"
      ]
     },
     "metadata": {
      "needs_background": "light"
     },
     "output_type": "display_data"
    }
   ],
   "source": [
    "f5 = f(10 + kappa[::-1])\n",
    "\n",
    "plot_signals(n, h1, f5, r'$h[\\kappa]$', r'$f[10 -\\kappa]$', r'$\\kappa$')"
   ]
  },
  {
   "cell_type": "markdown",
   "metadata": {},
   "source": [
    "En este tercer caso, la integral de convolución es:\n",
    "\n",
    "\\begin{equation}\n",
    "g[n] = \\frac{4}{5} \\sum_{\\kappa=0}^{5} e^{-\\frac{n - \\kappa}{2}}  \\qquad \\text{para } n \\geq 6\n",
    "\\end{equation}\n",
    "\n",
    "El resultado total se compone de estos tres resultados individuales. Como una alternativa y con el objetivo de graficar el resultado, la convolución se evalúa numéricamente mediante la función de numpy `convolve`.\n",
    "\n",
    "\n",
    "NOTA: Esta función `convolve` realiza una convolución plana y no toma encuenta alineamientos particulares respecto a $k$. Por lo tanto, podría ser necesario adaptar el resultado obtenido para obtener un alineamiento adecuado respecto a $k$ si ambas señales no comenzaran exactamente en $k=0$."
   ]
  },
  {
   "cell_type": "code",
   "execution_count": 13,
   "metadata": {},
   "outputs": [
    {
     "data": {
      "image/png": "[encoded data removed]",
      "text/plain": [
       "<Figure size 432x288 with 1 Axes>"
      ]
     },
     "metadata": {
      "needs_background": "light"
     },
     "output_type": "display_data"
    }
   ],
   "source": [
    "def g(n):\n",
    "    return np.convolve(f(n), h(n), mode='same')\n",
    "\n",
    "plt.stem(n, g(n), linefmt='C2-', markerfmt='C2o', use_line_collection=True)\n",
    "plt.xlabel(r'$n$')\n",
    "plt.ylabel(r'$g[n]$')\n",
    "plt.ylim([0, 2])\n",
    "plt.grid(True)"
   ]
  },
  {
   "cell_type": "markdown",
   "metadata": {},
   "source": [
    "***\n",
    "### Convolución lineal de señales de largo finito\n",
    "\n",
    "El largo de una señal discreta $f[n]$ se puede definir por el número total de muestras entre la primera muestra distinta de cero y la última muestra que es cero, más uno. Esto podría incluir cero entre estos límites.\n",
    "\n",
    "Una señal finita es una señal cuyo largo es finito. De acuerdo a esta definición, el impulso de Dirac $\\delta[n]$ es una señal finita de largo uno.\n",
    "\n",
    "<div class=\"alert alert-block alert-info\">\n",
    "La convolución lineal de dos señales finitas es de importancia práctica dado que la convolución solo se puede evaular numéricamente, por ejemplo en un computador, para señales finitas. Cualquier señal infinita se puede truncar a una señal finita de interés multiplicándola por un rect adecuadamente desplazado $\\sqcap_N[n - \\kappa]$. \n",
    "</div>\n",
    "\n",
    "Es por lo tanto, suficiente considerar la convolución de dos señales causales rectangulares de largo $N, M \\in \\mathbb{N}$\n",
    "\n",
    "\\begin{equation}\n",
    "g[n] = \\sqcap_N[n] * \\sqcap_M[n]\n",
    "\\end{equation}\n",
    "\n",
    "para tener una idea del funcionamiento de la convolución de dos señales finitas arbitrarias. \n",
    "\n",
    "Siguiendo la interpretación gráfica de la convolución lineal, el resultado para $N \\leq M$ se puede obtener como\n",
    "\n",
    "\\begin{equation}\n",
    "g[n] = \\begin{cases}\n",
    "0 & \\text{para }  n < 0 \\\\\n",
    "n+1 & \\text{para } 0 \\leq n < N \\\\\n",
    "N & \\text{para } N \\leq n < M \\\\\n",
    "N+M-1-n & \\text{para } M \\leq n < N+M-1\\\\\n",
    "0 & \\text{para } n \\geq N+M-1.\n",
    "\\end{cases}\n",
    "\\end{equation}\n",
    "\n",
    "Por lo tanto, la convolución de dos señales rectangulares es una señal finita. El largo de esta señal es $N+M-1$. Esta intuición se puede generalizar para la convolución de dos señales finitas arbitrarias siguiendo el siguiente razonamiento:\n",
    "\n",
    "La convolución de dos señales finitas de largo $N$ y $M$ respectivamente, resulta en una señal finita de largo $N+M-1$.\n",
    "\n",
    "Para dos señales causales $f[n]$ y $h[n]$ de largos finitos $N$ y $M$ la convolución está dada por:\n",
    "\n",
    "\\begin{equation}\n",
    "f[n] * h[n] = \\sum_{\\kappa = 0}^{N-1} f[\\kappa] \\cdot h[n - \\kappa] = \\sum_{\\kappa = 0}^{M-1} f[n - \\kappa] \\cdot h[\\kappa]\n",
    "\\end{equation}\n",
    "\n",
    "para $0 \\leq n < N+M-1$. El cálculo de cada muestra de salida requiere al menos $N$ multiplicaciones y $N-1$ sumas. La complejidad numérica de la convolución de $N$ muestras de salida es, por lo tanto [del orden de](https://en.wikipedia.org/wiki/Big_O_notation) $\\mathcal{O} ( N^2 )$.\n",
    "\n",
    "**Ejemplo**\n",
    "\n",
    "La convolución de dos señales rectangulares $g[n] = \\sqcap_N[n] * \\sqcap_M[n]$ de largos $N$ y $M$ se calculará para el caso $N=7$ y $M=15$."
   ]
  },
  {
   "cell_type": "code",
   "execution_count": 15,
   "metadata": {},
   "outputs": [
    {
     "data": {
      "image/png": "[encoded data removed]",
      "text/plain": [
       "<Figure size 432x288 with 1 Axes>"
      ]
     },
     "metadata": {
      "needs_background": "light"
     },
     "output_type": "display_data"
    }
   ],
   "source": [
    "N = 7\n",
    "M = 15\n",
    "\n",
    "g = np.convolve(np.ones(N), np.ones(M), mode='full')\n",
    "\n",
    "plt.stem(g, use_line_collection=True)\n",
    "plt.xlabel('$n$')\n",
    "plt.ylabel('$g[n]$')\n",
    "plt.ylim([0, N+.5])\n",
    "plt.xlim([-5, 25])\n",
    "plt.xticks(np.arange(0,21,2));\n",
    "plt.grid(True)"
   ]
  },
  {
   "cell_type": "markdown",
   "metadata": {},
   "source": [
    "**Ejercicio**\n",
    "\n",
    "* Compruebe este resultado de forma analítica."
   ]
  },
  {
   "cell_type": "markdown",
   "metadata": {},
   "source": [
    "***\n",
    "\n",
    "## Convolución periódica o circular y cíclica\n",
    "\n",
    "La [convolución periódica o circular o cíclica](https://en.wikipedia.org/wiki/Circular_convolution) de dos señales discretas finitas $f[n]$ y $h[n]$ se define como:\n",
    "\n",
    "\\begin{equation}\n",
    "f[n] \\circledast_P h[n] = \\sum_{\\kappa=0}^{P-1} \\tilde{f}_P[n - \\kappa] \\; \\tilde{h}_P[\\kappa] =\n",
    "\\sum_{\\kappa=0}^{P-1} \\tilde{f}_P[\\kappa] \\; \\tilde{h}_P[n - \\kappa]\n",
    "\\end{equation}\n",
    "\n",
    "donde $\\circledast_P$ denota la **convolución circular de período $P$**. La sumas periódicas $\\tilde{f}_P[n]$ de $f[n]$ y $\\tilde{h}_P[n]$ de $h[n]$ con período $P$ se definen mediante:\n",
    "\n",
    "\\begin{align}\n",
    "\\tilde{f}_P[n] &= \\sum_{\\nu = -\\infty}^{\\infty} f[\\nu \\cdot P + n] \\\\\n",
    "\\tilde{h}_P[n] &= \\sum_{\\nu = -\\infty}^{\\infty} h[\\nu \\cdot P + n]\n",
    "\\end{align}\n",
    "\n",
    "El resultado de la convolución circular tiene período $P$. La convolución periódica de dos señales es en general distinta a la convolución lineal.\n",
    "\n",
    "En el caso especial en que el largo de una o ambas señales $f[n]$ y $h[n]$ sea menor o igual al período $P$, la suma periódica se convierte en una continuación periódica de la señal o señales. Más aún, la continuación periódica debe hacerse solo para la señal desfasada en la suma de convolución. En este caso especial, la convolución periódica usualmente se llama **convolución cíclica**."
   ]
  },
  {
   "cell_type": "markdown",
   "metadata": {},
   "source": [
    "**Ejemplo - Convolución circular**\n",
    "\n",
    "En el caso que las secuencias $f[n]$ y $h[n]$ tengan el mismo largo, se puede fácilmente cálcular la convolución circular. La siguiente animación muestra una interpretación gráfica del proceso para las secuencias $f[n] = \\{0, 2, 2, 1\\}$ y $h[n] = \\{1, 2, 3, 4\\}$, ambas de largo 4. Notamos que podemos disponer las dos secuencias en un círculo, una en sentido horario y la otra anti-horario, dado que para la convolución una de las dos secuencias se debe espejar. Luego se calcula, para cada valor del desfase $n$, el valor de todas las muestras de las dos secuencias multiplicadas entre sí. El resultado de esta operación es también una secuencia de largo 4.\n",
    "\n",
    "<img src=\"images/28/discrete_conv.gif\" />\n",
    "\n",
    "Este proceso $g[n] = (f \\circledast h)[n]$ puede describirse de acuerdo a las siguiente ecuaciones:\n",
    "\n",
    "$$ g[0] = f[0]h[0] + f[1]h[3] + f[2]h[2] + f[3]h[1] $$\n",
    "$$ g[1] = f[0]h[1] + f[1]h[2] + f[2]h[3] + f[3]h[0] $$\n",
    "$$ g[2] = f[0]h[2] + f[1]h[1] + f[2]h[0] + f[3]h[3] $$\n",
    "$$ g[3] = f[0]h[3] + f[1]h[0] + f[2]h[1] + f[3]h[2] $$\n",
    "\n",
    "o también de forma matricial:\n",
    "\n",
    "$$ \\begin{bmatrix} g[0] \\\\ g[1] \\\\ g[2] \\\\ g[3] \\end{bmatrix} = \\begin{bmatrix} h[0] & h[3] & h[2] & h[1] \\\\ h[1] & h[0] & h[3] & h[2] \\\\ h[2] & h[1] & h[0] & h[3] \\\\ h[3] & h[2] & h[1] & h[0] \\end{bmatrix} \\begin{bmatrix} f[0] \\\\ f[1] \\\\ f[2] \\\\ f[3] \\end{bmatrix}$$\n",
    "\n",
    "A continuación, calcularemos la misma convolución en forma numérica en código, para verificar la solución."
   ]
  },
  {
   "cell_type": "code",
   "execution_count": 76,
   "metadata": {},
   "outputs": [
    {
     "name": "stdout",
     "output_type": "stream",
     "text": [
      "[16. 13. 10. 11.]\n"
     ]
    }
   ],
   "source": [
    "def convolucion_circular(f,h):\n",
    "    r = np.zeros(len(f))\n",
    "    for k in range(len(f)):\n",
    "        for p in range(len(f)):\n",
    "            r[k] = r[k] + (f[p] * h[k-p])\n",
    "    return r\n",
    "\n",
    "f = np.array((0,2,2,1))\n",
    "h = np.array((1,2,3,4))\n",
    "\n",
    "c = convolucion_circular(f,h)\n",
    "print(c)"
   ]
  },
  {
   "cell_type": "markdown",
   "metadata": {},
   "source": [
    "**Ejemplo - Convolución periódica versus lineal**\n",
    "\n",
    "La covolución periódica $g_1[n] = f[n] \\circledast_P h[n]$ y la lineal $g_2[n] = f[n] * h[n]$ de dos señales  $f[n] = \\sqcap_M[n]$ y $h[n] = \\sqcap_N[n]$ será evaluada numéricamente. Para estos propósitos, construimos las siguiente funciones auxiliares que implementan la suma y convolución periódica."
   ]
  },
  {
   "cell_type": "code",
   "execution_count": 75,
   "metadata": {},
   "outputs": [],
   "source": [
    "import numpy as np\n",
    "import matplotlib.pyplot as plt\n",
    "%matplotlib inline\n",
    "\n",
    "\n",
    "def periodic_summation(f, P):\n",
    "    'Acolchamiento para alcanzar un período P en la suma períodica de período P.'\n",
    "    N = len(f)\n",
    "    rows = int(np.ceil(N/P))\n",
    "\n",
    "    if (N < int(P*rows)):\n",
    "        f = np.pad(f, (0, int(P*rows-N)), 'constant')\n",
    "\n",
    "    f = np.reshape(f, (rows, P))\n",
    "\n",
    "    return np.sum(f, axis=0)\n",
    "\n",
    "\n",
    "def periodic_convolve(f, g, P):\n",
    "    'Convolución periódica de dos señales de período P.'\n",
    "    f = periodic_summation(f, P)\n",
    "    h = periodic_summation(g, P)\n",
    "\n",
    "    return np.array([np.dot(np.roll(f[::-1], k+1), h) for k in range(P)], float)"
   ]
  },
  {
   "cell_type": "markdown",
   "metadata": {},
   "source": [
    "Calculemos ahora las convoluciones y grafiquemos las señales resultantes. Notamos que para las señales periódicas  $\\tilde{f}_P[n]$ y $g_1[n]$ solo se muestra un sólo período."
   ]
  },
  {
   "cell_type": "code",
   "execution_count": 45,
   "metadata": {},
   "outputs": [
    {
     "data": {
      "image/png": "[encoded data removed]",
      "text/plain": [
       "<Figure size 432x288 with 1 Axes>"
      ]
     },
     "metadata": {
      "needs_background": "light"
     },
     "output_type": "display_data"
    },
    {
     "data": {
      "image/png": "[encoded data removed]",
      "text/plain": [
       "<Figure size 432x288 with 1 Axes>"
      ]
     },
     "metadata": {
      "needs_background": "light"
     },
     "output_type": "display_data"
    }
   ],
   "source": [
    "M = 32  # largo de señal f[n]\n",
    "N = 16  # largo de señal h[n]\n",
    "P = 24  # periódo de la convolución periódica\n",
    "\n",
    "\n",
    "def rect(n, N):\n",
    "    return np.where((0 <= n) & (n < N), 1.0, 0.0)\n",
    "\n",
    "\n",
    "# señales\n",
    "n = np.arange(M+N-1)\n",
    "f = .5 * rect(n, M)\n",
    "h = rect(n, N)\n",
    "\n",
    "# convolución periódica\n",
    "g1 = periodic_convolve(f, h, P)\n",
    "# convolución lineal\n",
    "g2 = np.convolve(f, h, 'full')\n",
    "\n",
    "# Gráficos\n",
    "plt.figure()\n",
    "plt.stem(periodic_summation(f, P), linefmt='C0-',\n",
    "         markerfmt='C0o', label=r'$\\tilde{f}_P[n]$', use_line_collection=True)\n",
    "plt.stem(f, linefmt='C1--', markerfmt='C1.', label=r'$f[n]$',use_line_collection=True)\n",
    "plt.xlabel(r'$n$')\n",
    "plt.xlim([0, M+N-1])\n",
    "plt.legend()\n",
    "plt.grid()\n",
    "\n",
    "plt.figure()\n",
    "plt.stem(g1, linefmt='C1-', markerfmt='C1o',\n",
    "         label=r'convolución periódica $P={}$'.format(P), use_line_collection=True)\n",
    "plt.stem(g2, linefmt='C0--', markerfmt='C0.', label=r'convolución lineal', use_line_collection=True)\n",
    "plt.xlabel(r'$n$')\n",
    "plt.xlim([0, M+N-1])\n",
    "plt.legend()\n",
    "plt.grid()"
   ]
  },
  {
   "cell_type": "markdown",
   "metadata": {},
   "source": [
    "**Ejercicio**\n",
    "\n",
    "* Cambie el largo $M$ de la señal rectangular $f[n]$. ¿Como cambia el resultado de la convolución circular?\n",
    "* Compare el resultado de la convolución periódica con la lineal. ¿Para qué valores de $P$ ambas dan el mismo resultado?"
   ]
  },
  {
   "cell_type": "markdown",
   "metadata": {},
   "source": [
    "***\n",
    "<a name=\"equivalencia_lineal_periodica\"></a>\n",
    "### Equivalencia de convolución lineal y periódica\n",
    "\n",
    "Sabemos que la convolución lineal de una señal causal $f_L[n]$ de largo $L$ con una señal causal $h_N[n]$ de largo $N$ se describe por:\n",
    "\n",
    "\\begin{equation}\n",
    "g[n] = f_L[n] * h_N[n] = \\sum_{\\kappa = 0}^{L-1} f_L[\\kappa] \\; h_N[n - \\kappa] = \\sum_{\\kappa = 0}^{N-1} h_N[\\kappa] \\; f_L[n - \\kappa]\n",
    "\\end{equation}\n",
    "\n",
    "La señal resultante $g[n]$ es de largo finito $M = N+L-1$. Sin pérdida de generalidad se supone a continuación que $N \\leq L$. El cálculo de $g[n]$ para $k=0,1, \\dots, M-1$ requiere $M \\cdot N$ multiplicaciones y $M \\cdot (N-1)$ adiciones. La complejidad computacional de la convolución es consecuentemente de [orden](https://en.wikipedia.org/wiki/Big_O_notation) $\\mathcal{O}(M \\cdot N)$.\n",
    "\n",
    "La convolución periódica de dos señales $f_L[n]$ y $h_N[n]$ fue definida como:\n",
    "\n",
    "\\begin{equation}\n",
    "f_L[n] \\circledast_P h_N[n] = \\sum_{\\kappa=0}^{P-1} \\tilde{f}_P[n - \\kappa] \\; \\tilde{h}_P[\\kappa]\n",
    "\\end{equation}\n",
    "\n",
    "donde $\\circledast_P$ denota la convolución periódica con período $P$ y $\\tilde{f}_P[n]$ de $f[n]$ y $\\tilde{h}_P[n]$ de $h[n]$ con sus sumas periódicas. El resultado de la convolución periódica tiene un período de $P$.\n",
    "\n",
    "#### ¿Existe alguna forma de calcular una convolución lineal mediante una convolución periódica?\n",
    "La respuesta es sí. Para calcular la convolución lineal mediante una convolución periódica, uno debe tener cuidado de que el resultado de la convolución lineal se ajuste a un período de la convolución periódica. Por lo tanto, la periodicidad debe elegirse como $P \\geq M$ donde $M = N+L-1$. Esto se puede lograr mediante el [acolchamiento](./35-Propiedades_de_la_DFT.ipynb#acolchamiento) $f_L[n]$ a la longitud total de $M$, lo que da como resultado la señal $f_M[n]$ de longitud $M$, que se define como\n",
    "\n",
    "\\begin{equation}\n",
    "f_M[n] = \\begin{cases} \n",
    "f_L[n] & \\text{for } 0 \\leq n < L \\\\\n",
    "0 & \\text{for } L \\leq n < M\n",
    "\\end{cases}\n",
    "\\end{equation}\n",
    "\n",
    "De forma similar se puede hacer para $h_N[n]$, que resulta en la señal $h_M[n]$ con acolchamiento:\n",
    "\n",
    "\\begin{equation}\n",
    "h_M[n] = \\begin{cases} \n",
    "h_N[n] & \\text{for } 0 \\leq n < N \\\\\n",
    "0 & \\text{for } N \\leq n < M\n",
    "\\end{cases}\n",
    "\\end{equation}\n",
    "\n",
    "Usando estas señales, la convolución lineal y periódica son equivalentes para las primeras muestras de $M$: $n = 0,1,\\dots, M-1$\n",
    "\n",
    "\\begin{equation}\n",
    "f_L[n] * h_N[n] = f_M[n] \\circledast_M h_M[n]\n",
    "\\end{equation}"
   ]
  },
  {
   "cell_type": "markdown",
   "metadata": {},
   "source": [
    "#### Ejemplo: convolución lineal y cíclica de dos señales rectangulares"
   ]
  },
  {
   "cell_type": "code",
   "execution_count": 52,
   "metadata": {},
   "outputs": [
    {
     "data": {
      "image/png": "[encoded data removed]",
      "text/plain": [
       "<Figure size 720x576 with 3 Axes>"
      ]
     },
     "metadata": {
      "needs_background": "light"
     },
     "output_type": "display_data"
    }
   ],
   "source": [
    "import numpy as np\n",
    "import matplotlib.pyplot as plt\n",
    "\n",
    "%matplotlib inline\n",
    "\n",
    "L = 8  # largo de la señal f[n]\n",
    "N = 10  # largo de la respuesta al impulso h[n]\n",
    "P = 12 # periodicidad para la convolución periódica\n",
    "\n",
    "# Función que calcula la convolución periódica mediante la DFT(FFT)\n",
    "def cconv(in1,in2,period):\n",
    "    return np.abs(np.fft.ifft(np.fft.fft(in1, period) * np.fft.fft(in2, period)))\n",
    "\n",
    "# Las señales de prueba son dos rects de largos L y N\n",
    "f = np.ones(L)\n",
    "h = np.ones(N)\n",
    "\n",
    "\n",
    "g1 = np.convolve(f, h, 'full') # convolución lineal\n",
    "\n",
    "g2 = cconv(f, h, int(P)) # convolución periódica\n",
    "\n",
    "fp = np.append(f, np.zeros(N-1)) #acolchamiento\n",
    "hp = np.append(h, np.zeros(L-1)) #acolchamiento\n",
    "\n",
    "g3 = cconv(fp, hp, L+N-1) # convolución periódica de las señales acolchadas\n",
    "\n",
    "\n",
    "def plot_signal(g):\n",
    "    plt.stem(g, use_line_collection=True)\n",
    "    plt.xlabel('$n$')\n",
    "    plt.ylabel('$(f * h)[n]$')\n",
    "    plt.xlim([0, N+L])\n",
    "    plt.gca().margins(y=0.1)\n",
    "\n",
    "plt.figure(figsize = (10, 8))\n",
    "plt.subplot(3,1,1)\n",
    "plot_signal(g1)\n",
    "plt.title('Convolución lineal')\n",
    "\n",
    "plt.subplot(3,1,2)\n",
    "plot_signal(g2)\n",
    "plt.title('Convolución periódica de período $P=%d$'%P)\n",
    "\n",
    "plt.subplot(3,1,3)\n",
    "plot_signal(g3)\n",
    "plt.title('Convolución lineal calculada mediante la convolución periódica de período $P=%d$'%(L+N-1))\n",
    "plt.tight_layout()\n",
    "\n",
    "\n",
    "plt.show()"
   ]
  },
  {
   "cell_type": "markdown",
   "metadata": {},
   "source": [
    "<div class=\"alert alert-block alert-warning\">\n",
    "<b>Copyright</b><br>\n",
    "\n",
    "Estos apuntes están licenciados bajo la licencia <a href=\"https://creativecommons.org/licenses/by/4.0/\">Creative Commons Attribution 4.0</a>.<br>\n",
    "Como citar: <i>Rodrigo F. Cádiz, Apuntes de Señales y Sistemas.</i>\n",
    "</div>"
   ]
  }
 ],
 "metadata": {
  "kernelspec": {
   "display_name": "Python 3",
   "language": "python",
   "name": "python3"
  },
  "language_info": {
   "codemirror_mode": {
    "name": "ipython",
    "version": 3
   },
   "file_extension": ".py",
   "mimetype": "text/x-python",
   "name": "python",
   "nbconvert_exporter": "python",
   "pygments_lexer": "ipython3",
   "version": "3.7.7"
  },
  "nbTranslate": {
   "displayLangs": [
    "*"
   ],
   "hotkey": "alt-t",
   "langInMainMenu": true,
   "sourceLang": "en",
   "targetLang": "fr",
   "useGoogleTranslate": true
  },
  "nteract": {
   "version": "0.15.0"
  }
 },
 "nbformat": 4,
 "nbformat_minor": 1
}
