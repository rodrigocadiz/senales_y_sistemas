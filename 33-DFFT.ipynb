{
 "cells": [
  {
   "cell_type": "markdown",
   "metadata": {
    "nbsphinx": "hidden"
   },
   "source": [
    "# Transformada de Fourier de Frecuencia Discreta (DFFT)\n",
    "\n",
    "<div class=\"alert alert-block alert-warning\">\n",
    "Este notebook es parte de una colección de apuntes para el curso IEE2103 Señales y Sistemas, <a href=\"http://https://www.ing.uc.cl/electrica/\">Departamento de Ingeniería Eléctrica</a>, <a href=\"http://www.uc.cl\">Pontificia Universidad Católica de Chile</a>.<br> Profesor: <a href=\"http://www.rodrigocadiz.com\">Rodrigo F. Cádiz</a><br>\n",
    "Consultas y comentarios: <a href=\"mailto:rcadiz@ing.puc.cl\">rcadiz@ing.puc.cl</a>\n",
    "\n",
    "</div>\n",
    "\n",
    "***"
   ]
  },
  {
   "cell_type": "markdown",
   "metadata": {},
   "source": [
    "## Derivación\n",
    "\n",
    "Consideremos el caso de una señal periódica contínua $\\tilde{f}(t)$, construída mediante la periodización de una función no periódica original $f(t)$. Supongamos que $F(u)$ es la Transformada de Fourier de esta señal original. La transformada de Fourier $F_s(u) = \\mathcal{F}\\{\\tilde{f}(t)\\}$ se puede construir a partir del muestreo de $F(u)$, con período de muestreo $U = 1/T$. Es decir, nos interesa poder construir $F[k]$ a partir de \n",
    "\n",
    "$$ F[k] = F\\left(\\frac{k}{T}\\right) $$\n",
    "\n",
    "El espectro muestreado $F_s(u)$ es\n",
    "\n",
    "$$ F_s(u) = F  {\\bot \\!\\! \\bot \\!\\! \\bot}_{\\frac{1}{T}} = \\sum_{k=-\\infty}^{\\infty}  F \\mathbf{\\delta_{\\frac{k}{T}}} = \\sum_{k=-\\infty}^{\\infty}  F(\\frac{k}{T}) \\mathbf{\\delta_{\\frac{k}{T}}} $$\n",
    "\n",
    "Ahora, podemos tomar la Transformada de Fourier inversa de esta función muestreada\n",
    "\n",
    "$$ \\mathcal{F^{-1}}\\{F_s\\}(t) = \\mathcal{F^{-1}}\\{\\sum_{k=-\\infty}^{\\infty}  F(\\frac{k}{T}) \\mathbf{\\delta_{\\frac{k}{T}}}\\} = \\sum_{k=-\\infty}^{\\infty}  F\\left(\\frac{k}{T}\\right) \\mathcal{F^{-1}}\\{\\mathbf{\\delta_{\\frac{k}{T}}}\\} = \\sum_{k=-\\infty}^{\\infty}  F\\left(\\frac{k}{T}\\right) e^{i 2\\pi t \\frac{k}{T}} $$\n",
    "\n",
    "\n",
    "Otra forma de calcular este resultado es la siguiente: \n",
    "\n",
    "$$ \\mathcal{F}^{-1}\\{F_s\\}(t) = \\mathcal{F^{-1}}\\{ F  {\\bot \\!\\! \\bot \\!\\! \\bot}_{\\frac{1}{T}} \\} = f \\ast T {\\bot \\!\\! \\bot \\!\\! \\bot}_{T} = T \\sum_{k=-\\infty}^{\\infty} f(t - kT) $$\n",
    "\n",
    "Con lo que concluímos que: \n",
    "\n",
    "$$ \\tilde{f}(t) = \\mathcal{F}^{-1}\\{F_s\\}(t) = T \\sum_{k=-\\infty}^{\\infty} f(t - kT) =  \\sum_{k=-\\infty}^{\\infty}  F\\left(\\frac{k}{T}\\right) e^{i 2\\pi t \\frac{k}{T}} $$\n",
    "\n",
    "Esta igualdad también se puede obtener de la [fórmula de la suma de Poisson](A1-Fundamentos_matematicos.ipynb#formula_suma_Poisson). Observamos que el resultado es una función periódica, de período $T$, construída a partir de réplicas desplazadas de la función no periódica original $f(t)$, que denotamos $\\tilde{f}(t)$, para recalcar su naturaleza periódica. A partir de esta derivación, podemos definir la DFFT inversa primero para luego definir la directa."
   ]
  },
  {
   "cell_type": "markdown",
   "metadata": {
    "lang": "es"
   },
   "source": [
    "## Definición de la DFFT inversa\n",
    "\n",
    "La transformada de Fourier de frecuencia discreta inversa (IDFFT) de un espectro discreto $F[k]$ se define como\n",
    "\n",
    "\\begin{equation}\n",
    "\\boxed{\\text{IDFFT}\\{F\\}(t) = \\tilde{f}(t) = \\sum_{k = -\\infty}^{\\infty} F[k] \\, e^{i 2 \\pi t \\frac{k}{T}}}\n",
    "\\end{equation}\n",
    "\n",
    "donde $t \\in \\mathbb{R}$. La IDFFT mapea un espectro discreto $F[k]$ con $k \\in \\mathbb{Z}$ hacia una señal continua $\\tilde{f}(t) = \\mathcal{F^{-1}}\\{ F[k] \\}$ con $t \\in \\mathbb{R}$. Existen otras definiciones de la DFFT que se pueden encontrar en la literatura, las cuales difieren con respecto al signo de la función exponencial, la variable independiente escogida y los factores de normalización. \n",
    "\n",
    "Una condición suficiente pero no necesaria para la existencia de la IDFFT es\n",
    "\n",
    "\\begin{equation}\n",
    "\\left|\\tilde{f}(t)\\right| = \\left| \\sum_{k = -\\infty}^{\\infty} F[k] \\, e^{i 2 \\pi t \\frac{k}{T}} \\right| \n",
    "\\leq \\sum_{k = -\\infty}^{\\infty} \\left| F[k] \\right| < \\infty\n",
    "\\end{equation}\n",
    "\n",
    "donde el límite superior resulta de la [desigualdad triángular](https://en.wikipedia.org/wiki/Triangle_inequality). Como condición suficiente para la existencia de la DFFT, se deduce que un espectro $F[k]$ debe ser absolutamente sumable.\n",
    "\n",
    "<div class=\"alert alert-block alert-info\">\n",
    "La DFFT es periódica de período $T$,\n",
    "\n",
    "\\begin{equation}\n",
    "\\tilde{f}(t) = \\tilde{f}\\left(t + nT \\right)\n",
    "\\end{equation}\n",
    "\n",
    "para $n \\in \\mathbb{Z}$. Por lo tanto, es suficiente considerar la DFFT en un solo período. Por lo general, se elige el período $-\\frac{T}{2} < t < \\frac{T}{2}$. \n",
    "</div>"
   ]
  },
  {
   "cell_type": "markdown",
   "metadata": {},
   "source": [
    "***\n",
    "## DFFT directa\n",
    "Hemos visto que la información sobre el espectro discreto $F[k]$ está contenida en un solo período de su Transformada inversa de Fourier. \n",
    "\n",
    "Podemos derivar la DTFT directa utilizando la Transformada de Fourier:\n",
    "\n",
    "$$ F(u) = \\mathcal{F}\\{f\\}(u) = \\int_{\\mathbb{R}} f(t) e^{-i 2 \\pi u t} dt $$\n",
    "\n",
    "\n",
    "Suponiendo que $f(t)$ es de tiempo o espacio limitado, esto es:\n",
    "\n",
    "$$ \\tilde{f}(t) = 0, \\; |t| > \\frac{T}{2} $$\n",
    "\n",
    "entonces no hay traslape entre las réplicas en el dominio del tiempo o espacio. En este caso podemos reconstruir el espectro original mediante la integración en un sólo período, es decir\n",
    "\n",
    "$$ F(u) = \\mathcal{F}\\{\\tilde{f}\\}(u) = \\int_{-\\frac{T}{2}}^{\\frac{T}{2}} \\tilde{f}(t) e^{-i 2 \\pi u t} dt $$\n",
    "\n",
    "Recordando que el espectro que queremos reconstruir es discreto, es decir\n",
    "\n",
    "$$ F[k] = F(\\frac{n}{T}) $$\n",
    "\n",
    "y además, considerando que cuando la señal es muestreada las réplicas quedan escaladas por $1/T$, podemos definir la transformada de Fourier de tiempo discreto como:\n",
    "\n",
    "\\begin{equation}\n",
    "\\boxed{\\text{DFFT}\\{f\\}[k] = F[k] = \\frac{1}{T} \\int_{\\frac{-T}{2}}^{\\frac{T}{2}} \\tilde{f}(t) \\, e^{-i 2 \\pi t \\frac{k}{T}} \\; dt = \\frac{1}{T} \\int_{0}^{T} \\tilde{f}(t) \\, e^{-i 2 \\pi t \\frac{k}{T}} \\; dt }\n",
    "\\end{equation}\n",
    "\n"
   ]
  },
  {
   "cell_type": "markdown",
   "metadata": {},
   "source": [
    "***\n",
    "## Relación con las Series de Fourier\n",
    "\n",
    "Recordemos las fórmulas de síntesis y análisis de las [Series de Fourier](./12-Series_de_Fourier.ipynb):\n",
    "\n",
    "\\begin{equation}\n",
    "S_f(t)= \\sum_{n \\in \\mathbb{Z}} c_n(f) e^{i 2 \\pi n t/T}\n",
    "\\end{equation}\n",
    "\n",
    "\n",
    "\\begin{equation}\n",
    "c_n(f)= \\frac{1}{T}\\int_{0}^{T} f(t)e^{-i 2 \\pi n t/T} dt\n",
    "\\end{equation}\n",
    "\n",
    "\n",
    "Comparándolas con la DFFT directa e inversa:\n",
    "\n",
    "\\begin{equation}\n",
    "\\tilde{f}(t) = \\sum_{k = -\\infty}^{\\infty} F[k] \\, e^{i 2 \\pi t \\frac{k}{T}}\n",
    "\\end{equation}\n",
    "\n",
    "\\begin{equation}\n",
    "F[k]  = \\frac{1}{T} \\int_{0}^{T} \\tilde{f}(t) \\, e^{-i 2 \\pi t \\frac{k}{T}} \\; dt \n",
    "\\end{equation}\n",
    "\n",
    "<div class=\"alert alert-block alert-info\">\n",
    "Observando las fórmulas para la DFFT y las Series de Fourier, es claro que los coeficientes de la Serie $c_n(f)$ y $F[k]$ de la DFFT son equivalentes. \n",
    "</div>"
   ]
  },
  {
   "cell_type": "markdown",
   "metadata": {
    "nbsphinx": "hidden"
   },
   "source": [
    "<div class=\"alert alert-block alert-warning\">\n",
    "<b>Copyright</b><br>\n",
    "\n",
    "Estos apuntes están licenciados bajo la licencia <a href=\"https://creativecommons.org/licenses/by/4.0/\">Creative Commons Attribution 4.0</a>.<br>\n",
    "Como citar: <i>Rodrigo F. Cádiz, Apuntes de Señales y Sistemas.</i>\n",
    "</div>"
   ]
  }
 ],
 "metadata": {
  "kernelspec": {
   "display_name": "Python 3",
   "language": "python",
   "name": "python3"
  },
  "language_info": {
   "codemirror_mode": {
    "name": "ipython",
    "version": 3
   },
   "file_extension": ".py",
   "mimetype": "text/x-python",
   "name": "python",
   "nbconvert_exporter": "python",
   "pygments_lexer": "ipython3",
   "version": "3.7.7"
  },
  "nbTranslate": {
   "displayLangs": [
    "es"
   ],
   "hotkey": "alt-t",
   "langInMainMenu": true,
   "sourceLang": "en",
   "targetLang": "es",
   "useGoogleTranslate": true
  }
 },
 "nbformat": 4,
 "nbformat_minor": 1
}
