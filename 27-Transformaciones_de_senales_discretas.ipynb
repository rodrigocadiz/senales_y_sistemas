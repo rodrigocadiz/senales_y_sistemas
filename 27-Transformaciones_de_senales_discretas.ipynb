{
 "cells": [
  {
   "cell_type": "markdown",
   "metadata": {
    "nbsphinx": "hidden"
   },
   "source": [
    "# Transformaciones de señales discretas\n",
    "\n",
    "<div class=\"alert alert-block alert-warning\">\n",
    "Este notebook es parte de una colección de apuntes para el curso IEE2103 Señales y Sistemas, <a href=\"http://https://www.ing.uc.cl/electrica/\">Departamento de Ingeniería Eléctrica</a>, <a href=\"http://www.uc.cl\">Pontificia Universidad Católica de Chile</a>.<br> Profesor: <a href=\"http://www.rodrigocadiz.com\">Rodrigo F. Cádiz</a><br>\n",
    "Consultas y comentarios: <a href=\"mailto:rcadiz@ing.puc.cl\">rcadiz@ing.puc.cl</a>\n",
    "\n",
    "</div>\n",
    "\n",
    "***"
   ]
  },
  {
   "cell_type": "markdown",
   "metadata": {},
   "source": [
    "## Operaciones sobre señales discretas\n",
    "\n",
    "Se pueden realizar ciertas operaciones matemáticas sobre las señales discretas, que pueden entenderse como transformaciones de las mismas.\n",
    "\n",
    "***\n",
    "### Superposición\n",
    "Las señales pueden sumarse, lo que se conoce como el principio de superposición. La superposición ponderada $x[n]$ de dos señales $x_1[n]$ y $x_2[n]$ está dada por:\n",
    "\n",
    "\\begin{equation}\n",
    "x[n] = A \\cdot x_1[n] + B \\cdot x_2[n]\n",
    "\\end{equation}\n",
    "\n",
    "con los pesos complejos $A, B \\in \\mathbb{C}$.\n",
    "\n",
    "**Ejemplo:**\n",
    "\n",
    "En el siguiente ejemplo las amplitudes de dos señales harmónicas $x[n] = A \\cdot \\cos[\\omega_1 n] + B \\cdot \\cos[\\omega_2 n]$ con ponderaciones $A$, $B$ y frecuencias angulares $\\omega_1$ y $\\omega_2$."
   ]
  },
  {
   "cell_type": "code",
   "execution_count": 2,
   "metadata": {},
   "outputs": [
    {
     "data": {
      "image/png": "[encoded data removed]",
      "text/plain": [
       "<Figure size 432x216 with 1 Axes>"
      ]
     },
     "metadata": {
      "needs_background": "light"
     },
     "output_type": "display_data"
    }
   ],
   "source": [
    "import numpy as np\n",
    "import matplotlib.pyplot as plt\n",
    "%matplotlib inline\n",
    "\n",
    "n = np.arange(0, 51)\n",
    "x = np.cos(2 * np.pi / 10 * n) + 2 * np.cos(2 * np.pi / 12 * n)\n",
    "\n",
    "plt.figure(figsize=(6, 3))\n",
    "plt.stem(n, x, use_line_collection=True)\n",
    "plt.xlabel('$n$')\n",
    "plt.ylabel('$x[n]$')\n",
    "plt.gca().margins(y=0.1)\n",
    "plt.title('Suma de dos secuencias discretas')\n",
    "plt.show()"
   ]
  },
  {
   "cell_type": "markdown",
   "metadata": {},
   "source": [
    "***\n",
    "### Desplazamiento  o desfase\n",
    "\n",
    "Las señales pueden desplazarse. El desfase temporal de una señal en una cantidad $\\kappa$ es una operación muy frecuente en el procesamiento de señales. El desfase de una señal $s[n]$ en un índice $\\kappa$ se define como:\n",
    "\n",
    "\\begin{equation}\n",
    "x[n] = s[n-\\kappa]\n",
    "\\end{equation}\n",
    "\n",
    "con $\\kappa \\in \\mathbb{Z}$. La señal $s[n]$ se\n",
    "\n",
    "* mueve hacia la derecha (*retrasa*) para $\\kappa > 0$\n",
    "* mueve hacia la izquierda (*adelanta*) para $\\kappa < 0$\n",
    "\n",
    "Una forma de ver comprobar esto es verificar donde queda el origen de la nueva señal trasladada respecto a la señal original. Para esto, se evalúa el argumento cuando es igual a cero.\n",
    "\n",
    "El desfase de una señal es una operación frecuente en el procesamiento discreto de señales. Por ejemplo, para la descripción de sistemas mediante ecuaciones de diferencias lineales con coeficientes constantes. Para una señal discreta que se ha construido mediante el [muestreo temporal de una señal continua](../sampling/ideal.ipynb), el desfase se puede interepretar como un [desplazamiento temporal](../continuous_signals/operations.ipynb#Temporal-Shift) en una cantidad temporal $\\tau = \\kappa \\cdot T$ donde $T$ denota el intervalo de muestreo. \n",
    "\n",
    "**Ejemplo**\n",
    "\n",
    "Con el objetivo de mostrar el desplazamiento de señales, la construcción de una [señal diente de sierra](https://en.wikipedia.org/wiki/Sawtooth_wave) mediante la superposición señales rampa desplazadas $n \\cdot \\sqcap_N[n]$ se muestra en el sigiuente código. La señal diente de sierre se construye como una continuación periódica de la señal rampa\n",
    "\n",
    "\\begin{equation}\n",
    "x[n] = \\sum_{\\nu = -\\infty}^{\\infty} (n - \\nu \\cdot N) \\cdot \\sqcap_N[n - \\nu \\cdot N]\n",
    "\\end{equation}\n",
    "\n",
    "Esta señal se puede calcular eficientemente mediante la [operación modulo](https://en.wikipedia.org/wiki/Modulo_operation)\n",
    "\n",
    "\\begin{equation}\n",
    "x[n] = n \\bmod N\n",
    "\\end{equation}\n",
    "\n",
    "que se ilustra en el siguiente ejemplo:"
   ]
  },
  {
   "cell_type": "code",
   "execution_count": 3,
   "metadata": {},
   "outputs": [
    {
     "data": {
      "image/png": "[encoded data removed]",
      "text/plain": [
       "<Figure size 432x216 with 1 Axes>"
      ]
     },
     "metadata": {
      "needs_background": "light"
     },
     "output_type": "display_data"
    }
   ],
   "source": [
    "def sawtooth(n, N):\n",
    "    return np.mod(n, N)\n",
    "\n",
    "\n",
    "n = np.arange(-10, 40)\n",
    "x = sawtooth(n, 10)\n",
    "\n",
    "plt.figure(figsize=(6, 3))\n",
    "plt.stem(n, x, use_line_collection=True)\n",
    "plt.xlabel('$n$')\n",
    "plt.ylabel('$x[n]$')\n",
    "plt.gca().margins(y=0.1)"
   ]
  },
  {
   "cell_type": "markdown",
   "metadata": {},
   "source": [
    "### Reversión o espejamiento\n",
    "\n",
    "La reversión de una señal $s[n]$ se define como\n",
    "\n",
    "\\begin{equation}\n",
    "x[n] = s[\\kappa - n]\n",
    "\\end{equation}\n",
    "\n",
    "con $\\kappa \\in \\mathbb{Z}$. Esta operación de espejamiento se puede representar también como una reversión del índice $n$ de la señal $s[k]$ seguido por un desplazamiento de $\\kappa$ de la señal reversada, como $s[\\kappa - n] = s[- (n - \\kappa)]$. La operación se interpreta en forma geométrica como un espejamuento de la señal $s[n]$ en torno al eje vertical $n = \\frac{\\kappa}{2}$.\n",
    "\n",
    "Para $\\kappa = 0$ esto resulta en la señal reversada. Esta reversión se puede interpretar como una reversión temporal para una señal discreta que ha sido muestreada a partir de una señal contínua.\n",
    "\n",
    "**Ejemplo**\n",
    "\n",
    "El siguiente ejemplo ilustra la reversión temporal de la señal diente de sierra anterior para $\\kappa = 3$."
   ]
  },
  {
   "cell_type": "code",
   "execution_count": 4,
   "metadata": {},
   "outputs": [
    {
     "data": {
      "image/png": "[encoded data removed]",
      "text/plain": [
       "<Figure size 432x216 with 1 Axes>"
      ]
     },
     "metadata": {
      "needs_background": "light"
     },
     "output_type": "display_data"
    }
   ],
   "source": [
    "x = sawtooth(3 - n, 10)\n",
    "\n",
    "plt.figure(figsize=(6, 3))\n",
    "plt.stem(n, x, use_line_collection=True)\n",
    "plt.xlabel('$n$')\n",
    "plt.ylabel('$x[n]$')\n",
    "plt.gca().margins(y=0.1)"
   ]
  },
  {
   "cell_type": "markdown",
   "metadata": {},
   "source": [
    "***\n",
    "### Escalamiento\n",
    "\n",
    "El escalamiento de una señal discreta no existe como tal, porque el escalar implica una operación de re-muestreo, pero si se puede interpretar en término de dos operaciones muy utilizadas en el procesamiento discreto de señales: [interpolación o upsampling](https://en.wikipedia.org/wiki/Interpolation) y [decimación o downsampling](https://en.wikipedia.org/wiki/Downsampling_(signal_processing)). Interpolar implica intercalar muestras, mientras decimar es quitar muestras de la señal.\n",
    "\n",
    "**Ejemplo:**\n",
    "\n",
    "Veamos que sucede cuando se interpola la función diente de sierra anterior agregando una muestra por medio:"
   ]
  },
  {
   "cell_type": "code",
   "execution_count": 6,
   "metadata": {},
   "outputs": [
    {
     "data": {
      "image/png": "[encoded data removed]",
      "text/plain": [
       "<Figure size 432x216 with 1 Axes>"
      ]
     },
     "metadata": {
      "needs_background": "light"
     },
     "output_type": "display_data"
    },
    {
     "data": {
      "image/png": "[encoded data removed]",
      "text/plain": [
       "<Figure size 432x216 with 1 Axes>"
      ]
     },
     "metadata": {
      "needs_background": "light"
     },
     "output_type": "display_data"
    }
   ],
   "source": [
    "from scipy.interpolate import interp1d\n",
    "from scipy import signal\n",
    "\n",
    "import numpy as np\n",
    "\n",
    "n = np.linspace(0, 49, 50)\n",
    "x = sawtooth(n, 10)\n",
    "ki = np.linspace(0, 49, 99)\n",
    "\n",
    "\n",
    "plt.figure(figsize=(6, 3))\n",
    "plt.stem(x, use_line_collection=True)\n",
    "plt.xlabel('$n$')\n",
    "plt.ylabel('$x[n]$')\n",
    "plt.gca().margins(y=0.1)\n",
    "plt.title('Señal original')\n",
    "\n",
    "\n",
    "y = np.interp(ki,n,x)\n",
    "\n",
    "plt.figure(figsize=(6, 3))\n",
    "plt.stem(y, use_line_collection=True)\n",
    "plt.xlabel('$n$')\n",
    "plt.ylabel('$y[n]$')\n",
    "plt.gca().margins(y=0.1)\n",
    "plt.title('Señal interpolada')\n",
    "plt.show()"
   ]
  },
  {
   "cell_type": "markdown",
   "metadata": {},
   "source": [
    "**Ejemplo:**\n",
    "\n",
    "Veamos ahora que sucede cuando se decima la función diente de sierra anterior quitando una muestra por medio:"
   ]
  },
  {
   "cell_type": "code",
   "execution_count": 7,
   "metadata": {},
   "outputs": [
    {
     "data": {
      "image/png": "[encoded data removed]",
      "text/plain": [
       "<Figure size 432x216 with 1 Axes>"
      ]
     },
     "metadata": {
      "needs_background": "light"
     },
     "output_type": "display_data"
    },
    {
     "data": {
      "image/png": "[encoded data removed]",
      "text/plain": [
       "<Figure size 432x216 with 1 Axes>"
      ]
     },
     "metadata": {
      "needs_background": "light"
     },
     "output_type": "display_data"
    }
   ],
   "source": [
    "from scipy.interpolate import interp1d\n",
    "from scipy import signal\n",
    "\n",
    "import numpy as np\n",
    "\n",
    "n = np.linspace(0, 49, 50)\n",
    "x = sawtooth(n, 10)\n",
    "ki = np.linspace(0, 49, 25)\n",
    "\n",
    "\n",
    "plt.figure(figsize=(6, 3))\n",
    "plt.stem(x, use_line_collection=True)\n",
    "plt.xlabel('$n$')\n",
    "plt.ylabel('$x[n]$')\n",
    "plt.gca().margins(y=0.1)\n",
    "plt.title('Señal original')\n",
    "\n",
    "\n",
    "y = x[0::2]\n",
    "plt.figure(figsize=(6, 3))\n",
    "plt.stem(y, use_line_collection=True)\n",
    "plt.xlabel('$n$')\n",
    "plt.ylabel('$y[n]$')\n",
    "plt.gca().margins(y=0.1)\n",
    "plt.title('Señal decimada')\n",
    "plt.show()"
   ]
  },
  {
   "cell_type": "markdown",
   "metadata": {
    "nbsphinx": "hidden"
   },
   "source": [
    "<div class=\"alert alert-block alert-warning\">\n",
    "<b>Copyright</b><br>\n",
    "\n",
    "Estos apuntes están licenciados bajo la licencia <a href=\"https://creativecommons.org/licenses/by/4.0/\">Creative Commons Attribution 4.0</a>.<br>\n",
    "Como citar: <i>Rodrigo F. Cádiz, Apuntes de Señales y Sistemas.</i>\n",
    "</div>"
   ]
  }
 ],
 "metadata": {
  "kernelspec": {
   "display_name": "Python 3",
   "language": "python",
   "name": "python3"
  },
  "language_info": {
   "codemirror_mode": {
    "name": "ipython",
    "version": 3
   },
   "file_extension": ".py",
   "mimetype": "text/x-python",
   "name": "python",
   "nbconvert_exporter": "python",
   "pygments_lexer": "ipython3",
   "version": "3.7.7"
  },
  "nbTranslate": {
   "displayLangs": [
    "*"
   ],
   "hotkey": "alt-t",
   "langInMainMenu": true,
   "sourceLang": "en",
   "targetLang": "fr",
   "useGoogleTranslate": true
  },
  "nteract": {
   "version": "0.14.4"
  }
 },
 "nbformat": 4,
 "nbformat_minor": 1
}
