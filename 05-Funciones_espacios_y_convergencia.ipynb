{
 "cells": [
  {
   "cell_type": "markdown",
   "metadata": {
    "nbsphinx": "hidden"
   },
   "source": [
    "# Funciones, espacios y convergencia\n",
    "\n",
    "<div class=\"alert alert-block alert-warning\">\n",
    "Este notebook es parte de una colección de apuntes para el curso IEE2103 Señales y Sistemas, <a href=\"http://https://www.ing.uc.cl/electrica/\">Departamento de Ingeniería Eléctrica</a>, <a href=\"http://www.uc.cl\">Pontificia Universidad Católica de Chile</a>.<br> Profesor: <a href=\"http://www.rodrigocadiz.com\">Rodrigo F. Cádiz</a><br>\n",
    "Consultas y comentarios: <a href=\"mailto:rcadiz@ing.puc.cl\">rcadiz@ing.puc.cl</a>\n",
    "\n",
    "</div>\n",
    "\n",
    "***"
   ]
  },
  {
   "cell_type": "markdown",
   "metadata": {},
   "source": [
    "## Integración \n",
    "\n",
    "### Limitaciones de la integral de Riemann\n",
    "\n",
    "La primera definición rigurosa de una integral de una función sobre un intervalo fue la propuesta por Riemann. \n",
    "\n",
    "Esta definición, si bien es muy útil, no es suficientemente buena por varias razones y hoy en día el análisis de Fourier, entre otros, se puede establecer de mejor manera mediante la integral de Lebesgue.\n",
    "\n",
    "Una de las mayores limitaciones es que la integral de Riemann se define para funciones e intervalos acotados y no se define de buena manera sobre el campo de los reales $\\mathbb{R}$.\n",
    "\n",
    "Una de las formas de extender la integral de Riemann a una función $f$ sobre $\\mathbb{R}$ es mediante lo que se conoce como integrales impropias:\n",
    "\n",
    "$$ \\int_{-\\infty}^{\\infty} f(t) dt = \\lim_{a\\rightarrow -\\infty, b \\rightarrow \\infty} \\int_{a}^{b}f(t)dt  $$\n",
    "\n",
    "Esto tiene sentido sólo cuando el límite en la parte derecha de la ecuación existe. El problema es que en muchos casos, este límite no existe y la integral no está definida, lo que puede conducir a resultados distintos dependiendo de la forma en que se llenen los intervalos."
   ]
  },
  {
   "cell_type": "markdown",
   "metadata": {},
   "source": [
    "### La integral de Lebesgue\n",
    "<div class=\"alert alert-block alert-info\">\n",
    "Esta integral es una definición más general de la integral, que se puede aplicar a una mayor clase de funciones.\n",
    "La integral de Lebesgue es un funcional, que para toda funcion integrable $f$, le asocia un número complejo:\n",
    "\n",
    "\n",
    "$$f \\mapsto  \\int_{\\mathbb{R}} f(t) dt \\;\\;\\; \\mathbb{C}$$\n",
    "\n",
    "Para que una función $f:\\mathbb{R}\\mapsto\\mathbb{C}$ sea integrable en el sentido de Lebesgue (o simplemente <b>integrable</b>) sobre $\\mathbb{R}$, es necesario y suficiente que:\n",
    "\n",
    "$$\\boxed{ \\int_{\\mathbb{R}} |f(t)|dt < \\infty  } $$\n",
    "\n",
    "y el espacio de las funciones integrables se denota por $L^1(\\mathbb{R};\\mathbb{C})$. Este es un espacio vectorial de funciones, tal como se discute a continuación.\n",
    "\n",
    "La integral de Lebesgue es una aplicación lineal de $L^1(\\mathbb{R};\\mathbb{C})$ a $\\mathbb{C}$.\n",
    "</div>"
   ]
  },
  {
   "cell_type": "markdown",
   "metadata": {},
   "source": [
    "***\n",
    "## Espacios funcionales y convergencias\n",
    "\n",
    "Las funciones matemáticas pueden considerarse como una extensión de la idea de vectores. Los vectores existen en espacios vectoriales. De la misma manera, las funciones existen en espacios de funciones, que también pueden entenderse como espacios vectoriales. Un espacio lineal es un conjunto donde las operaciones de multiplicación por un escalar y la superposición de dos elementos está definida, satisfaciendo ciertas propiedades. Los espacios operan sobre campos, por ejemplos los números reales $\\mathbb{R}$ o los complejos $\\mathbb{C}$.\n",
    "\n",
    "Las funciones, entendidas de esta manera, son realmente vectores, es decir puntos en los espacios de funciones. Por lo tanto es posible medir normas y distancias entre funciones, y definir convergencia.\n",
    "\n",
    "### Espacio vectorial de funciones\n",
    "Un set de funciones $E$ sobre es un espacio vectorial si es cerrado para las operaciones de adición y multiplicación por un número complejo:\n",
    "\n",
    "$$ \\forall \\; f,g \\in E, \\;\\;\\;\\;\\;\\; f + g \\; \\in E $$\n",
    "\n",
    "$$ \\forall \\; f \\in E, \\; \\forall \\;\\lambda \\in \\mathbb{C}, \\;\\;\\;\\;\\;\\; \\lambda f \\in E $$\n",
    "\n",
    "### La norma de una función\n",
    "\n",
    "Sea $E$ un espacio vectorial de funciones en $\\mathbb{C}$. Sea $ \\| \\; \\|:  E  \\rightarrow \\mathbb{R}_{\\geq 0} $ una aplicación que verifica:\n",
    "\n",
    "1 $  \\| f \\| = 0  $ si y solo si $f=0$.\n",
    "\n",
    "2 $\\forall \\; f \\in E$ y $\\forall\\; \\lambda \\in \\mathbb{C}$, uno tiene $ \\| \\lambda f \\| =  |\\lambda| \\| f \\| $\n",
    "\n",
    "3 $\\forall \\; f,g \\in E$, se tiene la desigualdad triangular $   \\|  f+g \\|  \\leq  \\|  f \\|  +  \\|  g \\| $ \n",
    "\n",
    "decimos entonces que $(E,\\| \\; \\|)$ es un espacio vectorial normado, y $  \\| \\;  \\| $ se conoce como la norma.\n",
    "\n",
    "### Distancia entre dos funciones\n",
    "\n",
    "Si $(E, \\ | \\; \\ |)$ es un espacio vectorial normalizado, entonces es posible definir la distancia $d$ entre $f,g \\in E$ como la norma del elemento $f-g$\n",
    "\n",
    "$$\n",
    "d(f,g) := \\|  f-g \\|  \n",
    "$$\n",
    "\n",
    "Luego, en un espacio vectorial de funciones normadas dado, podemos definir la distancia entre dos funciones en analogía completa a las distancias entre puntos en $\\mathbb{R}^N$. De la definición, queda claro que $ d(f,g) = 0 $ si y solo si $ f=g $, y que la desigualdad triangular se cumple para las distancias entre las funciones $d(f,g ) \\leq d(f,h) + d(h,g)$. Una vez que se define la distancia entre funciones, es posible asociar una topología al espacio $E$: se pueden definir subconjuntos abiertos y cerrados, esferas, bolas y, de manera crucial, el concepto de convergencia de una secuencia.\n",
    "\n",
    "### Convergencia\n",
    "\n",
    "Sea $\\{f_n\\}_{n \\in \\mathbb{N}}$ una secuencia de elementos del espacio vectorial $(E,\\|\\; \\|_E)$. Se dice que $f_n$ converge a $f \\in E$ si:\n",
    "\n",
    "$$  \\lim_{n \\rightarrow \\infty}\\| f_n - f\\|_E = 0  $$ \n",
    "\n",
    "y escribimos \n",
    "\n",
    "$$ f_n \\xrightarrow[\\text{}]{\\text{E}} f  $$\n"
   ]
  },
  {
   "cell_type": "markdown",
   "metadata": {},
   "source": [
    "***\n",
    "## El espacio de funciones acotadas $L^{\\infty}(\\mathbb{R};\\mathbb{C})$\n",
    "\n",
    "Consideremos el espacio de funciones complejas acotadas sobre $\\mathbb{R}$, denotado por $L^{\\infty}(\\mathbb{R};\\mathbb{C})$. \n",
    "\n",
    "La norma de una función acotada en este espacio $ L^{\\infty} (\\mathbb{R};\\mathbb{C})$, denotada por $ \\| f \\|_{\\infty}$, se define como:\n",
    "\n",
    "$$\n",
    " \\boxed{\\| f \\|_{\\infty} := \\sup_{t \\in \\mathbb{R}}  | f(t) |   \\;\\;\\; \\in \\; \\mathbb{R}_{\\geq 0} }\n",
    "$$\n",
    "\n",
    "Es fácil verificar que $\\|  \\; \\|_{\\infty}$ satisface las propiedades de una norma. En este espacio, la distancia entre dos funciones acotadas $f$ y $g$ es:\n",
    "\n",
    "$$  \\|  f-g \\|_{\\infty} =   \\sup_{t \\in \\mathbb{R}}  | f(t)-g(t) |     $$\n",
    "\n"
   ]
  },
  {
   "cell_type": "markdown",
   "metadata": {},
   "source": [
    "***\n",
    "## El espacio de funciones integrables $L^{1}(\\mathbb{R};\\mathbb{C})$\n",
    "\n",
    "El conjunto de funciones complejas $f: \\mathbb{R} \\rightarrow \\mathbb{C}$ que son integrables sobre $\\mathbb{R}$ forman un espacio vectorial particular dado que la Transformada de Fourier en su definición típica está definida en este espacio. Una función es integrable sobre $\\mathbb{R}$ si:\n",
    "\n",
    "$$ \\int_{\\mathbb{R}} | f(t) | dt  < \\infty  $$\n",
    "\n",
    "\n",
    "El conjunto de funciones integrables forma el espacio $L^1(\\mathbb{R};\\mathbb{C})$. Por ejemplo, cualquier combinación lineal de dos funciones integrables sigue siendo una función integrable dado que para $f, g \\in L^1(\\mathbb{R};\\mathbb{C})$, tenemos:\n",
    "\n",
    "$$ \\int_{\\mathbb{R}} | \\alpha_1 f(t) + \\alpha_2 g(t) | dt  \\leq  |\\alpha_1 | \\int_{\\mathbb{R}} | f(t) | dt  + |\\alpha_2| \\int_{\\mathbb{R}} | g(t) | dt  < \\infty \\;\\;\\; \\alpha_1, \\alpha_2 \\in \\mathbb{C} $$\n",
    "\n",
    "Es posible definir entonces la norma-$L_1$ de cualquier elemento de $L^1(\\mathbb{R};\\mathbb{C})$ como el siguiente número, que es siempre positivo o cero:\n",
    "\n",
    "$$\n",
    " \\boxed{\\| f \\| _{L^1} := \\int_{\\mathbb{R}} | f(t) | dt \\;\\;\\; \\in \\mathbb{R}_{\\geq 0} }\n",
    " \\label{def_norm_L1}\n",
    "$$\n"
   ]
  },
  {
   "cell_type": "markdown",
   "metadata": {},
   "source": [
    "***\n",
    "## El espacio de funciones cuadrado integrables $L^{2}(\\mathbb{R};\\mathbb{C})$\n",
    "\n",
    "Otro espacio funcional particularmente útil es el espacio de funciones cuadrado integrables, para las cuales \n",
    "$$ \\int_{\\mathbb{R}}| f (t) |^2 dt   < \\infty $$\n",
    "\n",
    "Este espacio tiene algunas propiedades interesantes, como por ejemplo la invariancia bajo la Transformada de Fourier: la transformada de Fourier de cualquier elemento de $L^2(\\mathbb{R};\\mathbb{C})$ también es una función cuadrado integrable.\n",
    "\n",
    "En $ L^2(\\mathbb{R};\\mathbb{C})$ es posible definir el producto interno entre dos elementos $f$ y $g$ de $ L^2(\\mathbb{R};\\mathbb{C})$ via\n",
    "\n",
    "$$  ( f,g ) = \\int_{ \\mathbb{R}} f(t)^* g(t) dt   $$\n",
    "\n",
    "de tal manera que la norma-$L_2$ de un elemento $f \\in L^2(\\mathbb{R};\\mathbb{C})$  es\n",
    "\n",
    "$$\\| f \\|_{L^2} = \\sqrt{  ( f,f ) }  = \\left( \\int_{\\mathbb{R}}| f (t) |^2 dt   \\right)^{1/2} < \\infty $$\n",
    "\n",
    "Esto es completamente análogo al producto interno y la norma de un vector en un espacio vectorial finito."
   ]
  },
  {
   "cell_type": "markdown",
   "metadata": {},
   "source": [
    "***\n",
    "<a name=\"convergencia\"></a>\n",
    "## Convergencia\n",
    "\n",
    "Una diferencia importante entre los espacios funcionales, que son de dimensión infinita, y los espacios vectoriales finitos, es que hay una variedad de nociones diferentes de convergencia. Para una secuencia de funciones $\\{f_n \\}_{n \\in \\mathbb{N}} $, hay más de una forma en que puede converger a una función $f$ y es importante especificar a cuál uno se refiere.\n",
    "\n",
    "### Convergencia punto a punto\n",
    "Sea $\\{f_n\\}_{n \\in \\mathbb{N}}$ una secuencia de funciones $f_n:\\mathbb{R} \\mapsto \\mathbb{C}$. Decimos que la secuencia $f_n$ converge punto a punto (pointwise) a $f$ si, para todo $t \\in \\mathbb{R}$, la secuencia $f_n(t)$ converge a el número $f(t)$. \n",
    "\n",
    "Esto se denota:\n",
    "\n",
    "$$ f_n \\xrightarrow[\\text{}]{\\text{punto a punto}} f$$\n",
    "\n",
    "o simplemente \n",
    "$$ f_n(t) \\rightarrow f(t) \\;\\;\\;\\; \\forall t \\in \\mathbb{R} $$\n",
    "\n",
    "Similarmente, la secuencia $S(t) = \\sum_{n \\in \\mathbb{N}} u_n(t)$ converge punto a punto si la secuencia de sumas parciales $\\sum_{n=1}^{N}u_n(t)$ converge a $S(t)$.\n",
    "\n",
    "Para determinar si una secuencia o una serie convergen puntualmente, se utilizan para cada valor de $t$ las herramientas habituales relacionadas con las secuencias numéricas.\n",
    "\n",
    "### Convergencia casi en todos los lugares \n",
    "Sea $\\{f_n\\}_{n \\in \\mathbb{N}}$ una secuencia de funciones $f_n:\\mathbb{R} \\mapsto \\mathbb{C}$. Decimos que $f_n$ converge a $f$ casi en todas partes (almost everywhere), y escribimos\n",
    "\n",
    "$$  f_n \\xrightarrow[\\text{}]{\\text{a.e}} f $$\n",
    "\n",
    "si el conjunto de valores $t$ para los cuales no hay convergencia punto a punto tiene medida cero. Es importante notar que esta noción de convergencia es menos restrictiva que la convergencia punto a punto y es suficiente para asegurar la convergencia de las integrales.\n",
    "\n",
    " \n",
    "### Convergencia uniforme o convergencia-$L^\\infty$\n",
    "En el espacio $L^{\\infty}(\\mathbb{R};\\mathbb{C})$ de funciones acotadas, una secuencia $\\{f_n\\}_{n \\in \\mathbb{N}} \\in L^\\infty(\\mathbb{R};\\mathbb{C})$ converge a $f$ en $L^{\\infty}(\\mathbb{R};\\mathbb{C})$ si\n",
    "\n",
    "$$ \\lim_{n \\rightarrow \\infty}\\| f_n-f\\|_{\\infty} = \\lim_{n \\rightarrow \\infty} \\sup_{t \\in \\mathbb{R}} |f_n(t)-f(t)| = 0   $$\n",
    "\n",
    "lo que se llama convergencia uniforme y escribimos\n",
    "\n",
    "$$ f_n \\xrightarrow[\\text{}]{L^{\\infty}} f $$\n",
    "\n",
    "\n",
    "### Convergencia promedio o convergencia  $L^1$\n",
    "Sea $\\{f_n\\}_{n \\in \\mathbb{N}} \\in L^1(\\mathbb{R};\\mathbb{C})$ una secuencia de funciones integrables. La secuencia converge a una función integrable $f$ si:\n",
    "\n",
    "$$\\lim_{n \\rightarrow \\infty}\\| f_n-f\\|_{L^1} =\\lim_{n \\rightarrow \\infty}\\int_{\\mathbb{R}}|f_n(t)-f(t)|dt = 0  $$\n",
    "\n",
    "esto se llama convergencia promedio o convergencia $L^1$ y se escribe\n",
    "\n",
    "$$ f_n \\xrightarrow[\\text{}]{L^{1}} f  $$\n",
    "\n",
    "### Convergencia promedio cuadrada o convergencia  $L^2$\n",
    "Sea $ \\{f_n\\}_{n \\in \\mathbb{N}} \\in L^2(\\mathbb{R};\\mathbb{C})$ una secuencia de funciones cuadrado integrables. La secuencia converge a un función cuadrado integrable $f$ si:\n",
    "\n",
    "$$\\lim_{n \\rightarrow \\infty}\\| f_n-f\\|_{L^2} =\\lim_{n \\rightarrow \\infty}\\left(\\int_{\\mathbb{R}}|f_n(t)-f(t)|^2dt\\right)^{1/2} = 0  $$\n",
    "\n",
    "esto se llama convergencia promedio cuadrado o convergencia $L^2$ y se escribe\n",
    "\n",
    "$$ f_n \\xrightarrow[\\text{}]{L^{2}} f  $$\n",
    "\n"
   ]
  },
  {
   "cell_type": "markdown",
   "metadata": {
    "nbsphinx": "hidden"
   },
   "source": [
    "<div class=\"alert alert-block alert-warning\">\n",
    "<b>Copyright</b><br>\n",
    "\n",
    "Estos apuntes están licenciados bajo la licencia <a href=\"https://creativecommons.org/licenses/by/4.0/\">Creative Commons Attribution 4.0</a>.<br>\n",
    "Como citar: <i>Rodrigo F. Cádiz, Apuntes de Señales y Sistemas.</i>\n",
    "</div>"
   ]
  }
 ],
 "metadata": {
  "kernelspec": {
   "display_name": "Python 3",
   "language": "python",
   "name": "python3"
  },
  "language_info": {
   "codemirror_mode": {
    "name": "ipython",
    "version": 3
   },
   "file_extension": ".py",
   "mimetype": "text/x-python",
   "name": "python",
   "nbconvert_exporter": "python",
   "pygments_lexer": "ipython3",
   "version": "3.7.7"
  },
  "nbTranslate": {
   "displayLangs": [
    "*"
   ],
   "hotkey": "alt-t",
   "langInMainMenu": true,
   "sourceLang": "en",
   "targetLang": "fr",
   "useGoogleTranslate": true
  },
  "nteract": {
   "version": "0.14.4"
  }
 },
 "nbformat": 4,
 "nbformat_minor": 1
}
