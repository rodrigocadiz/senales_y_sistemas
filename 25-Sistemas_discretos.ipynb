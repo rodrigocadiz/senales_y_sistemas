{
 "cells": [
  {
   "cell_type": "markdown",
   "metadata": {
    "nbsphinx": "hidden"
   },
   "source": [
    "# Sistemas discretos\n",
    "\n",
    "<div class=\"alert alert-block alert-warning\">\n",
    "Este notebook es parte de una colección de apuntes para el curso IEE2103 Señales y Sistemas, <a href=\"http://https://www.ing.uc.cl/electrica/\">Departamento de Ingeniería Eléctrica</a>, <a href=\"http://www.uc.cl\">Pontificia Universidad Católica de Chile</a>.<br> Profesor: <a href=\"http://www.rodrigocadiz.com\">Rodrigo F. Cádiz</a><br>\n",
    "Consultas y comentarios: <a href=\"mailto:rcadiz@ing.puc.cl\">rcadiz@ing.puc.cl</a>\n",
    "\n",
    "</div>\n",
    "\n",
    "***"
   ]
  },
  {
   "cell_type": "markdown",
   "metadata": {},
   "source": [
    "## Concepto de sistema\n",
    "\n",
    "Un sistema puede concebirse como una colección de elementos que ejecutan una función e idealizarse como una caja negra, con entradas y salidas, tal como lo muestra la figura.\n",
    "<img src=\"images/sistema.png\">\n",
    "En este caso, la entrada se denota por la variable $x$, la salida por $y$ y el sistema mediante $\\mathcal{L}\\{\\cdot\\}$.\n",
    "\n",
    "Un sistema se puede escribir matemáticamente como:\n",
    "\n",
    "- $\\mathcal{L}\\{x[n]\\} = y[n]$\n",
    "\n",
    "o bien\n",
    "\n",
    "- $x[n] \\rightarrow y[n]$\n",
    "\n",
    "\n",
    "Al modelar sistemas en forma matemática, las entradas y salidas (señales) discretas son secuencias de números, mientras que los sistemas son funciones de estas secuencias, funciones compuestas, transformadas u operadores.\n",
    "\n",
    "**Ejemplos de sistemas discretos**\n",
    "\n",
    "- Un algoritmo computacional\n",
    "- La bolsa de comercio (toma valores sólo un vez al día)\n",
    "- Efecto digital de audio"
   ]
  },
  {
   "cell_type": "markdown",
   "metadata": {},
   "source": [
    "Los sistemas discretos:\n",
    "    - Operan sobre señales discretas\n",
    "    - Ejemplo: algoritmo computacional\n",
    "    - Se representan por ecuaciones de diferencias\n",
    "    - Los parámetros del sistema se definen sólo en ciertos puntos de la variable independiente\n",
    "        \n",
    "    \n",
    "**Ejemplo de un sistema híbrido**\n",
    "Sistema de retraso de audio en el computador.\n",
    "    \n",
    "***\n",
    "\n",
    "\n",
    "## Interconexión de sistemas\n",
    "\n",
    "Los sistemas se pueden interconectar en serie (cascada) o en paralelo, tal como lo muestra la figura:\n",
    "\n",
    "\n",
    "<img src=\"images/series-parallel.jpg\">"
   ]
  },
  {
   "cell_type": "markdown",
   "metadata": {},
   "source": [
    "## Propiedades de sistemas\n",
    "\n",
    "Los sistemas discretos pueden tener las siguientes propiedades:\n",
    "\n",
    "- [Causalidad](#causalidad)\n",
    "- [Linealidad](#linealidad)\n",
    "- [Invariancia](#invariancia)\n",
    "- [Estabilidad](#estabilidad)\n",
    "- [Memoria](#memoria)\n",
    "- [Invertibilidad](#invertibilidad)\n",
    "\n",
    "***"
   ]
  },
  {
   "cell_type": "markdown",
   "metadata": {},
   "source": [
    "### Causalidad\n",
    "<a name=\"causalidad\"></a>\n",
    "\n",
    "El [principio de causalidad](https://en.wikipedia.org/wiki/Causality) estipula que un efecto proviene de una causa anterior. Por supuesto esto tiene mucho sentido en sistemas temporales, que operan en el tiempo, una variable que físicamente no se puede revertir. Pero un sistema no temporal puede perfectamente violar este principio, por ejemplo un filtro que se aplica a una imagen, donde el resultado del proceso puede depender de píxeles posicionados a la izquierda o a la derecha del filtro. Estos tipos de sistemas son no-causales.\n",
    "\n",
    "\n"
   ]
  },
  {
   "cell_type": "markdown",
   "metadata": {},
   "source": [
    "**Ejemplo**\n",
    "\n",
    "En la siguiente animación se muestra un ejemplo de un sistema no causal, donde la salida del sistema (el píxel que se forma en la imagen de arriba), depende de un grupo de píxeles de la imagen de entrada, arriba, abajo, a la izquierda y derecha del píxel central.\n",
    "<img src=\"images/sistema-no-causal.gif\">\n",
    "\n",
    "(Imagen obtenida de: Vincent Dumoulin, Francesco Visin - [A guide to convolution arithmetic for deep learning (BibTeX)](https://arxiv.org/abs/1603.07285))\n",
    "\n",
    "\n",
    "**Causalidad temporal:**\n",
    "Un sistema físico, que depende en el tiempo, es causal si su salida en cualquier tiempo depende sólo de los valores de la entrada en el momento presente y en el pasado.\n",
    "\n",
    "\n",
    "**Ejemplo: sistema causal**\n",
    "\n",
    "$$ y[n] = \\sum_{n=-\\infty}^{n} x^2[n] $$\n",
    "\n",
    "**Ejemplo: sistema no causal**\n",
    "\n",
    "$$ y[k] = \\Phi(x[k+1]) $$\n",
    "\n",
    "***"
   ]
  },
  {
   "cell_type": "markdown",
   "metadata": {},
   "source": [
    "<a name=\"linealidad\"></a>\n",
    "### Linealidad\n",
    "\n",
    "\n",
    "La linealidad implica que se cumple con dos principios: el de homogeneidad y el de superposición. Matemáticamete, dado un sistema $\\mathcal{L}\\{ \\cdot \\}$ y una entrada $x(t)$, este es lineal si es que cumple con:\n",
    "\n",
    "- Homogeneidad: $\\mathcal{L}\\{\\alpha x[n]\\} = \\alpha \\mathcal{L}\\{x[n]\\}$\n",
    "- Superposición: $\\mathcal{L}\\{x_1[n]+x_2[n]\\} = \\mathcal{L}\\{x_1[n]\\} + \\mathcal{L}\\{x_2[n]\\} $"
   ]
  },
  {
   "cell_type": "markdown",
   "metadata": {},
   "source": [
    "***\n",
    "<a name=\"invariancia\"></a>\n",
    "### Invariancia\n",
    "\n",
    "Un sistema es inviariante es uno que mantiene sus características cuando hay retrasos o adelantos en la variable independiente. Matemáticamente:\n",
    "\n",
    "Si \n",
    "\n",
    "$\\mathcal{L}\\{f[n]\\} = g[n]$\n",
    "\n",
    "entonces \n",
    "\n",
    "$\\mathcal{L}\\{f[n-m]\\} = g[n-m]$\n",
    "\n",
    "La cantidad $m$ se conoce como desfase o retraso.\n",
    "\n",
    "***\n",
    "\n"
   ]
  },
  {
   "cell_type": "markdown",
   "metadata": {},
   "source": [
    "<a name=\"estabilidad\"></a>\n",
    "### Estabilidad\n",
    "\n",
    "Un sistema estable es aquel que, dada una entrada acotada, genera una salida acotada. Esto implica que la salida del sistema no crece indefinidamente. En otras palabras, entradas pequeñas conducen a respuestas que no divergen.\n",
    "\n",
    "***\n"
   ]
  },
  {
   "cell_type": "markdown",
   "metadata": {},
   "source": [
    "### Memoria\n",
    "<a name=\"memoria\"></a>\n",
    "Un sistema con memoria es aquel que depende de valores pasados o futuros (izquierdos o derechos, arriba o abajo) de la entrada. Por el contrario, un sistema sin memoria es aquel que solo depende del valor presente de la entrada.\n",
    "\n",
    "**Ejemplo: sistema sin memoria**\n",
    "\n",
    "$g[n] = \\Phi(f[n])$\n",
    "\n",
    "**Ejemplo: sistema con memoria**\n",
    "\n",
    "$y[n] = \\Phi(x[n-1])$\n",
    "\n",
    "***\n"
   ]
  },
  {
   "cell_type": "markdown",
   "metadata": {},
   "source": [
    "### Invertibilidad \n",
    "<a name=\"invertibilidad\"></a>\n",
    "\n",
    "Un sistema es invertible si observando su salida es posible determinar su entrada. Si un sistema es invertible, entonces se puede constriur un sistema inverso en cascada con el sistema original que produce como salida la entrada original.\n",
    "\n",
    "\n",
    "<img src=\"images/sistema-invertible.png\">\n",
    "\n",
    "\n",
    "***\n",
    "\n"
   ]
  },
  {
   "cell_type": "markdown",
   "metadata": {},
   "source": [
    "## Ejercicios\n",
    "\n",
    "Considere el sistema \n",
    "\n",
    "$y[n] = x[sen[n]]$\n",
    "\n",
    "- ¿Es el sistema lineal?\n",
    "- ¿Es el sistema causal?\n",
    "\n",
    "\n",
    "Considere el sistema \n",
    "\n",
    "$y[n] = nx[n]$\n",
    "\n",
    "- ¿Es el sistema lineal?\n",
    "- ¿Es el sistema invariante?\n",
    "\n",
    "***"
   ]
  },
  {
   "cell_type": "markdown",
   "metadata": {},
   "source": [
    "***\n",
    "\n",
    "## Prueba de linealidad (superposición)"
   ]
  },
  {
   "cell_type": "code",
   "execution_count": 9,
   "metadata": {},
   "outputs": [
    {
     "data": {
      "image/png": "[encoded data removed]",
      "text/plain": [
       "<Figure size 1008x360 with 2 Axes>"
      ]
     },
     "metadata": {
      "needs_background": "light"
     },
     "output_type": "display_data"
    }
   ],
   "source": [
    "#Adaptado de: \n",
    "#https://dspillustrations.com/pages/posts/misc/linearity-causality-and-time-invariance-of-a-system.html\n",
    "\n",
    "import numpy as np\n",
    "from matplotlib import pyplot as plt\n",
    "\n",
    "n = np.arange(20)\n",
    "x1 = lambda n: np.sin(n)\n",
    "x2 = lambda n: (n % (2*np.pi))/np.pi\n",
    "\n",
    "def pruebaLinealidad(s, titleStr):\n",
    "    plt.figure(figsize=(14,5))\n",
    "    x1plusx2 = lambda n: x1(n)+x2(n)\n",
    "    plt.subplot(121)\n",
    "    plt.stem(n, x1(n), label=r'$x_1[n]$',use_line_collection=True,linefmt='r-', markerfmt='rs', basefmt='r-')\n",
    "    plt.stem(n, x2(n), label=r'$x_2[n]$',use_line_collection=True,linefmt='b-', markerfmt='bs', basefmt='b-')\n",
    "    plt.stem(n, x1plusx2(n), label=r'$x_1[n]+x_2[n]$',use_line_collection=True)\n",
    "    plt.legend()\n",
    "    \n",
    "    plt.subplot(122)\n",
    "    plt.stem(n, s(x1)(n), label=r'$Tr\\{x_1[n]\\}$',use_line_collection=True,linefmt='r-', markerfmt='rs', basefmt='r-')\n",
    "    plt.stem(n, s(x2)(n), label=r'$Tr\\{y_2[n]\\}$',use_line_collection=True,linefmt='b-', markerfmt='bs', basefmt='b-')\n",
    "    plt.stem(n, s(x1)(n)+s(x2)(n), 'k--', label=r'$L\\{x_1[n]\\}+L\\{x_2[n]\\}$',use_line_collection=True)\n",
    "    plt.stem(n, s(x1plusx2)(n), label=r'$L\\{x_1[n]+x_2[n]\\}$',use_line_collection=True,linefmt='k+', markerfmt='ks', basefmt='k-')\n",
    "    plt.legend()\n",
    "    plt.title(titleStr)\n",
    "    \n",
    "def sistema(x):\n",
    "    return lambda n: np.sin(x(n))\n",
    "\n",
    "pruebaLinealidad(sistema, '$y[n]=x[sin[n]]$')"
   ]
  },
  {
   "cell_type": "markdown",
   "metadata": {},
   "source": [
    "***\n",
    "\n",
    "## Prueba de invariancia"
   ]
  },
  {
   "cell_type": "code",
   "execution_count": 10,
   "metadata": {},
   "outputs": [
    {
     "data": {
      "image/png": "[encoded data removed]",
      "text/plain": [
       "<Figure size 1008x360 with 2 Axes>"
      ]
     },
     "metadata": {
      "needs_background": "light"
     },
     "output_type": "display_data"
    }
   ],
   "source": [
    "#Adaptado de: \n",
    "#https://dspillustrations.com/pages/posts/misc/linearity-causality-and-time-invariance-of-a-system.html\n",
    "\n",
    "import numpy as np\n",
    "from matplotlib import pyplot as plt\n",
    "\n",
    "n = np.arange(20)\n",
    "x = lambda n: np.exp(-n)*(n>=0).astype(float)\n",
    "\n",
    "def pruebaInvariancia(s,titleStr):\n",
    "    \n",
    "    plt.figure(figsize=(14,5))\n",
    "    plt.subplot(121)\n",
    "    plt.stem(n, x(n), label='$x[n]$',use_line_collection=True,linefmt='r-', markerfmt='rs', basefmt='r-')\n",
    "    plt.stem(n, x(n-0.5), label=r'$x[n-\\frac{1}{2}]$',use_line_collection=True,linefmt='b-', markerfmt='bs', basefmt='b-')\n",
    "    plt.stem(n, x(n-1), label=r'$x[n-1]$',use_line_collection=True,linefmt='k-', markerfmt='ks', basefmt='k-')\n",
    "    plt.legend()\n",
    "    \n",
    "    plt.subplot(122)\n",
    "    y1 = s(x)\n",
    "    y2 = s(lambda n: x(n-0.5))\n",
    "    y3 = s(lambda n: x(n-1))\n",
    "    plt.stem(n, y1(n), label=r'$L\\{x[n]\\}$',use_line_collection=True,linefmt='r-', markerfmt='rs', basefmt='r-')\n",
    "    plt.stem(n, y2(n), label=r'$L\\{x[n-\\frac{1}{2}]\\}$',use_line_collection=True,linefmt='b-', markerfmt='bs', basefmt='b-')\n",
    "    plt.stem(n, y3(n), label=r'$L\\{x[n-1]\\}$',use_line_collection=True,linefmt='k-', markerfmt='ks', basefmt='k-')\n",
    "    plt.legend()\n",
    "    plt.title(titleStr)\n",
    "    \n",
    "    \n",
    "def sistema(x):\n",
    "    return lambda n: n*np.sin(x(n))\n",
    "\n",
    "pruebaInvariancia(sistema, '$y[n]=sin(x[n])$')"
   ]
  },
  {
   "cell_type": "markdown",
   "metadata": {
    "nbsphinx": "hidden"
   },
   "source": [
    "<div class=\"alert alert-block alert-warning\">\n",
    "<b>Copyright</b><br>\n",
    "\n",
    "Estos apuntes están licenciados bajo la licencia <a href=\"https://creativecommons.org/licenses/by/4.0/\">Creative Commons Attribution 4.0</a>.<br>\n",
    "Como citar: <i>Rodrigo F. Cádiz, Apuntes de Señales y Sistemas.</i>\n",
    "</div>"
   ]
  }
 ],
 "metadata": {
  "@webio": {
   "lastCommId": null,
   "lastKernelId": null
  },
  "kernelspec": {
   "display_name": "Python 3",
   "language": "python",
   "name": "python3"
  },
  "language_info": {
   "codemirror_mode": {
    "name": "ipython",
    "version": 3
   },
   "file_extension": ".py",
   "mimetype": "text/x-python",
   "name": "python",
   "nbconvert_exporter": "python",
   "pygments_lexer": "ipython3",
   "version": "3.7.7"
  },
  "nbTranslate": {
   "displayLangs": [
    "*"
   ],
   "hotkey": "alt-t",
   "langInMainMenu": true,
   "sourceLang": "en",
   "targetLang": "fr",
   "useGoogleTranslate": true
  }
 },
 "nbformat": 4,
 "nbformat_minor": 1
}
