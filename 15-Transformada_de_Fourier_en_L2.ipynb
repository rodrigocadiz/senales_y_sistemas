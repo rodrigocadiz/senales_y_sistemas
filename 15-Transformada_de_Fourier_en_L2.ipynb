{
 "cells": [
  {
   "cell_type": "markdown",
   "metadata": {
    "nbsphinx": "hidden"
   },
   "source": [
    "# Transformada de Fourier en $L^2$\n",
    "\n",
    "<div class=\"alert alert-block alert-warning\">\n",
    "Este notebook es parte de una colección de apuntes para el curso IEE2103 Señales y Sistemas, <a href=\"http://https://www.ing.uc.cl/electrica/\">Departamento de Ingeniería Eléctrica</a>, <a href=\"http://www.uc.cl\">Pontificia Universidad Católica de Chile</a>.<br> Profesor: <a href=\"http://www.rodrigocadiz.com\">Rodrigo F. Cádiz</a><br>\n",
    "Consultas y comentarios: <a href=\"mailto:rcadiz@ing.puc.cl\">rcadiz@ing.puc.cl</a>\n",
    "\n",
    "</div>\n",
    "\n",
    "***"
   ]
  },
  {
   "cell_type": "markdown",
   "metadata": {},
   "source": [
    "## Definición intuitiva\n",
    "\n",
    "Es obvio que la definición de la Transformada de Fourier en $L^1$ solo puede emplearse para un conjunto relativamente pequeño de funciones que son integrables. En muchos campos, como la mecánica cuántica, otros espacios funcionales como $L^2$ (el espacio de las funciones cuadrado integrables) juegan un rol importante. \n",
    "\n",
    "A continuación ampliaremos la Transformada de Fourier a funciones $L^2$. Sin embargo, existen funciones claves para el análisis de señales como el Delta de Dirac $\\delta$ o el escalón de Heaviside, o las funciones seno y coseno que no son ni $L^1$ ni $L^2$. Esta es la razón por la cual será necesario extender posteriormente la Transformada de Fourier a un espacio mucho más general, el de las distribuciones temperadas.\n",
    "\n",
    "Sea $f$ una función cuadrado integrable que no es integrable. Para definir su Transformada de Fourier, la idea es aproximar $f$ mediante una secuencia de funciones cuadrado integrables  $(f_n)_{n \\in \\mathbb{N}}$ que son integrables, $f_n \\in L^1(\\mathbb{R;\\mathbb{C}}) \\cap L^2(\\mathbb{R;\\mathbb{C}}) $. \n",
    "\n",
    "Esto siempre es posible, por ejemplo, se puede escoger la secuencia $f_n = \\sqcap_n f$, que resulta de multiplicar la función por un rect de ancho $n$ y que son integrables, dado que cada $f_n$ decae fuera de un intervalo finito. Esta secuencia converge punto a punto a $f$ y también bajo la norma $L^2$:\n",
    "\n",
    "$$  \\lim_{n \\rightarrow \\infty}  \\| f_n - f\\|_{L^2} = 0 $$\n",
    "\n",
    "Dado que cada $n \\in \\mathbb{N}$, $f_n$ es integrable, su Transformada de Fourier $\\mathcal{F}\n",
    "\\{f_n\\}$ está bien definida:\n",
    "\n",
    "\n",
    "$$  \\mathcal{F}\\{f_n\\} (u) =  \\int_{-n}^{n} f(t)e^{-i 2 \\pi u t} dt $$\n",
    "\n",
    "\n",
    "y pertenece a $L^2(\\mathbb{R;\\mathbb{C}})$ (ver el Teorema de Plancherel-Parseval). La secuencia $(\\mathcal{F}\\{f_n\\})_{n \\in \\mathbb{N}}$ converge en $L^2$ a una función $\\varphi \\in L^2(\\mathbb{R;\\mathbb{C}}) $. Definimos la Transformada de Fourier de $f$ como\n",
    "\n",
    "$$ \\mathcal{F}\\left\\{ f\\right\\} = \\varphi $$\n",
    "\n",
    "tal que\n",
    "\n",
    "$$ \\lim_{n \\rightarrow \\infty}  \\| \\mathcal{F}\\left\\{ f\\right\\}-  \\int_{-n}^{n} f(t)e^{-i 2 \\pi u t} dt   \\|_{L^2} = 0  $$\n"
   ]
  },
  {
   "cell_type": "markdown",
   "metadata": {},
   "source": [
    "## Transformada de Fourier en $L^2(\\mathbb{R;\\mathbb{C}})$\n",
    "\n",
    "Con el objetivo de extender la Transformada de Fourier al espacio de funciones cuadrado integrables $L^2$, usaremos el hecho que $L^1(\\mathbb{R;\\mathbb{C}}) \\cap L^2(\\mathbb{R;\\mathbb{C}}) $ es un subconjunto denso de  $L^2(\\mathbb{R;\\mathbb{C}})$. \n",
    "\n",
    "Esto significa que toda función cuadrado integrable de $L^2(\\mathbb{R;\\mathbb{C}})$ es el límite de una secuencia de funciones integrables para las cuales la Transformada de Fourier, tal como fue definida para $L^1$, se puede aplicar.\n",
    "\n",
    "### Teorema de Fourier-Plancherel\n",
    "<div class=\"alert alert-block alert-info\">\n",
    "Un mapa $A:L^2(\\mathbb{R;\\mathbb{C}}) \\rightarrow L^2(\\mathbb{R;\\mathbb{C}})  $ se dice continuo si para toda secuencia $(f_n)_{n \\in \\mathbb{N}}$ que converge a $f$ en $L^2(\\mathbb{R;\\mathbb{C}})$ (i.e $ \\| f_n - f\\|_{L^2} \\rightarrow 0$ ), $A\\left\\{f_n \\right\\}$ converge a $A\\left\\{f\\right\\}$ en $L^2(\\mathbb{R;\\mathbb{C}})$.\n",
    "\n",
    "El teorema de Fourier-Plancherel dice que existe un mapa único $\\mathcal{F}: L^2(\\mathbb{R;\\mathbb{C}}) \\rightarrow L^2(\\mathbb{R;\\mathbb{C}}) $ que:\n",
    "\n",
    "1. Coincide con la Transformada de Fourier en $L^1(\\mathbb{R;\\mathbb{C}})$ on $L^1(\\mathbb{R;\\mathbb{C}}) \\cap L^2(\\mathbb{R;\\mathbb{C}})$ \n",
    "\n",
    "$$ \\forall f \\in L^1(\\mathbb{R;\\mathbb{C}}) \\cap L^2(\\mathbb{R;\\mathbb{C}}) \\;\\;\\;\\; \\mathcal{F}\\left\\{f \\right\\} $$\n",
    "\n",
    "2. Verifica la identidad de Plancherel-Parseval, es decir para toda $f,g \\in L^2(\\mathbb{R;\\mathbb{C}}) $\n",
    "\n",
    "$$ ( f,g ) = ( \\mathcal{F}\\left\\{f\\right\\}, \\mathcal{F}\\left\\{g\\right\\} )   \\;\\;\\;\\;\\mbox{y} \\;\\;\\;\\; \\| f \\|_{L^2}^2 = \\| \\mathcal{F}\\left\\{f\\right\\} \\|_{L^2}^2   $$\n",
    "\n",
    "3. Es continuo\n",
    "\n",
    "4. Verifica la fórmula inversa, tal que para toda $f \\in  L^2(\\mathbb{R;\\mathbb{C}})$ y casi todo $u \\in \\mathbb{R}$:\n",
    "\n",
    "\\begin{equation}\n",
    "\\mathcal{F}\\left\\{ \\mathcal{F} \\left\\{ f \\right\\}  \\right\\} (u) = f(-u) \n",
    "\\end{equation}\n",
    "\n",
    "El mapa $\\mathcal{F}: L^2(\\mathbb{R;\\mathbb{C}}) \\rightarrow L^2(\\mathbb{R;\\mathbb{C}})$ es, por definición, la Transformada de Fourier en $L^2(\\mathbb{R;\\mathbb{C}})$.\n",
    "</div>"
   ]
  },
  {
   "cell_type": "markdown",
   "metadata": {},
   "source": [
    "### Algunas observaciones\n",
    "\n",
    "Mientras la Transformada de Fourier en $L^1(\\mathbb{R;\\mathbb{C}})$ mapea $L^1(\\mathbb{R;\\mathbb{C}})$ hacia $C^0(\\mathbb{R;\\mathbb{C}})$ (funciones continua y acotadas que decaen a cero en el infinito ), la Transformada de Fourier en $L^2(\\mathbb{R;\\mathbb{C}})$ mapea $L^2(\\mathbb{R;\\mathbb{C}})$ hacia el espacio $L^2$ mismo de tal forma que la norma y el producto interno se conservan.\n",
    "\n",
    "Notamos entonces que la Transformada de Fourier se comporta \"mejor\" en $L^2(\\mathbb{R;\\mathbb{C}})$, por ejemplo, la inversa siempre existe y se puede aplicar. La definición de la Transformada de Fourier, sin embargo, es mucho más complicada para $f \\in L^2(\\mathbb{R;\\mathbb{C}})$ que para $f \\in L^1(\\mathbb{R;\\mathbb{C}})$.\n",
    "\n",
    "\n",
    "Se manera similar, es posible constriur $\\mathcal{F}^{-1}:L^2(\\mathbb{R;\\mathbb{C}}) \\rightarrow L^2(\\mathbb{R;\\mathbb{C}})$, una extensión a $L^2$ de la Transformada inversa en $L^1$. Entonces, para todo  $f \\in L^2(\\mathbb{R;\\mathbb{C}})$\n",
    "\n",
    "$$ \\mathcal{F}^{-1} \\left\\{ \\mathcal{F} \\left\\{ f \\right\\} \\right\\} = f$$\n",
    "\n",
    "Si $\\mathcal{F}\\left\\{f\\right\\}$ es la Transformada de Fourier de $f \\in L^2(\\mathbb{R;\\mathbb{C}}) $, entonces  $\\mathcal{F}\\left\\{f\\right\\}$  no es necesariamente continua sobre $\\mathbb{R}$. El teorema de Riemann-Lebesgue no es válido para la Transformada de Fourier en $L^2(\\mathbb{R;\\mathbb{C}})$.\n",
    "\n"
   ]
  },
  {
   "cell_type": "markdown",
   "metadata": {},
   "source": [
    "***\n",
    "## Ejemplo: Transformada de Fourier de un sinc\n",
    "Sabemos que un rect $\\sqcap(t) \\in L^1(\\mathbb{R;\\mathbb{C}}) \\cap L^2(\\mathbb{R;\\mathbb{C}})$, tal que su Tranformada de Fourier en $L^2$ es igual a su Transformada de Fourier en $L^1$:\n",
    "\n",
    "$$ \\mathcal{F}\\left\\{ \\sqcap  \\right\\} (u) = \\mbox{sinc}\\left( u \\right)   \\;\\;\\;\\; \\in L^2(\\mathbb{R;\\mathbb{C}}) \\notin L^1(\\mathbb{R;\\mathbb{C}})$$\n",
    "\n",
    "Si aplicamos la fórmula inversa:\n",
    "\n",
    "$$ \\mathcal{F}\\left\\{ \\mathcal{F} \\left\\{ \\sqcap  \\right\\}  \\right\\}(u)  = \\sqcap (-u) = \\sqcap (u)   $$\n",
    "\n",
    "podemos encontrar la Transformada de Fourier de un $\\mbox{sinc} $\n",
    " \n",
    "$$ \\mathcal{F}\\left\\{\\mbox{sinc}\\left( t \\right)   \\right\\} (u) =  \\sqcap (u)   $$\n",
    "\n",
    "Es decir\n",
    "\n",
    "$$ \\boxed{\\mbox{sinc(t)} \\rightarrow \\sqcap(u)} $$"
   ]
  },
  {
   "cell_type": "code",
   "execution_count": 6,
   "metadata": {},
   "outputs": [
    {
     "data": {
      "text/latex": [
       "$\\displaystyle \\begin{cases} 0.318309886183791 \\pi & \\text{for}\\: \\frac{2.46740110027234 \\left|{\\frac{1}{u^{2}}}\\right|}{\\pi^{2}} > 1 \\\\0 & \\text{otherwise} \\end{cases}$"
      ],
      "text/plain": [
       "Piecewise((0.318309886183791*pi, 2.46740110027234*Abs(u**(-2))/pi**2 > 1), (0, True))"
      ]
     },
     "execution_count": 6,
     "metadata": {},
     "output_type": "execute_result"
    }
   ],
   "source": [
    "import sympy as sym\n",
    "import matplotlib.pyplot as plt\n",
    "from mpmath import pi\n",
    "\n",
    "t,u = sym.symbols(\"t u\")\n",
    "\n",
    "a = sym.Symbol('a', positive=True)\n",
    "f = sym.sinc(pi*t)\n",
    "F = sym.fourier_transform(f, t, u)\n",
    "F"
   ]
  },
  {
   "cell_type": "code",
   "execution_count": 8,
   "metadata": {},
   "outputs": [
    {
     "data": {
      "image/png": "[encoded data removed]",
      "text/plain": [
       "<Figure size 1080x360 with 2 Axes>"
      ]
     },
     "metadata": {
      "needs_background": "light"
     },
     "output_type": "display_data"
    }
   ],
   "source": [
    "def move_sympyplot_to_axes(p, ax):\n",
    "    backend = p.backend(p)\n",
    "    backend.ax = ax\n",
    "    backend.process_series()\n",
    "    backend.ax.spines['right'].set_color('none')\n",
    "    backend.ax.spines['bottom'].set_position('zero')\n",
    "    backend.ax.spines['top'].set_color('none')\n",
    "    plt.close(backend.fig)\n",
    "    \n",
    "\n",
    "p1 = sym.plot(f,(t, -5,5),show=False,xlabel='$t$',ylabel='',title='$f(t)$')\n",
    "p2 = sym.plot(sym.re(F),(u, -2,2),show=False,xlabel='$u$',ylabel='',title='$F(u)$',legend=True)\n",
    "p3 = sym.plot(sym.im(F),(u, -2,2),show=False,xlabel='$u$',ylabel='',line_color='r')\n",
    "p2.extend(p3)\n",
    "\n",
    "p2[0].label = '$\\operatorname{Re}\\{F(u)\\}$'\n",
    "p3[0].label = '$\\operatorname{Im}\\{F(u)\\}$'\n",
    "\n",
    "\n",
    "fig, (ax,ax2) = plt.subplots(ncols=2,figsize=(15, 5))\n",
    "move_sympyplot_to_axes(p1, ax)\n",
    "move_sympyplot_to_axes(p2, ax2)\n",
    "plt.show()"
   ]
  },
  {
   "cell_type": "markdown",
   "metadata": {},
   "source": [
    "## Ejemplo: Transformada de Fourier de $f(t)=1/(a+i2\\pi t)$\n",
    "\n",
    "La exponencial lateral $ g(t)=e^{-at}\\vcenter{{\\large \\ulcorner}}(t)$, donde $u(t)$ es el escalón de Heaviside y $a >0$ pertenece a $L^1(\\mathbb{R;\\mathbb{C}}) \\cap L^2(\\mathbb{R;\\mathbb{C}})$. Su Transformada de Fourier en $L^2$ es igual a su Transformada de Fourier en $L^1$:\n",
    "\n",
    "$$ \\mathcal{F}\\left\\{  e^{-at}\\vcenter{{\\large \\ulcorner}}(t)  \\right\\} = \\mathcal{F}\\{  e^{-at}\\vcenter{{\\large \\ulcorner}}(t) \\} = \\frac{1}{a+i 2 \\pi u} \\;\\;\\;\\; \\in  L^2(\\mathbb{R;\\mathbb{C}}) \\notin L^1(\\mathbb{R;\\mathbb{C}})  $$\n",
    "\n",
    "Aplicando la fórmula inversa tenemos:\n",
    "\n",
    "\n",
    "$$ \\mathcal{F}\\left\\{ \\mathcal{F} \\left\\{ e^{-a u}\\vcenter{{\\large \\ulcorner}}(t)  \\right\\}  \\right\\} (u) = g(-u) = e^{a u}\\vcenter{{\\large \\ulcorner}}(-u)   $$\n",
    "\n",
    "\n",
    "podemos encontrar la Transformada de Fourier de $1/(a+i 2\\pi t) \\in L^2(\\mathbb{R;\\mathbb{C}})$\n",
    " \n",
    "$$ \\mathcal{F}\\left\\{ \\frac{1}{a+i 2 \\pi t} \\right\\} (u) =  e^{a u}\\vcenter{{\\large \\ulcorner}}(-u)   $$\n",
    "\n",
    "y más suscintamente:\n",
    "\n",
    "$$ \\boxed{\\frac{1}{a+i 2 \\pi t} \\rightarrow e^{a u}\\vcenter{{\\large \\ulcorner}}(-u)}   $$"
   ]
  },
  {
   "cell_type": "markdown",
   "metadata": {},
   "source": [
    "***\n",
    "## Definición integral de la Transformada de Fourier en $L^2(\\mathbb{R;\\mathbb{C}})$ \n",
    "Sea $f \\in L^2(\\mathbb{R;\\mathbb{C}})$, su Transformada de Fourier $\\mathcal{F}(f) \\in   L^2(\\mathbb{R;\\mathbb{C}})$ es tal que \n",
    "\n",
    "$$ \\lim_{N \\rightarrow \\infty}  \\| \\mathcal{F}\\left\\{ f\\right\\}-  \\int_{-N}^{N} f(t)e^{-i 2 \\pi u t} dt   \\|_{L^2} = 0  $$\n",
    "\n",
    "Notamos, sin embargo, que en general no hay convergencia punto a punto:\n",
    "\n",
    "$$    \\mathcal{F}\\left\\{ f\\right\\}(u) \\neq \\lim_{N \\rightarrow \\infty}  \\int_{-N}^{N} f(t)e^{-i 2 \\pi u t} dt    $$\n",
    "\n",
    "A continuación mostraremos que, en algunos casos, la convergencia punto a punto se verifica, lo que permite escribir la Transformada de Fourier en $L^2$ como el límite de una integral.\n",
    "\n",
    "Sea $f \\in L^2(\\mathbb{R;\\mathbb{C}})$. Si para casi todo $u \\in \\mathbb{R}$ la integral\n",
    "\n",
    "$$  \\int_{-N}^{N} f(t) e^{-i 2 \\pi u t} dt $$\n",
    "\n",
    "converge punto a punto a un límite $\\varphi(u)$ cuando $N \\rightarrow \\infty$, entonces para casi todo $u \\in \\mathbb{R}$:\n",
    "\n",
    "\\begin{equation}\n",
    "\\boxed{ \\mathcal{F}\\left\\{f\\right\\} (u) = \\lim_{N \\rightarrow \\infty} \\int_{-N}^{N} f(t) e^{-i 2\\pi u t} dt  }\n",
    "\\end{equation}\n",
    "\n",
    "\n",
    "## Definición integral de la Transformada Inversa de Fourier en $L^2(\\mathbb{R;\\mathbb{C}})$ \n",
    "\n",
    "Sea $f \\in L^2(\\mathbb{R;\\mathbb{C}})$. Entonces $ \\mathcal{F}\\left\\{ f \\right\\}(u)\\sqcap_N \\in L^1(\\mathbb{R;\\mathbb{C}}) \\cap L^2(\\mathbb{R;\\mathbb{C}}) $ y supongamos su transformada inversa\n",
    "\n",
    "$$ f_N(t) =  \\int_{-N}^{N} \\mathcal{F}\\left\\{ f \\right\\}(u)  e^{i 2\\pi u t}d\\omega \\;\\;\\; \\in  L^2(\\mathbb{R;\\mathbb{C}}) $$\n",
    "\n",
    "converge para casi todo $t \\in \\mathbb{R}$ hacia un límite  $\\varphi(t)$, entonces para casi todo $t \\in \\mathbb{R}$\n",
    "\n",
    "\\begin{equation}\n",
    "\\boxed{  f(t) =  \\lim_{N \\rightarrow \\infty} \\int_{-N}^{N} \\mathcal{F}\\left\\{ f \\right\\}(u) e^{i 2 \\pi u t} dt   }\n",
    "\\end{equation}\n"
   ]
  },
  {
   "cell_type": "markdown",
   "metadata": {},
   "source": [
    "## Propiedades de la Transformada de Fourier en $L^2$\n",
    "\n",
    "### Desplazamiento y escalamiento\n",
    "\n",
    "Las propiedades de desplazamiento y escalamiento son válidas para la Transformada de Fourier en $L^2(\\mathbb{R;\\mathbb{C}})$. Sea $f \\in L^2(\\mathbb{R};\\mathbb{C}) $, entonces:\n",
    "\n",
    "\n",
    "\\begin{equation}\n",
    "\\boxed{\\mathcal{F}\\{f\\}(t-a) = e^{-i 2 \\pi a u} \\mathcal{F}\\{f\\}(u)}  \\;\\;\\;\\;\\; \\mbox{y}\\;\\;\\;\\;\\;  \\boxed{\\mathcal{F}\\{e^{i 2 \\pi at}f(t)\\} = \\mathcal{F}\\{f\\}(u-a)}\n",
    "\\end{equation}\n",
    "\n",
    "\\begin{equation}\n",
    "\\boxed{\\mathcal{F}\\{f\\}(at) = \\frac{1}{|a|}\\mathcal{F}\\{f\\}(\\frac{u}{a})}\n",
    "\\end{equation}\n",
    "\n"
   ]
  },
  {
   "cell_type": "markdown",
   "metadata": {},
   "source": [
    "### Derivada\n",
    "\n",
    "Sea $f \\in L^2(\\mathbb{R};\\mathbb{C}) $. Si $f \\in C^1(\\mathbb{R};\\mathbb{C})$ y $f' \\in  L^2(\\mathbb{R};\\mathbb{C})$, entonces:\n",
    "\n",
    "\\begin{equation}\n",
    "\\boxed{\\mathcal{F}\\left\\{ \\frac{d  f (t)}{dt} \\right\\}(u)  = i 2 \\pi u \\mathcal{F}\\left\\{ f \\right\\}(u)}\n",
    "\\end{equation}\n",
    "\n",
    "Vemos que esto en análogo a la derivación en el tiempo del caso de la Transformada de Fourier en $L^1$. \n",
    "\n",
    "Notamos, sin embargo, que no hay equivalente para la derivación en frecuencia del caso $L^1$, dado que   $tf \\in  L^2(\\mathbb{R};\\mathbb{C})$ no implica que $\\mathcal{F}\\left\\{f\\right\\}$ sea $C^1(\\mathbb{R};\\mathbb{C})$."
   ]
  },
  {
   "cell_type": "markdown",
   "metadata": {},
   "source": [
    "### Convolución\n",
    "\n",
    "Si $f \\in  L^1(\\mathbb{R};\\mathbb{C})$ y $g\\in  L^2(\\mathbb{R};\\mathbb{C})$, entonces la convolución es una función cuadrado integrable, $f \\ast g  \\in  L^2(\\mathbb{R};\\mathbb{C})$ y su Transformada de Fourier es:\n",
    "\n",
    "\\begin{equation}\n",
    "\\boxed{\\mathcal{F}\\left\\{f \\ast g  \\right\\}(u) = \\{\\mathcal{F} \\left\\{ f \\right\\}\\mathcal{F} \\left\\{ g \\right\\}\\}(u)}\n",
    "\\end{equation}\n",
    "\n",
    "\n",
    "### Multiplicación\n",
    "Si $f,g \\in L^2(\\mathbb{R};\\mathbb{C})$, entonces el producto $fg$ es integrable, $fg \\in L^1(\\mathbb{R};\\mathbb{C})$ y se tiene que:\n",
    "\n",
    "\\begin{equation}\n",
    "\\boxed{\\mathcal{F}\\{f g\\}(u)= \\{\\mathcal{F} \\left\\{ f \\right\\} \\ast \\mathcal{F} \\left\\{ g \\right\\}\\}(u)}\n",
    "\\end{equation}\n",
    "\n",
    "\n",
    "### Desigualdad de Heisenberg\n",
    "Sea $f \\in   L^2(\\mathbb{R};\\mathbb{C}) $ y  $f \\in   C^{1}(\\mathbb{R};\\mathbb{C}) $ tal que $tf, df/dt \\in  L^2(\\mathbb{R};\\mathbb{C})$. Entonces:\n",
    "\n",
    "\\begin{equation}\n",
    "\\left( \\int_{\\mathbb{R}} t^2 |f(t)|^2 dt \\right)^{1/2} \\left( \\int_{\\mathbb{R}} |\\frac{df(t)}{dt}|^2 dt   \\right)^{1/2} \\geq  \\frac{1}{2}\\left\\| f \\right\\|^{2}_{L^2}\n",
    "\\end{equation}\n",
    "\n",
    "y esto es equivalente a: \n",
    "\n",
    "\\begin{equation}\n",
    "\\left( \\int_{\\mathbb{R}} t^2 |f(t)|^2 dt \\right)^{1/2} \\left( \\int_{\\mathbb{R}} u^2 | \\mathcal{F}\\{f \\}(u) |^2 du   \\right)^{1/2} \\geq  \\left\\| f \\right\\|^2_{L^2}\n",
    "\\end{equation}\n",
    "\n",
    "o, equivalentemente:\n",
    "$$  \\boxed{\\left\\| t f \\right\\|_{L^2}  \\left\\| u \\mathcal{F}\\{f\\} \\right\\|_{L^2} \\geq \\left\\|  f \\right\\|_{L^2}^2} $$\n"
   ]
  },
  {
   "cell_type": "markdown",
   "metadata": {
    "nbsphinx": "hidden"
   },
   "source": [
    "<div class=\"alert alert-block alert-warning\">\n",
    "<b>Copyright</b><br>\n",
    "\n",
    "Estos apuntes están licenciados bajo la licencia <a href=\"https://creativecommons.org/licenses/by/4.0/\">Creative Commons Attribution 4.0</a>.<br>\n",
    "Como citar: <i>Rodrigo F. Cádiz, Apuntes de Señales y Sistemas.</i>\n",
    "</div>"
   ]
  }
 ],
 "metadata": {
  "kernelspec": {
   "display_name": "Python 3",
   "language": "python",
   "name": "python3"
  },
  "language_info": {
   "codemirror_mode": {
    "name": "ipython",
    "version": 3
   },
   "file_extension": ".py",
   "mimetype": "text/x-python",
   "name": "python",
   "nbconvert_exporter": "python",
   "pygments_lexer": "ipython3",
   "version": "3.7.7"
  },
  "nbTranslate": {
   "displayLangs": [
    "*"
   ],
   "hotkey": "alt-t",
   "langInMainMenu": true,
   "sourceLang": "en",
   "targetLang": "fr",
   "useGoogleTranslate": true
  }
 },
 "nbformat": 4,
 "nbformat_minor": 1
}
